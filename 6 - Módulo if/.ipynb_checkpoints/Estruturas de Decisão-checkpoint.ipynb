{
 "cells": [
  {
   "cell_type": "markdown",
   "id": "8535c274",
   "metadata": {
    "id": "8535c274"
   },
   "source": [
    "# Estruturas de decisão\n",
    "\n",
    "<span style=\"color: red;\"><b>Todos os exercícios são feitos partindo-se do pressuposto de que todas as entradas são dadas de forma correta. Casos limite não mencionados no enunciado não são abordados porque não fazem parte do exercício.</b></span>"
   ]
  },
  {
   "cell_type": "markdown",
   "id": "9c3d817e",
   "metadata": {
    "id": "9c3d817e"
   },
   "source": [
    "#### 1. Faça um Programa que peça dois números e imprima o maior deles."
   ]
  },
  {
   "cell_type": "code",
   "execution_count": 7,
   "id": "ae45c028",
   "metadata": {
    "id": "ae45c028"
   },
   "outputs": [
    {
     "name": "stdout",
     "output_type": "stream",
     "text": [
      "Digite o 1º número: 1\n",
      "Digite o 2º número: 1\n",
      "Os dois números digitados são iguais\n"
     ]
    }
   ],
   "source": [
    "num1 = int(input('Digite o 1º número: '))\n",
    "num2 = int(input('Digite o 2º número: '))\n",
    "\n",
    "if num1 > num2:\n",
    "    resultado = num1\n",
    "    print (f'O 1º número é maior que 1º. Número digitado:{resultado}')\n",
    "elif num1 == num2:\n",
    "    print(f'Os dois números digitados são iguais')\n",
    "    \n",
    "else:\n",
    "    resultado = num2\n",
    "    print(f'O 2º número é maior que 1º. Número digitado: {resultado}')"
   ]
  },
  {
   "cell_type": "markdown",
   "id": "ff510803",
   "metadata": {
    "id": "ff510803"
   },
   "source": [
    "#### 2. Faça um Programa que peça um valor e mostre na tela se o valor é positivo ou negativo."
   ]
  },
  {
   "cell_type": "code",
   "execution_count": 18,
   "id": "8952f58f",
   "metadata": {
    "id": "8952f58f"
   },
   "outputs": [
    {
     "name": "stdout",
     "output_type": "stream",
     "text": [
      "Digite o valor: -3\n",
      "O número -3 é negativo.\n",
      "FIM!\n"
     ]
    }
   ],
   "source": [
    "valor = int(input('Digite o valor: '))\n",
    "\n",
    "if valor > 0:\n",
    "    resultado = 'positivo'\n",
    "elif valor == 0:\n",
    "    resultado = 'neutro'\n",
    "else:\n",
    "    resultado = 'negativo'  \n",
    "    \n",
    "print (f'O número {valor} é {resultado}.')\n",
    "print('FIM!')\n"
   ]
  },
  {
   "cell_type": "markdown",
   "id": "6966546b",
   "metadata": {
    "id": "6966546b"
   },
   "source": [
    "#### 3. Faça um Programa que verifique o estado civil de uma pessoa. Se a letra digitada é \"C\" (Casado), \"S\" (Solteiro), \"D\" (Divorciado), \"V\" (Viúvo) ou \"O\" (outros). Conforme a letra escrita pelo usuário seu programa deve escrever o estado civil, exemplo:\n",
    "\n",
    "Usuário digita: C\n",
    "\n",
    "Seu programa deve responder:\n",
    "C - Casado"
   ]
  },
  {
   "cell_type": "code",
   "execution_count": 32,
   "id": "876a1e67",
   "metadata": {
    "id": "876a1e67"
   },
   "outputs": [
    {
     "name": "stdout",
     "output_type": "stream",
     "text": [
      "Digite a letra referente a seu estado civil: SDAFA\n",
      "Resultado Outros\n"
     ]
    }
   ],
   "source": [
    "estado_civil = str(input('Digite a letra referente a seu estado civil: '))\n",
    "\n",
    "if estado_civil == 'C':\n",
    "    resultado = \"Casado\"\n",
    "elif estado_civil == 'S':\n",
    "    resultado = \"Solteiro\"\n",
    "elif estado_civil == 'D':\n",
    "    resultado = \"Divorciado\"\n",
    "elif estado_civil == 'V':\n",
    "    resultado = \"Viúvo\"\n",
    "else:\n",
    "    resultado = \"Outros\"\n",
    "print(f'Resultado {resultado}')"
   ]
  },
  {
   "cell_type": "markdown",
   "id": "c122c0cf",
   "metadata": {
    "id": "c122c0cf"
   },
   "source": [
    "#### 4. Faça um Programa que verifique se o e-mail digitado faz parte dos e-mails de spam."
   ]
  },
  {
   "cell_type": "code",
   "execution_count": 35,
   "id": "59bed184",
   "metadata": {
    "id": "59bed184"
   },
   "outputs": [
    {
     "name": "stdout",
     "output_type": "stream",
     "text": [
      "Digite seu e-mail:thiarly.cavalcante@live.com\n",
      "E-mail: thiarly.cavalcante@live.com foi cadastrado com sucesso.\n"
     ]
    }
   ],
   "source": [
    "email = str(input('Digite seu e-mail:' ))\n",
    "\n",
    "if email in \"fulano@gmail.com,beltrano@gmail.com,ciclano@gmail.com\":\n",
    "    print (f'E-mail descartado, o {email} é um SPAM.')\n",
    "else:\n",
    "    print(f'E-mail: {email} foi cadastrado com sucesso.')\n",
    "#emails_spam = \"fulano@gmail.com,beltrano@gmail.com,ciclano@gmail.com\"\n"
   ]
  },
  {
   "cell_type": "markdown",
   "id": "487ee073",
   "metadata": {
    "id": "487ee073"
   },
   "source": [
    "#### 5. Faça um programa para a leitura de duas notas parciais de um aluno. O programa deve calcular a média alcançada por aluno e apresentar:\n",
    "\n",
    "##### A mensagem \"Aprovado\", se a média alcançada for maior ou igual a sete;\n",
    "##### A mensagem \"Reprovado\", se a média for menor do que sete;\n",
    "##### A mensagem \"Aprovado com Distinção\", se a média for igual a dez."
   ]
  },
  {
   "cell_type": "code",
   "execution_count": 3,
   "id": "7f5c7096",
   "metadata": {
    "id": "7f5c7096"
   },
   "outputs": [
    {
     "name": "stdout",
     "output_type": "stream",
     "text": [
      "Digita a 1º nota: 10\n",
      "Digite a 2º nota: 10\n",
      "Aprovado com Distinção!\n"
     ]
    }
   ],
   "source": [
    "nota1 = float(input('Digita a 1º nota: '))\n",
    "nota2 = float(input('Digite a 2º nota: '))\n",
    "\n",
    "media = (nota1 + nota2) / 2\n",
    "\n",
    "if media >= 7:\n",
    "    if media < 10:\n",
    "        print('Aprovado!')\n",
    "    if media == 10:\n",
    "        print('Aprovado com Distinção!')\n",
    "else:\n",
    "    print ('Reprovado!')\n",
    "    \n"
   ]
  },
  {
   "cell_type": "markdown",
   "id": "6dd3f171",
   "metadata": {
    "id": "6dd3f171"
   },
   "source": [
    "#### 6. Faça um Programa que leia o orçamento de 3 empresas e mostre o maior deles."
   ]
  },
  {
   "cell_type": "code",
   "execution_count": 47,
   "id": "51b591e5",
   "metadata": {
    "id": "51b591e5"
   },
   "outputs": [
    {
     "name": "stdout",
     "output_type": "stream",
     "text": [
      "Digite o 1º orçamento: 7\n",
      "Digite o 2º orçamento: 7\n",
      "Digite o 3º orçamento: 6\n"
     ]
    }
   ],
   "source": [
    "orcamento1 = (input('Digite o 1º orçamento: '))\n",
    "orcamento2 = (input('Digite o 2º orçamento: '))\n",
    "orcamento3 = (input('Digite o 3º orçamento: '))\n",
    "\n",
    "if orcamento1 and orcamento2 and orcamento3:\n",
    "    orcamento1 = int (orcamento1)\n",
    "    orcamento2 = int (orcamento2)\n",
    "    orcamento3 = int (orcamento3)\n",
    "    \n",
    "    if orcamento1 > orcamento3 and orcamento1 > orcamento2:\n",
    "        print(f'O 1º orçamento é maior com valor R$: {orcamento1}.')\n",
    "    if orcamento2 > orcamento3 and orcamento2 > orcamento1:\n",
    "        print(f'O 2º orçamento é maior com valor R$:{orcamento2}.')\n",
    "    if orcamento3 > orcamento2 and orcamento3 > orcamento1:\n",
    "         print(f'O 3º orçamento é maior com valor R$:{orcamento3}.')\n",
    "        \n",
    "else:\n",
    "    print (f'Preencha todos os campos.')\n",
    "    \n",
    "    \n",
    "    \n",
    "    #print(f'Os orçamentos 1, 2 e 3 são todos iguais com esse valor R$:{orcamento1} são iguais.')"
   ]
  },
  {
   "cell_type": "markdown",
   "id": "ce09ed1c",
   "metadata": {
    "id": "ce09ed1c"
   },
   "source": [
    "#### 7. Faça um Programa que leia três orçamentos e mostre o maior e o menor deles."
   ]
  },
  {
   "cell_type": "code",
   "execution_count": 51,
   "id": "249f1eb8",
   "metadata": {
    "id": "249f1eb8"
   },
   "outputs": [
    {
     "name": "stdout",
     "output_type": "stream",
     "text": [
      "Digite o 1º orçamento: 7\n",
      "Digite o 2º orçamento: 8\n",
      "Digite o 3º orçamento: 5\n",
      "O 3º orçamento é maior com valor R$:5.0.\n",
      "O 3º orçamento é o menor valor R$:5.0.\n"
     ]
    }
   ],
   "source": [
    "orcamento1 = (input('Digite o 1º orçamento: '))\n",
    "orcamento2 = (input('Digite o 2º orçamento: '))\n",
    "orcamento3 = (input('Digite o 3º orçamento: '))\n",
    "\n",
    "if orcamento1 and orcamento2 and orcamento3:\n",
    "    orcamento1 = float (orcamento1)\n",
    "    orcamento2 = float (orcamento2)\n",
    "    orcamento3 = float (orcamento3)\n",
    "    \n",
    "    #orçamento maior\n",
    "    if orcamento1 < orcamento3 and orcamento1 < orcamento2:\n",
    "        print(f'O 1º orçamento é maior com valor R$: {orcamento1}.')\n",
    "    if orcamento2 < orcamento3 and orcamento2 < orcamento1:\n",
    "        print(f'O 2º orçamento é maior com valor R$:{orcamento2}.')\n",
    "    if orcamento3 < orcamento2 and orcamento3 < orcamento1:\n",
    "         print(f'O 3º orçamento é maior com valor R$:{orcamento3}.')\n",
    "            \n",
    "            \n",
    "    #orçamento menor\n",
    "    if orcamento1 < orcamento3 and orcamento1 < orcamento2:\n",
    "        print(f'O 1º orçamento é o menor valor R$: {orcamento1}.')\n",
    "    if orcamento2 < orcamento3 and orcamento2 < orcamento1:\n",
    "        print(f'O 2º orçamento é o menor valor R$:{orcamento2}.')\n",
    "    if orcamento3 < orcamento2 and orcamento3 < orcamento1:\n",
    "         print(f'O 3º orçamento é o menor valor R$:{orcamento3}.')\n",
    "    \n",
    "  \n",
    "    \n",
    "            \n",
    "            \n",
    "        \n",
    "else:\n",
    "    print (f'Preencha todos os campos.')"
   ]
  },
  {
   "cell_type": "markdown",
   "id": "7453d43a",
   "metadata": {
    "id": "7453d43a"
   },
   "source": [
    "#### 8. Faça um programa que pergunte o preço de três produtos e informe qual produto você deve comprar, sabendo que a decisão é sempre pelo mais barato."
   ]
  },
  {
   "cell_type": "code",
   "execution_count": 64,
   "id": "26a9503e",
   "metadata": {
    "id": "26a9503e"
   },
   "outputs": [
    {
     "name": "stdout",
     "output_type": "stream",
     "text": [
      "Informe o preço do 1º produto: 45\n",
      "Informe o preço do 2º produto: 688\n",
      "Compre o produto 1º produto, está mais barato.\n"
     ]
    }
   ],
   "source": [
    "produto1 = float(input('Informe o preço do 1º produto: '))\n",
    "produto2 = float(input('Informe o preço do 2º produto: '))\n",
    "\n",
    "if produto1 < produto2:\n",
    "    #produto1 = float(produto1)\n",
    "    #produto2 = float(produto2)\n",
    "    print (f'Compre o produto 1º produto, está mais barato.')\n",
    "else:\n",
    "     print (f'Compre o produto 2º produto, está mais barato.')"
   ]
  },
  {
   "cell_type": "markdown",
   "id": "9ade258f",
   "metadata": {
    "id": "9ade258f"
   },
   "source": [
    "#### 9. Faça um Programa que leia três números e mostre-os em ordem decrescente."
   ]
  },
  {
   "cell_type": "code",
   "execution_count": 80,
   "id": "f194c39e",
   "metadata": {
    "id": "f194c39e"
   },
   "outputs": [
    {
     "name": "stdout",
     "output_type": "stream",
     "text": [
      "Digite o primeiro número:9\n",
      "Digite o segundo número:6\n",
      "Digite o terceiro número:3\n",
      "Sequencia descrescente 3, 6, 9\n"
     ]
    }
   ],
   "source": [
    "num1 = int(input('Digite o primeiro número:'))\n",
    "num2 = int(input('Digite o segundo número:'))\n",
    "num3 = int(input('Digite o terceiro número:'))\n",
    "\n",
    "if num1 < num2 and num1 < num3 and num2 < num3:\n",
    "    print(f'Sequencia descrescente {num1}, {num2}, {num3}')\n",
    "elif num1 < num2 and num1 < num3 and num3 < num2:\n",
    "    print(f'Sequencia descrescente {num1}, {num3}, {num2}')\n",
    "\n",
    "elif num2 < num1 and num2 < num3 and num1 < num3:\n",
    "    print(f'Sequencia descrescente {num2}, {num1}, {num3}')\n",
    "    \n",
    "elif num2 < num1 and num2 < num3 and num3 < num1:\n",
    "    print(f'Sequencia descrescente {num2}, {num3}, {num1}')\n",
    "\n",
    "elif num3 < num1 and num3 < num2 and num1 < num2:\n",
    "    print(f'Sequencia descrescente {num3}, {num1}, {num2}')\n",
    "    \n",
    "elif num3 < num1 and num3 < num2 and num2 < num1:\n",
    "    print(f'Sequencia descrescente {num3}, {num2}, {num1}')\n",
    "\n",
    "\n",
    "\n",
    "    \n",
    "    \n",
    "    \n",
    "    \n",
    "    \n",
    "    \n",
    "    \n",
    "    \n",
    "    \n",
    "    \n",
    "    \n",
    "    "
   ]
  },
  {
   "cell_type": "markdown",
   "id": "d06e2fe8",
   "metadata": {
    "id": "d06e2fe8"
   },
   "source": [
    "#### 10. Faça um Programa que pergunte em que turno você estuda. Peça para digitar M-matutino ou V-Vespertino ou N- Noturno. Imprima a mensagem \"Bom Dia!\", \"Boa Tarde!\" ou \"Boa Noite!\" ou \"Valor Inválido!\", conforme o caso."
   ]
  },
  {
   "cell_type": "code",
   "execution_count": 9,
   "id": "1eb36141",
   "metadata": {
    "id": "1eb36141"
   },
   "outputs": [
    {
     "name": "stdout",
     "output_type": "stream",
     "text": [
      "Qual a letra do seu turno de Estudo M, V, N:N\n",
      "BOA NOITE!\n"
     ]
    }
   ],
   "source": [
    "turno = input('Qual a letra do seu turno de Estudo M, V, N:')\n",
    "\n",
    "if turno in \"M, V, N\":\n",
    "    \n",
    "    if turno == \"M\":\n",
    "        print('BOM DIA!')\n",
    "    if turno == \"V\":\n",
    "        print('BOA TARDE!')\n",
    "    if turno == \"N\":\n",
    "        print('BOA NOITE!')\n",
    "else: \n",
    "    print('Valor inválido')\n"
   ]
  },
  {
   "cell_type": "markdown",
   "id": "4864b755",
   "metadata": {
    "id": "4864b755"
   },
   "source": [
    "#### 11. As Organizações Tabajara resolveram dar um aumento de salário aos seus colaboradores e lhe contraram para desenvolver o programa que calculará os reajustes. Faça um programa que recebe o salário de um colaborador e o reajuste segundo o seguinte critério, baseado no salário atual:\n",
    "\n",
    "##### salários até R\\\\$ 280,00 (incluindo) : aumento de 20% \n",
    "\n",
    "##### salários entre R\\\\$ 280,00 e R\\\\$ 700,00 : aumento de 15% \n",
    "\n",
    "##### salários entre R\\\\$ 700,00 e R\\\\$ 1500,00 : aumento de 10% \n",
    "\n",
    "##### salários de R\\\\$ 1500,00 em diante : aumento de 5% Após o aumento ser realizado, informe na tela: \n",
    "\n",
    "###### o salário antes do reajuste;\n",
    "\n",
    "###### o percentual de aumento aplicado;\n",
    "\n",
    "###### o valor do aumento;\n",
    "\n",
    "###### o novo salário, após o aumento.\n",
    "\n",
    "###### Obs: Não vamos nos preocupar tanto com a formatação dos números (nº de casas decimais, por exemplo, veremos isso no próximo módulo)"
   ]
  },
  {
   "cell_type": "code",
   "execution_count": 5,
   "id": "f0d34916",
   "metadata": {
    "id": "f0d34916"
   },
   "outputs": [
    {
     "name": "stdout",
     "output_type": "stream",
     "text": [
      "Digite o salário: 14700\n",
      "Salário antes do reajuste: $14700.0, reajuste foi 0.05% o aumento foi 735.0\n",
      "O novo salário: R$ 15435.0\n"
     ]
    }
   ],
   "source": [
    "salario = float(input('Digite o salário: '))\n",
    "\n",
    "if salario > 0:\n",
    "    if salario <= 280:\n",
    "        reajuste = 0.20\n",
    "        aumento = 0.20 * salario\n",
    "        novo_salario = aumento + salario\n",
    "   \n",
    "    elif salario <= 700:\n",
    "        reajuste = 0.15\n",
    "        aumento = 0.15 * salario\n",
    "        novo_salario = aumento + salario\n",
    "    \n",
    "        \n",
    "    elif salario <= 1500:\n",
    "        reajuste = 0.10\n",
    "        aumento = 0.10 * salario\n",
    "        novo_salario = aumento + salario\n",
    "\n",
    "        \n",
    "    elif salario > 1500:\n",
    "        reajuste = 0.05\n",
    "        aumento = 0.05 * salario\n",
    "        novo_salario = aumento + salario\n",
    "   \n",
    "\n",
    "    print ((f'Salário antes do reajuste: ${salario}, reajuste foi {reajuste}% o aumento foi {aumento}'))\n",
    "    print (f'O novo salário: R$ {novo_salario}')\n",
    "    "
   ]
  },
  {
   "cell_type": "markdown",
   "id": "b037f1e8",
   "metadata": {
    "id": "b037f1e8"
   },
   "source": [
    "#### 12 . Faça um programa para o cálculo de uma folha de pagamento, sabendo que os descontos são do Imposto de Renda, que depende do salário bruto (conforme tabela abaixo) e que o FGTS corresponde a 11% do Salário Bruto, mas não é descontado (é a empresa que deposita). O Salário Líquido corresponde ao Salário Bruto menos os descontos. O programa deverá pedir ao usuário o valor da sua hora e a quantidade de horas trabalhadas no mês.\n",
    "\n",
    "Desconto do IR:<br>\n",
    "Salário Bruto até 900 (inclusive) - isento<br>\n",
    "Salário Bruto até 1500 (inclusive) - desconto de 5%<br>\n",
    "Salário Bruto até 2500 (inclusive) - desconto de 10%<br>\n",
    "Salário Bruto acima de 2500 - desconto de 20%<br>\n",
    "Imprima na tela as informações, dispostas conforme o exemplo abaixo. No exemplo o valor da hora é 5 e a quantidade de hora é 220.\n",
    "\n",
    "Salário Bruto: (5 * 220)        : R\\\\$ 1100,00<br>\n",
    "(-) IR (5%)                     : R\\\\$   55,00<br>\n",
    "(-) INSS ( 10%)                 : R\\\\$  110,00<br>\n",
    "FGTS (11%)                      : R\\\\$  121,00<br>\n",
    "Total de descontos              : R\\\\$  165,00<br>\n",
    "Salário Liquido                 : R\\\\$  935,00<br>\n",
    "\n",
    "###### Obs: Não vamos nos preocupar tanto com a formatação dos números (nº de casas decimais, por exemplo, veremos isso no próximo módulo)"
   ]
  },
  {
   "cell_type": "code",
   "execution_count": 15,
   "id": "dad18bb2",
   "metadata": {
    "id": "dad18bb2"
   },
   "outputs": [
    {
     "name": "stdout",
     "output_type": "stream",
     "text": [
      "Digite o valor da hora de trabalho R$: 5\n",
      "Quantas horas trabalhou esse mês?:220\n",
      "Salário bruto R$ 1100.0\n",
      "Desconto do IR R$: 55.0\n",
      "Desconto do INSS R$:110.0\n",
      "Desconto do FGTS R$: 121.0\n",
      "Total de descontos: R$ 165.0, a empresa faz o desposito do FGTS.\n",
      "Salário Liquido R$: 935.0\n"
     ]
    }
   ],
   "source": [
    "valor_hora = float(input('Digite o valor da hora de trabalho R$: '))\n",
    "trabalho_hora = float(input('Quantas horas trabalhou esse mês?:'))\n",
    "\n",
    "salario = valor_hora * trabalho_hora\n",
    "descontos = ir + inss\n",
    "salario_liquido = salario - descontos\n",
    "\n",
    "if salario <= 900:\n",
    "    ir == 0\n",
    "    inss = salario * 0.10\n",
    "    fgts = salario * 0.11\n",
    "    \n",
    "elif salario <=1500:\n",
    "    ir = salario * 0.05\n",
    "    inss = salario * 0.10\n",
    "    fgts = salario * 0.11\n",
    "    \n",
    "elif salario <=2500:\n",
    "    ir = salario * 0.10\n",
    "    inss = salario * 0.10\n",
    "    fgts = salario * 0.11\n",
    "    \n",
    "else:\n",
    "    ir = salario * 0.20\n",
    "    inss = salario * 0.10\n",
    "    fgts = salario * 0.11\n",
    "    \n",
    "\n",
    "print(f'Salário bruto R$ {salario}')\n",
    "print(f'Desconto do IR R$: {ir}')\n",
    "print(f'Desconto do INSS R$:{inss}')\n",
    "print(f'Desconto do FGTS R$: {fgts}')\n",
    "print (f'Total de descontos: R$ {descontos}, a empresa faz o desposito do FGTS.')\n",
    "print(f'Salário Liquido R$: {salario_liquido}')\n",
    "\n"
   ]
  },
  {
   "cell_type": "markdown",
   "id": "814fc211",
   "metadata": {
    "id": "814fc211"
   },
   "source": [
    "#### 13. Faça um Programa que leia um número e exiba o dia correspondente da semana. (1-Domingo, 2- Segunda, etc.), se digitar outro valor deve aparecer valor inválido."
   ]
  },
  {
   "cell_type": "code",
   "execution_count": 48,
   "id": "f2c2b8d8",
   "metadata": {
    "id": "f2c2b8d8"
   },
   "outputs": [
    {
     "name": "stdout",
     "output_type": "stream",
     "text": [
      "Digite o valor de 1 a 7: 0\n",
      "Valor inválido!\n"
     ]
    }
   ],
   "source": [
    "valor = float(input('Digite o valor de 1 a 7: '))\n",
    "\n",
    "if valor > 7:\n",
    "    print('Valor inválido!')\n",
    "\n",
    "elif valor == 1:\n",
    "    print (f'1 = Domingo')\n",
    "elif valor == 2:\n",
    "    print (f'2 = Segunda')\n",
    "elif valor == 3:\n",
    "    print (f'3 = Terça-Feira')\n",
    "elif valor == 4:\n",
    "    print (f'4 = Quarta-Feira')\n",
    "elif valor == 5:\n",
    "    print (f'5 = Quinta-Feira')\n",
    "elif valor == 6:\n",
    "    print (f'6 = Sexta-Feira')\n",
    "elif valor == 7:\n",
    "    print (f'7 = Sábado')\n",
    "    \n",
    "else:\n",
    "    print('Valor inválido!')\n",
    "\n",
    "\n",
    "        \n",
    "\n",
    "    \n",
    "\n"
   ]
  },
  {
   "cell_type": "markdown",
   "id": "6e5f461e",
   "metadata": {
    "id": "6e5f461e"
   },
   "source": [
    "#### 14. Faça um programa que lê as duas notas parciais obtidas por um aluno numa disciplina ao longo de um semestre, e calcule a sua média. Em seguida, mostre qual conceito o aluno teve. A atribuição de conceitos obedece à tabela abaixo:\n",
    "<pre>\n",
    "Média de Aproveitamento  Conceito\n",
    "Entre 9.0 e 10.0        A\n",
    "Entre 7.5 e 9.0         B\n",
    "Entre 6.0 e 7.5         C\n",
    "Entre 4.0 e 6.0         D\n",
    "Entre 4.0 e zero        E\n",
    "</pre>"
   ]
  },
  {
   "cell_type": "code",
   "execution_count": 5,
   "id": "29721a43",
   "metadata": {
    "id": "29721a43"
   },
   "outputs": [
    {
     "name": "stdout",
     "output_type": "stream",
     "text": [
      "Digite a 1º nota:9\n",
      "Digite a 2º nota:235\n",
      "Redigite sua nota, valor inválido.\n"
     ]
    }
   ],
   "source": [
    "nota1 = float(input('Digite a 1º nota:'))\n",
    "nota2 = float(input('Digite a 2º nota:'))\n",
    "\n",
    "media = (nota1 + nota2) / 2\n",
    "\n",
    "\n",
    "if media <= 10:\n",
    "    \n",
    "    if media <= 4:\n",
    "        conceito = \"E\"\n",
    "    elif media <= 6:\n",
    "        conceito = \"D\"\n",
    "    elif media <= 7.5:\n",
    "        conceito = \"C\"\n",
    "    elif media <= 9:\n",
    "        conceito = \"B\"\n",
    "    elif media <= 10:\n",
    "        conceito = \"A\"\n",
    "   \n",
    "    print (f'Conceito = {conceito}, valor da média {media}')\n",
    "\n",
    "else:\n",
    "    print('Redigite sua nota, valor inválido.')\n",
    "\n",
    "    \n",
    "\n"
   ]
  },
  {
   "cell_type": "markdown",
   "id": "e6b3bcaf",
   "metadata": {
    "id": "e6b3bcaf"
   },
   "source": [
    "#### 15. Você está construindo um calendário para controlar dias de trabalho a pedido do RH. Nessa construção, você vai precisar definir quais anos são bissextos e quais não são, para montar o calendário de forma correta. Faça um Programa que peça um número correspondente a um determinado ano e em seguida informe se este ano é ou não bissexto.\n",
    "<pre>\n",
    "Dica para determinar se um ano é bissexto: \n",
    "- São bissextos todos os anos múltiplos de 400, p.ex.: 1600, 2000, 2400, 2800...\n",
    "- São bissextos todos os múltiplos de 4, exceto se for múltiplo de 100 mas não de 400, \n",
    "p.ex.: 1996, 2000, 2004, 2008, 2012, 2016, 2020, 2024, 2028...\n",
    "- Não são bissextos todos os demais anos.<br>\n",
    "ex1: 2004 é múltiplo de 4, mas não é múltiplo de 100, então é bissexto.\n",
    "ex2: 2000 é múltiplo de 4, mas é múltiplo de 100, só que também é multiplo de 400, então é bissexto (porque todo ano múltiplo de 400 é bissexto, independente do resto).\n",
    "ex3: 1900 é múltiplo de 4, é múltiplo de 100, mas não é múltiplo de 400, então não é bissexto\n",
    "\n",
    "</pre>\n",
    "\n",
    "Dica: lembre que: numero % 4 é o resto da divisão do número por 4, ex: 10 % 3 = 1 (já que 10/3 = 3 e resta 1)"
   ]
  },
  {
   "cell_type": "code",
   "execution_count": null,
   "id": "56af223f",
   "metadata": {
    "id": "56af223f"
   },
   "outputs": [],
   "source": []
  },
  {
   "cell_type": "markdown",
   "id": "9fe532c8",
   "metadata": {
    "id": "9fe532c8"
   },
   "source": [
    "#### 16. Faça um Programa para leitura de três notas parciais de um aluno. O programa deve calcular a média alcançada por aluno e presentar:\n",
    "<pre>\n",
    "A mensagem \"Aprovado\", se a média for maior ou igual a 7, com a respectiva média alcançada;\n",
    "A mensagem \"Reprovado\", se a média for menor do que 7, com a respectiva média alcançada;\n",
    "A mensagem \"Aprovado com Distinção\", se a média for igual a 10.\n",
    "</pre>"
   ]
  },
  {
   "cell_type": "code",
   "execution_count": null,
   "id": "1a56e99f",
   "metadata": {
    "id": "1a56e99f"
   },
   "outputs": [],
   "source": []
  },
  {
   "cell_type": "markdown",
   "id": "d544412e",
   "metadata": {
    "id": "d544412e"
   },
   "source": [
    "#### 17. João Papo-de-Pescador, homem de bem, comprou um microcomputador para controlar o rendimento diário de seu trabalho. Toda vez que ele traz um peso de peixes maior que o estabelecido pelo regulamento de pesca do estado de São Paulo (50 quilos) deve pagar uma multa de R$ 4,00 por quilo excedente. João precisa que você faça um programa que leia a variável peso (peso de peixes) e calcule o excesso. Gravar na variável excesso a quantidade de quilos além do limite e na variável multa o valor da multa que João deverá pagar. Imprima os dados do programa com as mensagens adequadas."
   ]
  },
  {
   "cell_type": "code",
   "execution_count": null,
   "id": "971ed027",
   "metadata": {
    "id": "971ed027"
   },
   "outputs": [],
   "source": []
  },
  {
   "cell_type": "markdown",
   "id": "0e5256e0",
   "metadata": {
    "id": "0e5256e0"
   },
   "source": [
    "#### 18. Faça um Programa para um caixa eletrônico. O programa deverá perguntar ao usuário a valor do saque e depois informar quantas notas de cada valor serão fornecidas. As notas disponíveis serão as de 1, 5, 10, 50 e 100 reais. O valor mínimo é de 10 reais e o máximo de 600 reais. O programa não deve se preocupar com a quantidade de notas existentes na máquina.\n",
    "<pre>\n",
    "Exemplo 1: Para sacar a quantia de 256 reais, o programa fornece duas notas de 100, uma nota de 50, uma nota de 5 e uma nota de 1;\n",
    "Exemplo 2: Para sacar a quantia de 399 reais, o programa fornece três notas de 100, uma nota de 50, quatro notas de 10, uma nota de 5 e quatro notas de 1.\n",
    "</pre>\n",
    "\n",
    "Dica1: numero // 10 vai te dar como resposta a parte inteira da divisão do número por 10.<br>\n",
    "Dica2: numero % 10 vai te dar o resto da divisão do número por 10."
   ]
  },
  {
   "cell_type": "code",
   "execution_count": null,
   "id": "9b4244c7",
   "metadata": {
    "id": "9b4244c7"
   },
   "outputs": [],
   "source": []
  },
  {
   "cell_type": "markdown",
   "id": "cba47494",
   "metadata": {
    "id": "cba47494"
   },
   "source": [
    "#### 19. Faça um programa que faça 5 perguntas para uma pessoa sobre um crime. As perguntas são:\n",
    "<pre>\n",
    "\"Telefonou para a vítima?\"\n",
    "\"Esteve no local do crime?\"\n",
    "\"Mora perto da vítima?\"\n",
    "\"Devia para a vítima?\"\n",
    "\"Já trabalhou com a vítima?\" \n",
    "O programa deve no final emitir uma classificação sobre a participação da pessoa no crime. Se a pessoa responder positivamente a 2 questões ela deve ser classificada como \"Suspeita\", entre 3 e 4 como \"Cúmplice\" e 5 como \"Assassino\". Caso contrário, ele será classificado como \"Inocente\".\n",
    "</pre>"
   ]
  },
  {
   "cell_type": "code",
   "execution_count": null,
   "id": "5fdf9b88",
   "metadata": {
    "id": "5fdf9b88"
   },
   "outputs": [],
   "source": []
  },
  {
   "cell_type": "markdown",
   "id": "18901e98",
   "metadata": {
    "id": "18901e98"
   },
   "source": [
    "#### 20. Um posto está vendendo combustíveis com a seguinte tabela de descontos:\n",
    "<pre>\n",
    "Álcool:\n",
    "até 20 litros, desconto de 3% por litro\n",
    "acima de 20 litros, desconto de 5% por litro\n",
    "Gasolina:\n",
    "até 20 litros, desconto de 4% por litro\n",
    "acima de 20 litros, desconto de 6% por litro\n",
    "\n",
    "Escreva um algoritmo que leia o número de litros vendidos, o tipo de combustível (codificado da seguinte forma: A-álcool, G-gasolina), calcule e imprima o valor a ser pago pelo cliente sabendo-se que o preço do litro da gasolina é R$ 2,50 o preço do litro do álcool é R$ 1,90.\n",
    "</pre>"
   ]
  },
  {
   "cell_type": "code",
   "execution_count": null,
   "id": "a1fd8c38",
   "metadata": {
    "id": "a1fd8c38"
   },
   "outputs": [],
   "source": []
  },
  {
   "cell_type": "markdown",
   "id": "be0f8f32",
   "metadata": {
    "id": "be0f8f32"
   },
   "source": [
    "#### 21. Uma fruteira está vendendo frutas com a seguinte tabela de preços:\n",
    "<pre>\n",
    "                      Até 5 Kg           Acima de 5 Kg\n",
    "Morango         R$ 2,50 por Kg          R$ 2,20 por Kg\n",
    "Maçã            R$ 1,80 por Kg          R$ 1,50 por Kg\n",
    "Se o cliente comprar mais de 8 Kg em frutas ou o valor total da compra ultrapassar R$ 25,00, receberá ainda um desconto de 10% sobre este total. Escreva um algoritmo para ler a quantidade (em Kg) de morangos e a quantidade (em Kg) de maças adquiridas e escreva o valor a ser pago pelo cliente.\n",
    "</pre>"
   ]
  },
  {
   "cell_type": "code",
   "execution_count": null,
   "id": "35c47c8e",
   "metadata": {
    "id": "35c47c8e"
   },
   "outputs": [],
   "source": []
  },
  {
   "cell_type": "markdown",
   "id": "4dbd53ed",
   "metadata": {
    "id": "4dbd53ed"
   },
   "source": [
    "#### 22. O Hipermercado Tabajara está com uma promoção de carnes que é imperdível. Confira:\n",
    "<pre>\n",
    "                      Até 5 Kg           Acima de 5 Kg\n",
    "File Duplo      R$ 4,90 por Kg          R$ 5,80 por Kg\n",
    "Alcatra         R$ 5,90 por Kg          R$ 6,80 por Kg\n",
    "Picanha         R$ 6,90 por Kg          R$ 7,80 por Kg\n",
    "Para atender a todos os clientes, cada cliente poderá levar apenas um dos tipos de carne da promoção, porém não há limites para a quantidade de carne por cliente. Se compra for feita no cartão Tabajara o cliente receberá ainda um desconto de 5% sobre o total da compra. Escreva um programa que peça o tipo e a quantidade de carne comprada pelo usuário e gere um cupom fiscal, contendo as informações da compra: tipo e quantidade de carne, preço total, tipo de pagamento, valor do desconto e valor a pagar.\n",
    "</pre>"
   ]
  },
  {
   "cell_type": "code",
   "execution_count": null,
   "id": "15a77357",
   "metadata": {
    "id": "15a77357"
   },
   "outputs": [],
   "source": []
  },
  {
   "cell_type": "markdown",
   "id": "b949545b",
   "metadata": {
    "id": "b949545b"
   },
   "source": [
    "#### 23. Faça um Programa para uma loja de tintas. O programa deverá pedir o tamanho em metros quadrados da área a ser pintada. Considere que a cobertura da tinta é de 1 litro para cada 6 metros quadrados e que a tinta é vendida em latas de 18 litros, que custam R\\\\$ 80,00 ou em galões de 3,6 litros, que custam R\\\\$ 25,00."
   ]
  },
  {
   "cell_type": "code",
   "execution_count": null,
   "id": "b11185b0",
   "metadata": {
    "id": "b11185b0"
   },
   "outputs": [],
   "source": [
    "area = float(input('Informe o tamanho da área a ser pintada em m²: '))\n",
    "litros_tinta = area / 6"
   ]
  },
  {
   "cell_type": "markdown",
   "id": "b3d0598f",
   "metadata": {
    "id": "b3d0598f"
   },
   "source": [
    "##### Informe ao usuário as quantidades de tinta a serem compradas e os respectivos preços em 3 situações.\n",
    "\n",
    "Dica: lembre dos operadores // e % mostrados em exercícios anteriores<br>\n",
    "Dica1: numero // 10 vai te dar como resposta a parte inteira da divisão do número por 10.<br>\n",
    "Dica2: numero % 10 vai te dar o resto da divisão do número por 10.\n",
    "\n",
    "##### 1. Comprar apenas latas de 18 litros: (apenas latas inteiras)"
   ]
  },
  {
   "cell_type": "code",
   "execution_count": null,
   "id": "ed599d53",
   "metadata": {
    "id": "ed599d53"
   },
   "outputs": [],
   "source": []
  },
  {
   "cell_type": "markdown",
   "id": "ab03bc10",
   "metadata": {
    "id": "ab03bc10"
   },
   "source": [
    "##### 2. Comprar apenas galões de 3,6 litros: (apenas galoes inteiros)"
   ]
  },
  {
   "cell_type": "code",
   "execution_count": null,
   "id": "542f4a77",
   "metadata": {
    "id": "542f4a77"
   },
   "outputs": [],
   "source": []
  },
  {
   "cell_type": "markdown",
   "id": "8Jbw7RupH9Nc",
   "metadata": {
    "id": "8Jbw7RupH9Nc"
   },
   "source": [
    "##### 3. Misturar latas e galões, de forma que o desperdício de tinta seja menor. Acrescente 10% de folga e sempre arredonde os valores para cima, isto é, considere latas cheias."
   ]
  },
  {
   "cell_type": "markdown",
   "id": "93d4157b",
   "metadata": {
    "id": "93d4157b"
   },
   "source": [
    "O custo da lata é 80/18 = 4,44 R\\\\$/L\n",
    "\n",
    "O custo do galão é 25/3,6 = 6,94 R\\\\$/L\n",
    "\n",
    "A lata é mais econômica, então todas as latas inteiras que pudermos usar devemos comprar em latas. Se ficar faltando alguma coisa para completar devemos avaliar se é melhor comprar latas ou galões. Exemplo:\n",
    "\n",
    "Se queremos comprar 90 litros. 5 latas dão exatamente 90 litros. Então devemos comprar tudo em latas.\n",
    "\n",
    "Se queremos comprar 95 litros. 5 latas dão exatamente 90 litros. Então devemos comprar pelo menos 5 latas e avaliar o que falta, se estes últimos 5 litros valem mais apenas em latas ou galões.\n",
    "\n",
    "Para os 5 litros faltantes precisamos de 2 galões que custam 50 reais no total. Ou de uma lata que custa 80 reais no total. Portanto, neste caso vale mais a pena usar 2 galões.\n",
    "\n",
    "Se queremos comprar 107 litros. 5 latas dão exatamente 90 litros. Então devemos comprar pelo menos 5 latas e avaliar o que falta, se estes últimos 5 litros valem mais apenas em latas ou galões.\n",
    "\n",
    "Para os 17 litros faltantes precisamos de 5 galões que custam 125 reais no total. Ou de uma lata que custa 80 reais no total. Portanto, neste caso vale mais a pena usar uma lata.\n",
    "\n",
    "3 galões custam 75 reais, 4 galões custam 100 reais. Então, se for possível completar com até 3 galões escolhe-se galões. Qualquer quantidade maior que 3 galões, usa-se latas.\n",
    "\n",
    "Podemos ir ao exercício:"
   ]
  },
  {
   "cell_type": "code",
   "execution_count": null,
   "id": "01d104b6",
   "metadata": {
    "id": "01d104b6"
   },
   "outputs": [],
   "source": []
  }
 ],
 "metadata": {
  "colab": {
   "provenance": []
  },
  "kernelspec": {
   "display_name": "Python 3 (ipykernel)",
   "language": "python",
   "name": "python3"
  },
  "language_info": {
   "codemirror_mode": {
    "name": "ipython",
    "version": 3
   },
   "file_extension": ".py",
   "mimetype": "text/x-python",
   "name": "python",
   "nbconvert_exporter": "python",
   "pygments_lexer": "ipython3",
   "version": "3.9.13"
  }
 },
 "nbformat": 4,
 "nbformat_minor": 5
}
