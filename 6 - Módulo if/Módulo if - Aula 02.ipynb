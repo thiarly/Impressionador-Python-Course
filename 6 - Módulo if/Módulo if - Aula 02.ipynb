{
 "cells": [
  {
   "cell_type": "markdown",
   "metadata": {},
   "source": [
    "# Blocos e Identação\n",
    "\n",
    "## Estrutura\n",
    "Sempre que usamos o if ou qualquer outra estrutura no Python, devemos usar a identação para dizer para o Programa onde a estrutura começa e onde ela termina.\n",
    "\n",
    "Isso vai ajudar muito quando tivermos mais de 1 condição ao mesmo tempo e quando tivermos várias ações para fazer dentro de um if.\n",
    "\n",
    "### Várias ações em 1 if:"
   ]
  },
  {
   "cell_type": "raw",
   "metadata": {},
   "source": [
    "if condicao:\n",
    "    alguma coisa\n",
    "    outra coisa\n",
    "    outra coisa mais\n",
    "    outra coisa ainda mais\n",
    "else:\n",
    "    uma coisa\n",
    "    uma coisa mais\n",
    "    coisa final"
   ]
  },
  {
   "cell_type": "markdown",
   "metadata": {},
   "source": [
    "## Exemplo\n",
    "Vamos fazer um novo exemplo abaixo:\n",
    "\n",
    "Digamos que você precisa criar um programa para um fundo de investimentos conseguir avaliar o resultado de uma carteira de ações e o quanto de taxa deverá ser pago.\n",
    "\n",
    "A regra desse fundo de investimentos é:\n",
    "\n",
    "- O fundo se compromete a entregar no mínimo 5% de retorno ao ano.\n",
    "- Caso o fundo não consiga entregar os 5% de retorno, ele não pode cobrar taxa dos seus investidores.\n",
    "- Caso o fundo consiga entregar mais de 5% de retorno, ele irá cobrar 2% de taxa dos seus investidores.\n",
    "- Caso o fundo consiga mais de 20% de retorno, ele irá cobrar 4% de taxa dos seus investidores."
   ]
  },
  {
   "cell_type": "code",
   "execution_count": 6,
   "metadata": {
    "scrolled": true
   },
   "outputs": [
    {
     "name": "stdout",
     "output_type": "stream",
     "text": [
      "Qual foi a rentablidade do fundo no ano?: -0.5\n",
      "O fundo não atingiu a rentabilidade esperada -0.5%, dessa forma não irá cobrar taxa.\n"
     ]
    }
   ],
   "source": [
    "meta = 0.05\n",
    "taxa = 0\n",
    "bonus = 0.20\n",
    "rentabilidade = float(input('Qual foi a rentablidade do fundo no ano?: '))\n",
    "\n",
    "if rentabilidade > meta:\n",
    "    if rentabilidade > bonus:\n",
    "        taxa = 0.04\n",
    "        print(f'O fundo teve uma rentabilidade de {rentabilidade}% então a taxa será {taxa}%')\n",
    "    else:\n",
    "        taxa = 0.02\n",
    "        print(f'O fundo teve uma rentabilidade de {rentabilidade}% então a taxa será {taxa}%')\n",
    "        \n",
    "else:\n",
    "    print(f'O fundo não atingiu a rentabilidade esperada {rentabilidade}%, dessa forma não irá cobrar taxa.')\n",
    "\n",
    "\n",
    "        "
   ]
  },
  {
   "cell_type": "markdown",
   "metadata": {},
   "source": [
    "### Mais de uma condição ao mesmo tempo:"
   ]
  },
  {
   "cell_type": "raw",
   "metadata": {},
   "source": [
    "if condicao_1:\n",
    "    o que fazer se a condição 1 for verdadeira\n",
    "    if condicao_2:\n",
    "        o que fazer se a condição 1 e 2 for verdadeira\n",
    "    else:\n",
    "        o que fazer se a condição 2 for falsa (mas a condição 1 é verdadeira)\n",
    "else:\n",
    "    o que fazer se a condição 1 for falsa"
   ]
  },
  {
   "cell_type": "markdown",
   "metadata": {},
   "source": [
    "## Cuidado importante: repetição de código\n",
    "\n",
    "Sempre que possível, evite repetir código. De forma geral:<br>\n",
    "\"Se você está repetindo um código, existe uma forma melhor de fazer\""
   ]
  }
 ],
 "metadata": {
  "kernelspec": {
   "display_name": "Python 3 (ipykernel)",
   "language": "python",
   "name": "python3"
  },
  "language_info": {
   "codemirror_mode": {
    "name": "ipython",
    "version": 3
   },
   "file_extension": ".py",
   "mimetype": "text/x-python",
   "name": "python",
   "nbconvert_exporter": "python",
   "pygments_lexer": "ipython3",
   "version": "3.9.13"
  }
 },
 "nbformat": 4,
 "nbformat_minor": 4
}
