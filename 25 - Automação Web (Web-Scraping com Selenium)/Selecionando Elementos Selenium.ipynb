{
 "cells": [
  {
   "cell_type": "code",
   "execution_count": 37,
   "id": "4e28f9f7",
   "metadata": {
    "scrolled": true
   },
   "outputs": [],
   "source": [
    "from selenium import webdriver\n",
    "from selenium.webdriver.chrome.service import Service\n",
    "from webdriver_manager.chrome import ChromeDriverManager\n",
    "\n",
    "servico = Service(ChromeDriverManager().install())\n",
    "navegador = webdriver.Chrome(service=servico)"
   ]
  },
  {
   "cell_type": "code",
   "execution_count": 25,
   "id": "457473a9",
   "metadata": {},
   "outputs": [],
   "source": [
    "arquivo = 'https://www.hashtagtreinamentos.com/'"
   ]
  },
  {
   "cell_type": "code",
   "execution_count": 36,
   "id": "59c8398d",
   "metadata": {},
   "outputs": [
    {
     "ename": "NoSuchWindowException",
     "evalue": "Message: no such window: target window already closed\nfrom unknown error: web view not found\n  (Session info: chrome=111.0.5563.146)\nStacktrace:\n0   chromedriver                        0x0000000109884428 chromedriver + 4899880\n1   chromedriver                        0x0000000109801a23 chromedriver + 4364835\n2   chromedriver                        0x000000010944bbf6 chromedriver + 474102\n3   chromedriver                        0x0000000109421cdc chromedriver + 302300\n4   chromedriver                        0x00000001094ba85f chromedriver + 927839\n5   chromedriver                        0x00000001094d0226 chromedriver + 1016358\n6   chromedriver                        0x00000001094b5333 chromedriver + 906035\n7   chromedriver                        0x000000010947f55f chromedriver + 685407\n8   chromedriver                        0x0000000109480a7e chromedriver + 690814\n9   chromedriver                        0x000000010985179e chromedriver + 4691870\n10  chromedriver                        0x0000000109856961 chromedriver + 4712801\n11  chromedriver                        0x000000010985d2ff chromedriver + 4739839\n12  chromedriver                        0x000000010985785a chromedriver + 4716634\n13  chromedriver                        0x0000000109829fce chromedriver + 4530126\n14  chromedriver                        0x00000001098775c8 chromedriver + 4847048\n15  chromedriver                        0x0000000109877747 chromedriver + 4847431\n16  chromedriver                        0x000000010988c87f chromedriver + 4933759\n17  libsystem_pthread.dylib             0x00007ff80f9a8259 _pthread_start + 125\n18  libsystem_pthread.dylib             0x00007ff80f9a3c7b thread_start + 15\n",
     "output_type": "error",
     "traceback": [
      "\u001b[0;31m---------------------------------------------------------------------------\u001b[0m",
      "\u001b[0;31mNoSuchWindowException\u001b[0m                     Traceback (most recent call last)",
      "\u001b[0;32m/var/folders/zj/nb38z67n0g12xy5sbwbcfymr0000gn/T/ipykernel_11648/3233240458.py\u001b[0m in \u001b[0;36m<module>\u001b[0;34m\u001b[0m\n\u001b[1;32m      6\u001b[0m \u001b[0;31m#arquivo = caminho + r\"\\Pagina Hashtag.html\"\u001b[0m\u001b[0;34m\u001b[0m\u001b[0;34m\u001b[0m\u001b[0m\n\u001b[1;32m      7\u001b[0m \u001b[0;31m#arquivo = 'https://www.intergard.com.br/'\u001b[0m\u001b[0;34m\u001b[0m\u001b[0;34m\u001b[0m\u001b[0m\n\u001b[0;32m----> 8\u001b[0;31m \u001b[0mnavegador\u001b[0m\u001b[0;34m.\u001b[0m\u001b[0mget\u001b[0m\u001b[0;34m(\u001b[0m\u001b[0marquivo\u001b[0m\u001b[0;34m)\u001b[0m\u001b[0;34m\u001b[0m\u001b[0;34m\u001b[0m\u001b[0m\n\u001b[0m",
      "\u001b[0;32m~/opt/anaconda3/lib/python3.9/site-packages/selenium/webdriver/remote/webdriver.py\u001b[0m in \u001b[0;36mget\u001b[0;34m(self, url)\u001b[0m\n\u001b[1;32m    447\u001b[0m     \u001b[0;32mdef\u001b[0m \u001b[0mget\u001b[0m\u001b[0;34m(\u001b[0m\u001b[0mself\u001b[0m\u001b[0;34m,\u001b[0m \u001b[0murl\u001b[0m\u001b[0;34m:\u001b[0m \u001b[0mstr\u001b[0m\u001b[0;34m)\u001b[0m \u001b[0;34m->\u001b[0m \u001b[0;32mNone\u001b[0m\u001b[0;34m:\u001b[0m\u001b[0;34m\u001b[0m\u001b[0;34m\u001b[0m\u001b[0m\n\u001b[1;32m    448\u001b[0m         \u001b[0;34m\"\"\"Loads a web page in the current browser session.\"\"\"\u001b[0m\u001b[0;34m\u001b[0m\u001b[0;34m\u001b[0m\u001b[0m\n\u001b[0;32m--> 449\u001b[0;31m         \u001b[0mself\u001b[0m\u001b[0;34m.\u001b[0m\u001b[0mexecute\u001b[0m\u001b[0;34m(\u001b[0m\u001b[0mCommand\u001b[0m\u001b[0;34m.\u001b[0m\u001b[0mGET\u001b[0m\u001b[0;34m,\u001b[0m \u001b[0;34m{\u001b[0m\u001b[0;34m\"url\"\u001b[0m\u001b[0;34m:\u001b[0m \u001b[0murl\u001b[0m\u001b[0;34m}\u001b[0m\u001b[0;34m)\u001b[0m\u001b[0;34m\u001b[0m\u001b[0;34m\u001b[0m\u001b[0m\n\u001b[0m\u001b[1;32m    450\u001b[0m \u001b[0;34m\u001b[0m\u001b[0m\n\u001b[1;32m    451\u001b[0m     \u001b[0;34m@\u001b[0m\u001b[0mproperty\u001b[0m\u001b[0;34m\u001b[0m\u001b[0;34m\u001b[0m\u001b[0m\n",
      "\u001b[0;32m~/opt/anaconda3/lib/python3.9/site-packages/selenium/webdriver/remote/webdriver.py\u001b[0m in \u001b[0;36mexecute\u001b[0;34m(self, driver_command, params)\u001b[0m\n\u001b[1;32m    438\u001b[0m         \u001b[0mresponse\u001b[0m \u001b[0;34m=\u001b[0m \u001b[0mself\u001b[0m\u001b[0;34m.\u001b[0m\u001b[0mcommand_executor\u001b[0m\u001b[0;34m.\u001b[0m\u001b[0mexecute\u001b[0m\u001b[0;34m(\u001b[0m\u001b[0mdriver_command\u001b[0m\u001b[0;34m,\u001b[0m \u001b[0mparams\u001b[0m\u001b[0;34m)\u001b[0m\u001b[0;34m\u001b[0m\u001b[0;34m\u001b[0m\u001b[0m\n\u001b[1;32m    439\u001b[0m         \u001b[0;32mif\u001b[0m \u001b[0mresponse\u001b[0m\u001b[0;34m:\u001b[0m\u001b[0;34m\u001b[0m\u001b[0;34m\u001b[0m\u001b[0m\n\u001b[0;32m--> 440\u001b[0;31m             \u001b[0mself\u001b[0m\u001b[0;34m.\u001b[0m\u001b[0merror_handler\u001b[0m\u001b[0;34m.\u001b[0m\u001b[0mcheck_response\u001b[0m\u001b[0;34m(\u001b[0m\u001b[0mresponse\u001b[0m\u001b[0;34m)\u001b[0m\u001b[0;34m\u001b[0m\u001b[0;34m\u001b[0m\u001b[0m\n\u001b[0m\u001b[1;32m    441\u001b[0m             \u001b[0mresponse\u001b[0m\u001b[0;34m[\u001b[0m\u001b[0;34m\"value\"\u001b[0m\u001b[0;34m]\u001b[0m \u001b[0;34m=\u001b[0m \u001b[0mself\u001b[0m\u001b[0;34m.\u001b[0m\u001b[0m_unwrap_value\u001b[0m\u001b[0;34m(\u001b[0m\u001b[0mresponse\u001b[0m\u001b[0;34m.\u001b[0m\u001b[0mget\u001b[0m\u001b[0;34m(\u001b[0m\u001b[0;34m\"value\"\u001b[0m\u001b[0;34m,\u001b[0m \u001b[0;32mNone\u001b[0m\u001b[0;34m)\u001b[0m\u001b[0;34m)\u001b[0m\u001b[0;34m\u001b[0m\u001b[0;34m\u001b[0m\u001b[0m\n\u001b[1;32m    442\u001b[0m             \u001b[0;32mreturn\u001b[0m \u001b[0mresponse\u001b[0m\u001b[0;34m\u001b[0m\u001b[0;34m\u001b[0m\u001b[0m\n",
      "\u001b[0;32m~/opt/anaconda3/lib/python3.9/site-packages/selenium/webdriver/remote/errorhandler.py\u001b[0m in \u001b[0;36mcheck_response\u001b[0;34m(self, response)\u001b[0m\n\u001b[1;32m    243\u001b[0m                 \u001b[0malert_text\u001b[0m \u001b[0;34m=\u001b[0m \u001b[0mvalue\u001b[0m\u001b[0;34m[\u001b[0m\u001b[0;34m\"alert\"\u001b[0m\u001b[0;34m]\u001b[0m\u001b[0;34m.\u001b[0m\u001b[0mget\u001b[0m\u001b[0;34m(\u001b[0m\u001b[0;34m\"text\"\u001b[0m\u001b[0;34m)\u001b[0m\u001b[0;34m\u001b[0m\u001b[0;34m\u001b[0m\u001b[0m\n\u001b[1;32m    244\u001b[0m             \u001b[0;32mraise\u001b[0m \u001b[0mexception_class\u001b[0m\u001b[0;34m(\u001b[0m\u001b[0mmessage\u001b[0m\u001b[0;34m,\u001b[0m \u001b[0mscreen\u001b[0m\u001b[0;34m,\u001b[0m \u001b[0mstacktrace\u001b[0m\u001b[0;34m,\u001b[0m \u001b[0malert_text\u001b[0m\u001b[0;34m)\u001b[0m  \u001b[0;31m# type: ignore[call-arg]  # mypy is not smart enough here\u001b[0m\u001b[0;34m\u001b[0m\u001b[0;34m\u001b[0m\u001b[0m\n\u001b[0;32m--> 245\u001b[0;31m         \u001b[0;32mraise\u001b[0m \u001b[0mexception_class\u001b[0m\u001b[0;34m(\u001b[0m\u001b[0mmessage\u001b[0m\u001b[0;34m,\u001b[0m \u001b[0mscreen\u001b[0m\u001b[0;34m,\u001b[0m \u001b[0mstacktrace\u001b[0m\u001b[0;34m)\u001b[0m\u001b[0;34m\u001b[0m\u001b[0;34m\u001b[0m\u001b[0m\n\u001b[0m",
      "\u001b[0;31mNoSuchWindowException\u001b[0m: Message: no such window: target window already closed\nfrom unknown error: web view not found\n  (Session info: chrome=111.0.5563.146)\nStacktrace:\n0   chromedriver                        0x0000000109884428 chromedriver + 4899880\n1   chromedriver                        0x0000000109801a23 chromedriver + 4364835\n2   chromedriver                        0x000000010944bbf6 chromedriver + 474102\n3   chromedriver                        0x0000000109421cdc chromedriver + 302300\n4   chromedriver                        0x00000001094ba85f chromedriver + 927839\n5   chromedriver                        0x00000001094d0226 chromedriver + 1016358\n6   chromedriver                        0x00000001094b5333 chromedriver + 906035\n7   chromedriver                        0x000000010947f55f chromedriver + 685407\n8   chromedriver                        0x0000000109480a7e chromedriver + 690814\n9   chromedriver                        0x000000010985179e chromedriver + 4691870\n10  chromedriver                        0x0000000109856961 chromedriver + 4712801\n11  chromedriver                        0x000000010985d2ff chromedriver + 4739839\n12  chromedriver                        0x000000010985785a chromedriver + 4716634\n13  chromedriver                        0x0000000109829fce chromedriver + 4530126\n14  chromedriver                        0x00000001098775c8 chromedriver + 4847048\n15  chromedriver                        0x0000000109877747 chromedriver + 4847431\n16  chromedriver                        0x000000010988c87f chromedriver + 4933759\n17  libsystem_pthread.dylib             0x00007ff80f9a8259 _pthread_start + 125\n18  libsystem_pthread.dylib             0x00007ff80f9a3c7b thread_start + 15\n"
     ]
    }
   ],
   "source": [
    "import os\n",
    "\n",
    "#variavel para coletar caminho local\n",
    "caminho = os.getcwd()\n",
    "\n",
    "#arquivo = caminho + r\"\\Pagina Hashtag.html\"\n",
    "#arquivo = 'https://www.intergard.com.br/'\n",
    "navegador.get(arquivo)"
   ]
  },
  {
   "cell_type": "markdown",
   "id": "5008f81b",
   "metadata": {},
   "source": [
    "#### Adicionando informações na página, nome, emil e click"
   ]
  },
  {
   "cell_type": "code",
   "execution_count": 35,
   "id": "25228a28",
   "metadata": {},
   "outputs": [],
   "source": [
    "from selenium.webdriver.common.by import By\n",
    "\n",
    "# campo_nome = navegador.find_element(By.ID, 'firstname')\n",
    "# campo_email = navegador.find_element(By.ID, 'email')\n",
    "# campo_nome.send_keys('thiarly.')    \n",
    "# campo_email.send_keys('thiarly.cavalcante@live.com')   \n",
    "    \n",
    "navegador.find_element(By.ID, 'firstname').send_keys(\"Thiarly\")\n",
    "navegador.find_element(By.ID, 'email').send_keys(\"thiarly.cavalcante@live.com\")\n",
    "navegador.find_element(By.CLASS_NAME, 'botao-formulario').click()"
   ]
  },
  {
   "cell_type": "markdown",
   "id": "90e4c9f0",
   "metadata": {},
   "source": [
    "####  Selicionando Titulo Página Hashtag"
   ]
  },
  {
   "cell_type": "code",
   "execution_count": 29,
   "id": "7ae9aeed",
   "metadata": {},
   "outputs": [
    {
     "name": "stdout",
     "output_type": "stream",
     "text": [
      "Torne-se uma referência no Mercado de Trabalho com a Hashtag Treinamentos\n"
     ]
    }
   ],
   "source": [
    "from selenium.webdriver.common.by import By\n",
    "\n",
    "titulo = navegador.find_element(By.TAG_NAME, 'h1').text\n",
    "print(titulo)\n"
   ]
  },
  {
   "cell_type": "markdown",
   "id": "999cde56",
   "metadata": {},
   "source": [
    "#### Selecionar pelo Partial Link Text (ou LINK_TEXT)\n",
    "* Quero conseguir pegar o número de whatsapp de contato"
   ]
  },
  {
   "cell_type": "code",
   "execution_count": 32,
   "id": "88e8de46",
   "metadata": {
    "scrolled": true
   },
   "outputs": [
    {
     "name": "stdout",
     "output_type": "stream",
     "text": [
      "(21) 99658-2442 (WhatsApp)\n"
     ]
    }
   ],
   "source": [
    "numero_whatsapp = navegador.find_element(By.PARTIAL_LINK_TEXT, 'WhatsApp').text\n",
    "print(numero_whatsapp)"
   ]
  },
  {
   "cell_type": "markdown",
   "id": "9b21bdd6",
   "metadata": {},
   "source": [
    "#### Selecionar pelo name\n",
    "* Preencher o formulário "
   ]
  },
  {
   "cell_type": "code",
   "execution_count": 33,
   "id": "f320f7f4",
   "metadata": {},
   "outputs": [],
   "source": [
    "navegador.find_element(By.NAME, 'email').send_keys('thiarly.cavalcante@live.com')"
   ]
  },
  {
   "cell_type": "markdown",
   "id": "7771935c",
   "metadata": {},
   "source": [
    "# Selecionando elementos:\n",
    "\n",
    "###### id, xpath,class_name, text, tipo de informação\n"
   ]
  },
  {
   "cell_type": "code",
   "execution_count": null,
   "id": "e672f135",
   "metadata": {},
   "outputs": [],
   "source": []
  }
 ],
 "metadata": {
  "kernelspec": {
   "display_name": "Python 3 (ipykernel)",
   "language": "python",
   "name": "python3"
  },
  "language_info": {
   "codemirror_mode": {
    "name": "ipython",
    "version": 3
   },
   "file_extension": ".py",
   "mimetype": "text/x-python",
   "name": "python",
   "nbconvert_exporter": "python",
   "pygments_lexer": "ipython3",
   "version": "3.9.13"
  }
 },
 "nbformat": 4,
 "nbformat_minor": 5
}
