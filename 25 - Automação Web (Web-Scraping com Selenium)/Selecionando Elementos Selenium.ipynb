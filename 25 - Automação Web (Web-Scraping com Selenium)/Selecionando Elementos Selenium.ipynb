{
 "cells": [
  {
   "cell_type": "code",
   "execution_count": 12,
   "id": "4e28f9f7",
   "metadata": {
    "scrolled": true
   },
   "outputs": [],
   "source": [
    "from selenium import webdriver\n",
    "from selenium.webdriver.chrome.service import Service\n",
    "from webdriver_manager.chrome import ChromeDriverManager\n",
    "\n",
    "servico = Service(ChromeDriverManager().install())\n",
    "navegador = webdriver.Chrome(service=servico)"
   ]
  },
  {
   "cell_type": "code",
   "execution_count": 13,
   "id": "5fa1ba89",
   "metadata": {},
   "outputs": [],
   "source": [
    "arquivo = 'https://www.hashtagtreinamentos.com/'"
   ]
  },
  {
   "cell_type": "code",
   "execution_count": 14,
   "id": "59c8398d",
   "metadata": {},
   "outputs": [],
   "source": [
    "import os\n",
    "\n",
    "#variavel para coletar caminho local\n",
    "caminho = os.getcwd()\n",
    "\n",
    "#arquivo = caminho + r\"\\Pagina Hashtag.html\"\n",
    "#arquivo = 'https://www.intergard.com.br/'\n",
    "navegador.get(arquivo)"
   ]
  },
  {
   "cell_type": "code",
   "execution_count": 22,
   "id": "25228a28",
   "metadata": {},
   "outputs": [],
   "source": [
    "from selenium.webdriver.common.by import By\n",
    "\n",
    "# campo_nome = navegador.find_element(By.ID, 'firstname')\n",
    "# campo_email = navegador.find_element(By.ID, 'email')\n",
    "# campo_nome.send_keys('thiarly.')    \n",
    "# campo_email.send_keys('thiarly.cavalcante@live.com')   \n",
    "    \n",
    "navegador.find_element(By.ID, 'firstname').send_keys(\"Thiarly\")\n",
    "navegador.find_element(By.ID, 'email').send_keys(\"thiarly.cavalcante@live.com\")\n",
    "navegador.find_element(By.CLASS_NAME, 'botao-formulario').click()"
   ]
  },
  {
   "cell_type": "markdown",
   "id": "7771935c",
   "metadata": {},
   "source": [
    "# Selecionando elementos:\n",
    "\n",
    "###### id, xpath,class_name, text, tipo de informação\n"
   ]
  },
  {
   "cell_type": "code",
   "execution_count": null,
   "id": "1e0f88c1",
   "metadata": {},
   "outputs": [],
   "source": []
  }
 ],
 "metadata": {
  "kernelspec": {
   "display_name": "Python 3 (ipykernel)",
   "language": "python",
   "name": "python3"
  },
  "language_info": {
   "codemirror_mode": {
    "name": "ipython",
    "version": 3
   },
   "file_extension": ".py",
   "mimetype": "text/x-python",
   "name": "python",
   "nbconvert_exporter": "python",
   "pygments_lexer": "ipython3",
   "version": "3.9.13"
  }
 },
 "nbformat": 4,
 "nbformat_minor": 5
}
