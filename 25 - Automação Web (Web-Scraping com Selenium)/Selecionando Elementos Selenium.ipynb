{
 "cells": [
  {
   "cell_type": "code",
   "execution_count": 5,
   "id": "4e28f9f7",
   "metadata": {},
   "outputs": [],
   "source": [
    "from selenium import webdriver\n",
    "from selenium.webdriver.chrome.service import Service\n",
    "from webdriver_manager.chrome import ChromeDriverManager\n",
    "\n",
    "servico = Service(ChromeDriverManager().install())\n",
    "navegador = webdriver.Chrome(service=servico)"
   ]
  },
  {
   "cell_type": "code",
   "execution_count": 9,
   "id": "59c8398d",
   "metadata": {},
   "outputs": [],
   "source": [
    "import os\n",
    "\n",
    "#variavel para coletar caminho local\n",
    "caminho = os.getcwd()\n",
    "\n",
    "#arquivo = caminho + r\"\\Pagina Hashtag.html\"\n",
    "arquivo = 'file:///Users/thiarly/Desktop/PROJECTS/Impressionador-Python-Course/25%20-%20Automação%20Web%20(Web-Scraping%20com%20Selenium)/aula%204%20-%20acessar%20pagina%20com%20selenium/Pagina%20Hashtag.html'\n",
    "navegador.get(arquivo)"
   ]
  },
  {
   "cell_type": "code",
   "execution_count": 12,
   "id": "25228a28",
   "metadata": {},
   "outputs": [],
   "source": [
    "from selenium.webdriver.common.by import By\n",
    "\n",
    "navegador.find_element(By.ID, 'fullname').send_keys(\"Lira\")\n",
    "navegador.find_element(By.ID, 'email').send_keys(\"pythonimpressionador@gmail.com\")\n",
    "navegador.find_element(By.ID, '_form_176_submit').click()"
   ]
  },
  {
   "cell_type": "markdown",
   "id": "358901df",
   "metadata": {},
   "source": [
    "# Selecionando elementos:\n",
    "\n",
    "id xpath,class_name\n",
    "text\n",
    "tipo de informação\n"
   ]
  }
 ],
 "metadata": {
  "kernelspec": {
   "display_name": "Python 3 (ipykernel)",
   "language": "python",
   "name": "python3"
  },
  "language_info": {
   "codemirror_mode": {
    "name": "ipython",
    "version": 3
   },
   "file_extension": ".py",
   "mimetype": "text/x-python",
   "name": "python",
   "nbconvert_exporter": "python",
   "pygments_lexer": "ipython3",
   "version": "3.9.13"
  }
 },
 "nbformat": 4,
 "nbformat_minor": 5
}
