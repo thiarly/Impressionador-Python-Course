{
 "cells": [
  {
   "cell_type": "code",
   "execution_count": 46,
   "id": "4e28f9f7",
   "metadata": {
    "scrolled": true
   },
   "outputs": [],
   "source": [
    "from selenium import webdriver\n",
    "from selenium.webdriver.chrome.service import Service\n",
    "from webdriver_manager.chrome import ChromeDriverManager\n",
    "from selenium.webdriver.common.by import By\n",
    "\n",
    "servico = Service(ChromeDriverManager().install())\n",
    "navegador = webdriver.Chrome(service=servico)"
   ]
  },
  {
   "cell_type": "code",
   "execution_count": 47,
   "id": "09be3661",
   "metadata": {},
   "outputs": [],
   "source": [
    "arquivo = 'https://www.hashtagtreinamentos.com/'"
   ]
  },
  {
   "cell_type": "code",
   "execution_count": 48,
   "id": "59c8398d",
   "metadata": {},
   "outputs": [],
   "source": [
    "import os\n",
    "\n",
    "#variavel para coletar caminho local\n",
    "caminho = os.getcwd()\n",
    "\n",
    "#arquivo = caminho + r\"\\Pagina Hashtag.html\"\n",
    "#arquivo = 'https://www.intergard.com.br/'\n",
    "navegador.get(arquivo)"
   ]
  },
  {
   "cell_type": "markdown",
   "id": "b5bcb345",
   "metadata": {},
   "source": [
    "#### Adicionando informações na página, nome, emil e click"
   ]
  },
  {
   "cell_type": "code",
   "execution_count": 35,
   "id": "25228a28",
   "metadata": {},
   "outputs": [],
   "source": [
    "from selenium.webdriver.common.by import By\n",
    "\n",
    "# campo_nome = navegador.find_element(By.ID, 'firstname')\n",
    "# campo_email = navegador.find_element(By.ID, 'email')\n",
    "# campo_nome.send_keys('thiarly.')    \n",
    "# campo_email.send_keys('thiarly.cavalcante@live.com')   \n",
    "    \n",
    "navegador.find_element(By.ID, 'firstname').send_keys(\"Thiarly\")\n",
    "navegador.find_element(By.ID, 'email').send_keys(\"thiarly.cavalcante@live.com\")\n",
    "navegador.find_element(By.CLASS_NAME, 'botao-formulario').click()"
   ]
  },
  {
   "cell_type": "markdown",
   "id": "bf3c59bc",
   "metadata": {},
   "source": [
    "####  Selicionando Titulo Página Hashtag"
   ]
  },
  {
   "cell_type": "code",
   "execution_count": 29,
   "id": "b295e4ee",
   "metadata": {},
   "outputs": [
    {
     "name": "stdout",
     "output_type": "stream",
     "text": [
      "Torne-se uma referência no Mercado de Trabalho com a Hashtag Treinamentos\n"
     ]
    }
   ],
   "source": [
    "from selenium.webdriver.common.by import By\n",
    "\n",
    "titulo = navegador.find_element(By.TAG_NAME, 'h1').text\n",
    "print(titulo)\n"
   ]
  },
  {
   "cell_type": "markdown",
   "id": "d4671fa1",
   "metadata": {},
   "source": [
    "#### Selecionar pelo Partial Link Text (ou LINK_TEXT)\n",
    "* Quero conseguir pegar o número de whatsapp de contato"
   ]
  },
  {
   "cell_type": "code",
   "execution_count": 32,
   "id": "31df3610",
   "metadata": {
    "scrolled": true
   },
   "outputs": [
    {
     "name": "stdout",
     "output_type": "stream",
     "text": [
      "(21) 99658-2442 (WhatsApp)\n"
     ]
    }
   ],
   "source": [
    "numero_whatsapp = navegador.find_element(By.PARTIAL_LINK_TEXT, 'WhatsApp').text\n",
    "print(numero_whatsapp)"
   ]
  },
  {
   "cell_type": "markdown",
   "id": "a31edece",
   "metadata": {},
   "source": [
    "#### Selecionar pelo name\n",
    "* Preencher o formulário "
   ]
  },
  {
   "cell_type": "code",
   "execution_count": 33,
   "id": "3cc6f6ea",
   "metadata": {},
   "outputs": [],
   "source": [
    "navegador.find_element(By.NAME, 'email').send_keys('thiarly.cavalcante@live.com')"
   ]
  },
  {
   "cell_type": "markdown",
   "id": "43315523",
   "metadata": {},
   "source": [
    "#### Selecionando vários elementos de uma vez\n",
    "* Vamos selecionar pelo find_elements\n",
    "* Vamos clicar no item Blog do menu"
   ]
  },
  {
   "cell_type": "code",
   "execution_count": 56,
   "id": "ee72ea90",
   "metadata": {},
   "outputs": [
    {
     "name": "stdout",
     "output_type": "stream",
     "text": [
      "14\n"
     ]
    }
   ],
   "source": [
    "lista_elementos = navegador.find_elements(By.CLASS_NAME, 'nav-link')\n",
    "lista_elementos[5].click()\n",
    "print(len(lista_elementos))"
   ]
  },
  {
   "cell_type": "markdown",
   "id": "7771935c",
   "metadata": {},
   "source": [
    "# Selecionando elementos:\n",
    "\n",
    "###### id, xpath,class_name, text, tipo de informação\n"
   ]
  }
 ],
 "metadata": {
  "kernelspec": {
   "display_name": "Python 3 (ipykernel)",
   "language": "python",
   "name": "python3"
  },
  "language_info": {
   "codemirror_mode": {
    "name": "ipython",
    "version": 3
   },
   "file_extension": ".py",
   "mimetype": "text/x-python",
   "name": "python",
   "nbconvert_exporter": "python",
   "pygments_lexer": "ipython3",
   "version": "3.9.13"
  }
 },
 "nbformat": 4,
 "nbformat_minor": 5
}
