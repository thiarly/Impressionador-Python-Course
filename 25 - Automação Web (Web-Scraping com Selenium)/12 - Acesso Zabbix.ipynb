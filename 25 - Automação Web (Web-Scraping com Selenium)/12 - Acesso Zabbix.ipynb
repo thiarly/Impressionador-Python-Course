{
 "cells": [
  {
   "cell_type": "markdown",
   "id": "367cd714",
   "metadata": {
    "id": "367cd714"
   },
   "source": [
    "### Documentação Selenium:\n",
    "\n",
    "- https://selenium-python.readthedocs.io/locating-elements.html"
   ]
  },
  {
   "cell_type": "code",
   "execution_count": 45,
   "id": "4e28f9f7",
   "metadata": {
    "id": "4e28f9f7",
    "outputId": "28fed806-b8cb-45fb-e4fd-3cf82b74ab1c",
    "scrolled": true
   },
   "outputs": [],
   "source": [
    "from selenium import webdriver\n",
    "from selenium.webdriver.chrome.service import Service\n",
    "from webdriver_manager.chrome import ChromeDriverManager\n",
    "from selenium.webdriver.common.by import By\n",
    "from selenium.webdriver.common.keys import Keys\n",
    "import time"
   ]
  },
  {
   "cell_type": "code",
   "execution_count": null,
   "id": "f9c61cdb",
   "metadata": {},
   "outputs": [],
   "source": [
    "# Opening a new browser\n",
    "servico = Service(ChromeDriverManager().install())\n",
    "zabbix = webdriver.Chrome(service=servico)\n",
    "\n",
    "# Wait 3 Seconds\n",
    "time.sleep(3)\n",
    "\n",
    "# Acessing the page Zabbix\n",
    "page = \"http://172.16.0.45/zabbix\"\n",
    "zabbix.get(page)\n",
    "\n",
    "# Wait 5 Seconds\n",
    "time.sleep(2)\n",
    "\n",
    "# Cleaning and Adding user\n",
    "#zabbix.find_element(By.XPATH, '//*[@id=\"name\"]').clear()\n",
    "zabbix.find_element(By.XPATH, '//*[@id=\"name\"]').send_keys('Admin')\n",
    "\n",
    "# Adding Password\n",
    "#zabbix.find_element(By.XPATH, '//*[@id=\"password\"]').clear\n",
    "zabbix.find_element(By.XPATH, '//*[@id=\"password\"]').send_keys('IG!@br34')\n",
    "\n",
    "# Clicking bottom Sing in\n",
    "zabbix.find_element(By.XPATH, '//*[@id=\"enter\"]').click()\n",
    "time.sleep(2)\n",
    "\n",
    "# # Clicking Normal View\n",
    "zabbix.find_element(By.XPATH, '/html/body/div/main/button').click()\n",
    "time.sleep(2)\n",
    "\n",
    "# Clicking sidebar\n",
    "zabbix.find_element(By.XPATH, '//*[@id=\"sidebar-button-toggle\"]').click()\n",
    "time.sleep(2)\n",
    "\n",
    "# Clicking Screens\n",
    "zabbix.find_element(By.XPATH, '//*[@id=\"view\"]/ul/li[6]/a').click()\n",
    "time.sleep(2)\n",
    "\n",
    "# Screen mode of quiosque\n",
    "zabbix.find_element(By.XPATH, '/html/body/div/header/div[2]/nav/ul/li/form/ul/li[3]/button').click()\n",
    "zabbix.maximize_window()\n",
    "zabbix.fullscreen_window()\n",
    "\n"
   ]
  }
 ],
 "metadata": {
  "colab": {
   "name": "Preenchendo Formularios-checkpoint.ipynb",
   "provenance": []
  },
  "kernelspec": {
   "display_name": "Python 3 (ipykernel)",
   "language": "python",
   "name": "python3"
  },
  "language_info": {
   "codemirror_mode": {
    "name": "ipython",
    "version": 3
   },
   "file_extension": ".py",
   "mimetype": "text/x-python",
   "name": "python",
   "nbconvert_exporter": "python",
   "pygments_lexer": "ipython3",
   "version": "3.9.13"
  }
 },
 "nbformat": 4,
 "nbformat_minor": 5
}
