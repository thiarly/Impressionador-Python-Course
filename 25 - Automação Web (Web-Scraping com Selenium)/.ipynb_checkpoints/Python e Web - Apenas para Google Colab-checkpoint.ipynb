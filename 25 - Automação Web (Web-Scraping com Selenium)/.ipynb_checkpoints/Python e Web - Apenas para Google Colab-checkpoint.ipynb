{
 "cells": [
  {
   "cell_type": "code",
   "execution_count": 2,
   "metadata": {
    "colab": {
     "base_uri": "https://localhost:8080/"
    },
    "executionInfo": {
     "elapsed": 43596,
     "status": "ok",
     "timestamp": 1674581646062,
     "user": {
      "displayName": "Boris Araujo",
      "userId": "04316859350434088181"
     },
     "user_tz": 180
    },
    "id": "d6p1cnuNBuKQ",
    "outputId": "69985643-2762-46dd-f2e9-0555beb9df9c"
   },
   "outputs": [
    {
     "name": "stdout",
     "output_type": "stream",
     "text": [
      "Requirement already satisfied: Selenium in /Users/thiarly/opt/anaconda3/lib/python3.9/site-packages (4.8.3)\n",
      "Requirement already satisfied: trio~=0.17 in /Users/thiarly/opt/anaconda3/lib/python3.9/site-packages (from Selenium) (0.22.0)\n",
      "Requirement already satisfied: urllib3[socks]~=1.26 in /Users/thiarly/opt/anaconda3/lib/python3.9/site-packages (from Selenium) (1.26.11)\n",
      "Requirement already satisfied: certifi>=2021.10.8 in /Users/thiarly/opt/anaconda3/lib/python3.9/site-packages (from Selenium) (2022.9.24)\n",
      "Requirement already satisfied: trio-websocket~=0.9 in /Users/thiarly/opt/anaconda3/lib/python3.9/site-packages (from Selenium) (0.10.2)\n",
      "Requirement already satisfied: exceptiongroup>=1.0.0rc9 in /Users/thiarly/opt/anaconda3/lib/python3.9/site-packages (from trio~=0.17->Selenium) (1.1.1)\n",
      "Requirement already satisfied: async-generator>=1.9 in /Users/thiarly/opt/anaconda3/lib/python3.9/site-packages (from trio~=0.17->Selenium) (1.10)\n",
      "Requirement already satisfied: idna in /Users/thiarly/opt/anaconda3/lib/python3.9/site-packages (from trio~=0.17->Selenium) (3.3)\n",
      "Requirement already satisfied: sniffio in /Users/thiarly/opt/anaconda3/lib/python3.9/site-packages (from trio~=0.17->Selenium) (1.2.0)\n",
      "Requirement already satisfied: outcome in /Users/thiarly/opt/anaconda3/lib/python3.9/site-packages (from trio~=0.17->Selenium) (1.2.0)\n",
      "Requirement already satisfied: sortedcontainers in /Users/thiarly/opt/anaconda3/lib/python3.9/site-packages (from trio~=0.17->Selenium) (2.4.0)\n",
      "Requirement already satisfied: attrs>=19.2.0 in /Users/thiarly/opt/anaconda3/lib/python3.9/site-packages (from trio~=0.17->Selenium) (21.4.0)\n",
      "Requirement already satisfied: wsproto>=0.14 in /Users/thiarly/opt/anaconda3/lib/python3.9/site-packages (from trio-websocket~=0.9->Selenium) (1.2.0)\n",
      "Requirement already satisfied: PySocks!=1.5.7,<2.0,>=1.5.6 in /Users/thiarly/opt/anaconda3/lib/python3.9/site-packages (from urllib3[socks]~=1.26->Selenium) (1.7.1)\n",
      "Requirement already satisfied: h11<1,>=0.9.0 in /Users/thiarly/opt/anaconda3/lib/python3.9/site-packages (from wsproto>=0.14->trio-websocket~=0.9->Selenium) (0.14.0)\n",
      "zsh:1: command not found: apt-get\n",
      "The operation couldn’t be completed. Unable to locate a Java Runtime.\n",
      "Please visit http://www.java.com for information on installing Java.\n",
      "\n",
      "cp: /usr/lib/chromium-browser/chromedriver: No such file or directory\n"
     ]
    }
   ],
   "source": [
    "!pip install Selenium\n",
    "!apt-get update # to update ubuntu to correctly run apt install\n",
    "!apt install chromium-chromedriver\n",
    "!cp /usr/lib/chromium-browser/chromedriver /usr/bin"
   ]
  },
  {
   "cell_type": "code",
   "execution_count": 3,
   "metadata": {
    "colab": {
     "base_uri": "https://localhost:8080/",
     "height": 381
    },
    "executionInfo": {
     "elapsed": 821,
     "status": "error",
     "timestamp": 1674581661595,
     "user": {
      "displayName": "Boris Araujo",
      "userId": "04316859350434088181"
     },
     "user_tz": 180
    },
    "id": "7osndEIiBuKS",
    "outputId": "5b119556-1d49-430a-b82a-f3116cb48d30"
   },
   "outputs": [
    {
     "name": "stdout",
     "output_type": "stream",
     "text": [
      "Hashtag Treinamentos | Cursos de Excel, VBA, Python e mais!\n"
     ]
    }
   ],
   "source": [
    "import sys\n",
    "sys.path.insert(0,'/usr/lib/chromium-browser/chromedriver')\n",
    "\n",
    "from selenium import webdriver\n",
    "chrome_options = webdriver.ChromeOptions()\n",
    "chrome_options.add_argument('--headless')\n",
    "chrome_options.add_argument('--no-sandbox')\n",
    "chrome_options.add_argument('--disable-dev-shm-usage')\n",
    "wd = webdriver.Chrome('chromedriver',options=chrome_options)\n",
    "\n",
    "wd.get(\"https://www.hashtagtreinamentos.com\")\n",
    "print(wd.title)\n"
   ]
  }
 ],
 "metadata": {
  "colab": {
   "provenance": []
  },
  "kernelspec": {
   "display_name": "Python 3 (ipykernel)",
   "language": "python",
   "name": "python3"
  },
  "language_info": {
   "codemirror_mode": {
    "name": "ipython",
    "version": 3
   },
   "file_extension": ".py",
   "mimetype": "text/x-python",
   "name": "python",
   "nbconvert_exporter": "python",
   "pygments_lexer": "ipython3",
   "version": "3.9.13"
  }
 },
 "nbformat": 4,
 "nbformat_minor": 1
}
