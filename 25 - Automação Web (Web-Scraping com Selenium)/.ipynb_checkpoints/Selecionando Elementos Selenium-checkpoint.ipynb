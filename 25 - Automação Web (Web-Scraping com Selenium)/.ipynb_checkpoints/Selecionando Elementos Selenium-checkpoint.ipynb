{
 "cells": [
  {
   "cell_type": "code",
   "execution_count": 5,
   "id": "4e28f9f7",
   "metadata": {},
   "outputs": [],
   "source": [
    "from selenium import webdriver\n",
    "from selenium.webdriver.chrome.service import Service\n",
    "from webdriver_manager.chrome import ChromeDriverManager\n",
    "\n",
    "servico = Service(ChromeDriverManager().install())\n",
    "navegador = webdriver.Chrome(service=servico)"
   ]
  },
  {
   "cell_type": "code",
   "execution_count": 7,
   "id": "59c8398d",
   "metadata": {},
   "outputs": [
    {
     "name": "stdout",
     "output_type": "stream",
     "text": [
      "/Users/thiarly/Desktop/PROJECTS/Impressionador-Python-Course/25 - Automação Web (Web-Scraping com Selenium)\\Pagina Hashtag.html\n"
     ]
    }
   ],
   "source": [
    "import os\n",
    "\n",
    "#variavel para coletar caminho local\n",
    "caminho = os.getcwd()\n",
    "\n",
    "arquivo = caminho + r\"\\Pagina Hashtag.html\"\n",
    "\n",
    "#navegador.get(arquivo)"
   ]
  },
  {
   "cell_type": "code",
   "execution_count": 12,
   "id": "25228a28",
   "metadata": {},
   "outputs": [],
   "source": [
    "from selenium.webdriver.common.by import By\n",
    "\n",
    "navegador.find_element(By.ID, 'fullname').send_keys(\"Lira\")\n",
    "navegador.find_element(By.ID, 'email').send_keys(\"pythonimpressionador@gmail.com\")\n",
    "navegador.find_element(By.ID, '_form_176_submit').click()"
   ]
  }
 ],
 "metadata": {
  "kernelspec": {
   "display_name": "Python 3 (ipykernel)",
   "language": "python",
   "name": "python3"
  },
  "language_info": {
   "codemirror_mode": {
    "name": "ipython",
    "version": 3
   },
   "file_extension": ".py",
   "mimetype": "text/x-python",
   "name": "python",
   "nbconvert_exporter": "python",
   "pygments_lexer": "ipython3",
   "version": "3.9.13"
  }
 },
 "nbformat": 4,
 "nbformat_minor": 5
}
