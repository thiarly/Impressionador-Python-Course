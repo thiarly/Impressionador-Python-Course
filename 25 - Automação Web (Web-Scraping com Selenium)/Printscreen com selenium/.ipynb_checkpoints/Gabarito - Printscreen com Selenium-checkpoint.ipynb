{
 "cells": [
  {
   "cell_type": "markdown",
   "id": "7e990faa",
   "metadata": {
    "id": "7e990faa"
   },
   "source": [
    "### Abrindo o navegador"
   ]
  },
  {
   "cell_type": "code",
   "execution_count": 1,
   "id": "fe458edf",
   "metadata": {
    "id": "fe458edf",
    "outputId": "7eeb8442-b95a-4431-9eb8-120fc194128a"
   },
   "outputs": [],
   "source": [
    "from selenium import webdriver\n",
    "from selenium.webdriver.chrome.service import Service\n",
    "from webdriver_manager.chrome import ChromeDriverManager\n",
    "from selenium.webdriver.common.by import By\n",
    "\n",
    "servico = Service(ChromeDriverManager().install())\n",
    "navegador = webdriver.Chrome(service=servico)"
   ]
  },
  {
   "cell_type": "code",
   "execution_count": 7,
   "id": "7f376de9",
   "metadata": {
    "id": "7f376de9"
   },
   "outputs": [
    {
     "ename": "InvalidArgumentException",
     "evalue": "Message: invalid argument\n  (Session info: chrome=112.0.5615.49)\nStacktrace:\n0   chromedriver                        0x0000000110213ae8 chromedriver + 4958952\n1   chromedriver                        0x000000011020b7b3 chromedriver + 4925363\n2   chromedriver                        0x000000010fdcd051 chromedriver + 475217\n3   chromedriver                        0x000000010fdb5d24 chromedriver + 380196\n4   chromedriver                        0x000000010fdb3a2d chromedriver + 371245\n5   chromedriver                        0x000000010fdb3bdd chromedriver + 371677\n6   chromedriver                        0x000000010fdcf4c6 chromedriver + 484550\n7   chromedriver                        0x000000010fe528c1 chromedriver + 1022145\n8   chromedriver                        0x000000010fe36c12 chromedriver + 908306\n9   chromedriver                        0x000000010fe5225b chromedriver + 1020507\n10  chromedriver                        0x000000010fe369e3 chromedriver + 907747\n11  chromedriver                        0x000000010fe00aef chromedriver + 686831\n12  chromedriver                        0x000000010fe0200e chromedriver + 692238\n13  chromedriver                        0x00000001101cf9ad chromedriver + 4680109\n14  chromedriver                        0x00000001101d4c12 chromedriver + 4701202\n15  chromedriver                        0x00000001101db79f chromedriver + 4728735\n16  chromedriver                        0x00000001101d5b7a chromedriver + 4705146\n17  chromedriver                        0x00000001101a827e chromedriver + 4518526\n18  chromedriver                        0x00000001101f5908 chromedriver + 4835592\n19  chromedriver                        0x00000001101f5a87 chromedriver + 4835975\n20  chromedriver                        0x000000011020500f chromedriver + 4898831\n21  libsystem_pthread.dylib             0x00007ff80d059259 _pthread_start + 125\n22  libsystem_pthread.dylib             0x00007ff80d054c7b thread_start + 15\n",
     "output_type": "error",
     "traceback": [
      "\u001b[0;31m---------------------------------------------------------------------------\u001b[0m",
      "\u001b[0;31mInvalidArgumentException\u001b[0m                  Traceback (most recent call last)",
      "\u001b[0;32m/var/folders/zj/nb38z67n0g12xy5sbwbcfymr0000gn/T/ipykernel_2242/741110152.py\u001b[0m in \u001b[0;36m<module>\u001b[0;34m\u001b[0m\n\u001b[1;32m      3\u001b[0m \u001b[0mcaminho\u001b[0m \u001b[0;34m=\u001b[0m \u001b[0mos\u001b[0m\u001b[0;34m.\u001b[0m\u001b[0mgetcwd\u001b[0m\u001b[0;34m(\u001b[0m\u001b[0;34m)\u001b[0m\u001b[0;34m\u001b[0m\u001b[0;34m\u001b[0m\u001b[0m\n\u001b[1;32m      4\u001b[0m \u001b[0marquivo\u001b[0m \u001b[0;34m=\u001b[0m \u001b[0mcaminho\u001b[0m \u001b[0;34m+\u001b[0m \u001b[0;34mr\"/Pagina Hashtag.html\"\u001b[0m\u001b[0;34m\u001b[0m\u001b[0;34m\u001b[0m\u001b[0m\n\u001b[0;32m----> 5\u001b[0;31m \u001b[0mnavegador\u001b[0m\u001b[0;34m.\u001b[0m\u001b[0mget\u001b[0m\u001b[0;34m(\u001b[0m\u001b[0marquivo\u001b[0m\u001b[0;34m)\u001b[0m\u001b[0;34m\u001b[0m\u001b[0;34m\u001b[0m\u001b[0m\n\u001b[0m",
      "\u001b[0;32m~/opt/anaconda3/lib/python3.9/site-packages/selenium/webdriver/remote/webdriver.py\u001b[0m in \u001b[0;36mget\u001b[0;34m(self, url)\u001b[0m\n\u001b[1;32m    447\u001b[0m     \u001b[0;32mdef\u001b[0m \u001b[0mget\u001b[0m\u001b[0;34m(\u001b[0m\u001b[0mself\u001b[0m\u001b[0;34m,\u001b[0m \u001b[0murl\u001b[0m\u001b[0;34m:\u001b[0m \u001b[0mstr\u001b[0m\u001b[0;34m)\u001b[0m \u001b[0;34m->\u001b[0m \u001b[0;32mNone\u001b[0m\u001b[0;34m:\u001b[0m\u001b[0;34m\u001b[0m\u001b[0;34m\u001b[0m\u001b[0m\n\u001b[1;32m    448\u001b[0m         \u001b[0;34m\"\"\"Loads a web page in the current browser session.\"\"\"\u001b[0m\u001b[0;34m\u001b[0m\u001b[0;34m\u001b[0m\u001b[0m\n\u001b[0;32m--> 449\u001b[0;31m         \u001b[0mself\u001b[0m\u001b[0;34m.\u001b[0m\u001b[0mexecute\u001b[0m\u001b[0;34m(\u001b[0m\u001b[0mCommand\u001b[0m\u001b[0;34m.\u001b[0m\u001b[0mGET\u001b[0m\u001b[0;34m,\u001b[0m \u001b[0;34m{\u001b[0m\u001b[0;34m\"url\"\u001b[0m\u001b[0;34m:\u001b[0m \u001b[0murl\u001b[0m\u001b[0;34m}\u001b[0m\u001b[0;34m)\u001b[0m\u001b[0;34m\u001b[0m\u001b[0;34m\u001b[0m\u001b[0m\n\u001b[0m\u001b[1;32m    450\u001b[0m \u001b[0;34m\u001b[0m\u001b[0m\n\u001b[1;32m    451\u001b[0m     \u001b[0;34m@\u001b[0m\u001b[0mproperty\u001b[0m\u001b[0;34m\u001b[0m\u001b[0;34m\u001b[0m\u001b[0m\n",
      "\u001b[0;32m~/opt/anaconda3/lib/python3.9/site-packages/selenium/webdriver/remote/webdriver.py\u001b[0m in \u001b[0;36mexecute\u001b[0;34m(self, driver_command, params)\u001b[0m\n\u001b[1;32m    438\u001b[0m         \u001b[0mresponse\u001b[0m \u001b[0;34m=\u001b[0m \u001b[0mself\u001b[0m\u001b[0;34m.\u001b[0m\u001b[0mcommand_executor\u001b[0m\u001b[0;34m.\u001b[0m\u001b[0mexecute\u001b[0m\u001b[0;34m(\u001b[0m\u001b[0mdriver_command\u001b[0m\u001b[0;34m,\u001b[0m \u001b[0mparams\u001b[0m\u001b[0;34m)\u001b[0m\u001b[0;34m\u001b[0m\u001b[0;34m\u001b[0m\u001b[0m\n\u001b[1;32m    439\u001b[0m         \u001b[0;32mif\u001b[0m \u001b[0mresponse\u001b[0m\u001b[0;34m:\u001b[0m\u001b[0;34m\u001b[0m\u001b[0;34m\u001b[0m\u001b[0m\n\u001b[0;32m--> 440\u001b[0;31m             \u001b[0mself\u001b[0m\u001b[0;34m.\u001b[0m\u001b[0merror_handler\u001b[0m\u001b[0;34m.\u001b[0m\u001b[0mcheck_response\u001b[0m\u001b[0;34m(\u001b[0m\u001b[0mresponse\u001b[0m\u001b[0;34m)\u001b[0m\u001b[0;34m\u001b[0m\u001b[0;34m\u001b[0m\u001b[0m\n\u001b[0m\u001b[1;32m    441\u001b[0m             \u001b[0mresponse\u001b[0m\u001b[0;34m[\u001b[0m\u001b[0;34m\"value\"\u001b[0m\u001b[0;34m]\u001b[0m \u001b[0;34m=\u001b[0m \u001b[0mself\u001b[0m\u001b[0;34m.\u001b[0m\u001b[0m_unwrap_value\u001b[0m\u001b[0;34m(\u001b[0m\u001b[0mresponse\u001b[0m\u001b[0;34m.\u001b[0m\u001b[0mget\u001b[0m\u001b[0;34m(\u001b[0m\u001b[0;34m\"value\"\u001b[0m\u001b[0;34m,\u001b[0m \u001b[0;32mNone\u001b[0m\u001b[0;34m)\u001b[0m\u001b[0;34m)\u001b[0m\u001b[0;34m\u001b[0m\u001b[0;34m\u001b[0m\u001b[0m\n\u001b[1;32m    442\u001b[0m             \u001b[0;32mreturn\u001b[0m \u001b[0mresponse\u001b[0m\u001b[0;34m\u001b[0m\u001b[0;34m\u001b[0m\u001b[0m\n",
      "\u001b[0;32m~/opt/anaconda3/lib/python3.9/site-packages/selenium/webdriver/remote/errorhandler.py\u001b[0m in \u001b[0;36mcheck_response\u001b[0;34m(self, response)\u001b[0m\n\u001b[1;32m    243\u001b[0m                 \u001b[0malert_text\u001b[0m \u001b[0;34m=\u001b[0m \u001b[0mvalue\u001b[0m\u001b[0;34m[\u001b[0m\u001b[0;34m\"alert\"\u001b[0m\u001b[0;34m]\u001b[0m\u001b[0;34m.\u001b[0m\u001b[0mget\u001b[0m\u001b[0;34m(\u001b[0m\u001b[0;34m\"text\"\u001b[0m\u001b[0;34m)\u001b[0m\u001b[0;34m\u001b[0m\u001b[0;34m\u001b[0m\u001b[0m\n\u001b[1;32m    244\u001b[0m             \u001b[0;32mraise\u001b[0m \u001b[0mexception_class\u001b[0m\u001b[0;34m(\u001b[0m\u001b[0mmessage\u001b[0m\u001b[0;34m,\u001b[0m \u001b[0mscreen\u001b[0m\u001b[0;34m,\u001b[0m \u001b[0mstacktrace\u001b[0m\u001b[0;34m,\u001b[0m \u001b[0malert_text\u001b[0m\u001b[0;34m)\u001b[0m  \u001b[0;31m# type: ignore[call-arg]  # mypy is not smart enough here\u001b[0m\u001b[0;34m\u001b[0m\u001b[0;34m\u001b[0m\u001b[0m\n\u001b[0;32m--> 245\u001b[0;31m         \u001b[0;32mraise\u001b[0m \u001b[0mexception_class\u001b[0m\u001b[0;34m(\u001b[0m\u001b[0mmessage\u001b[0m\u001b[0;34m,\u001b[0m \u001b[0mscreen\u001b[0m\u001b[0;34m,\u001b[0m \u001b[0mstacktrace\u001b[0m\u001b[0;34m)\u001b[0m\u001b[0;34m\u001b[0m\u001b[0;34m\u001b[0m\u001b[0m\n\u001b[0m",
      "\u001b[0;31mInvalidArgumentException\u001b[0m: Message: invalid argument\n  (Session info: chrome=112.0.5615.49)\nStacktrace:\n0   chromedriver                        0x0000000110213ae8 chromedriver + 4958952\n1   chromedriver                        0x000000011020b7b3 chromedriver + 4925363\n2   chromedriver                        0x000000010fdcd051 chromedriver + 475217\n3   chromedriver                        0x000000010fdb5d24 chromedriver + 380196\n4   chromedriver                        0x000000010fdb3a2d chromedriver + 371245\n5   chromedriver                        0x000000010fdb3bdd chromedriver + 371677\n6   chromedriver                        0x000000010fdcf4c6 chromedriver + 484550\n7   chromedriver                        0x000000010fe528c1 chromedriver + 1022145\n8   chromedriver                        0x000000010fe36c12 chromedriver + 908306\n9   chromedriver                        0x000000010fe5225b chromedriver + 1020507\n10  chromedriver                        0x000000010fe369e3 chromedriver + 907747\n11  chromedriver                        0x000000010fe00aef chromedriver + 686831\n12  chromedriver                        0x000000010fe0200e chromedriver + 692238\n13  chromedriver                        0x00000001101cf9ad chromedriver + 4680109\n14  chromedriver                        0x00000001101d4c12 chromedriver + 4701202\n15  chromedriver                        0x00000001101db79f chromedriver + 4728735\n16  chromedriver                        0x00000001101d5b7a chromedriver + 4705146\n17  chromedriver                        0x00000001101a827e chromedriver + 4518526\n18  chromedriver                        0x00000001101f5908 chromedriver + 4835592\n19  chromedriver                        0x00000001101f5a87 chromedriver + 4835975\n20  chromedriver                        0x000000011020500f chromedriver + 4898831\n21  libsystem_pthread.dylib             0x00007ff80d059259 _pthread_start + 125\n22  libsystem_pthread.dylib             0x00007ff80d054c7b thread_start + 15\n"
     ]
    }
   ],
   "source": [
    "import os\n",
    "\n",
    "caminho = os.getcwd()\n",
    "arquivo = caminho + r\"/Pagina Hashtag.html\"\n",
    "navegador.get(arquivo)"
   ]
  },
  {
   "cell_type": "markdown",
   "id": "b4f29156",
   "metadata": {
    "id": "b4f29156"
   },
   "source": [
    "### Tirando print da tela inteira"
   ]
  },
  {
   "cell_type": "code",
   "execution_count": null,
   "id": "0f9ded01",
   "metadata": {
    "id": "0f9ded01",
    "outputId": "b1373887-0884-4970-edb1-166b66850e98"
   },
   "outputs": [
    {
     "data": {
      "text/plain": [
       "True"
      ]
     },
     "execution_count": 3,
     "metadata": {},
     "output_type": "execute_result"
    }
   ],
   "source": [
    "navegador.save_screenshot(\"print.png\")"
   ]
  },
  {
   "cell_type": "markdown",
   "id": "034f941a",
   "metadata": {
    "id": "034f941a"
   },
   "source": [
    "### Tirando print de parte da tela"
   ]
  },
  {
   "cell_type": "code",
   "execution_count": null,
   "id": "f671d684",
   "metadata": {
    "id": "f671d684"
   },
   "outputs": [],
   "source": [
    "from PIL import Image\n",
    "\n",
    "imagem = Image.open(\"print.png\")\n",
    "\n",
    "elemento = navegador.find_element(By.ID, 'header')\n",
    "posicao = elemento.location\n",
    "tamanho = elemento.size\n",
    "\n",
    "x_inicial = posicao[\"x\"] * 2.5\n",
    "y_inicial = posicao[\"y\"] * 2.5\n",
    "x_final = (x_inicial + tamanho[\"width\"]) * 2.5\n",
    "y_final = (y_inicial + tamanho[\"height\"]) * 2.5\n",
    "\n",
    "imagem = imagem.crop((x_inicial, y_inicial, x_final, y_final))\n",
    "imagem.save(\"print_pedaco.png\")"
   ]
  }
 ],
 "metadata": {
  "colab": {
   "provenance": []
  },
  "kernelspec": {
   "display_name": "Python 3 (ipykernel)",
   "language": "python",
   "name": "python3"
  },
  "language_info": {
   "codemirror_mode": {
    "name": "ipython",
    "version": 3
   },
   "file_extension": ".py",
   "mimetype": "text/x-python",
   "name": "python",
   "nbconvert_exporter": "python",
   "pygments_lexer": "ipython3",
   "version": "3.9.13"
  }
 },
 "nbformat": 4,
 "nbformat_minor": 5
}
