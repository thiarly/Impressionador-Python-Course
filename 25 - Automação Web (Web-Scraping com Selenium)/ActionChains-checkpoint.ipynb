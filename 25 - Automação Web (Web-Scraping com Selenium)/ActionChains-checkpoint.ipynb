{
 "cells": [
  {
   "cell_type": "markdown",
   "id": "367cd714",
   "metadata": {},
   "source": [
    "### Documentação Selenium:\n",
    "\n",
    "- https://selenium-python.readthedocs.io/locating-elements.html"
   ]
  },
  {
   "cell_type": "code",
   "execution_count": 51,
   "id": "4e28f9f7",
   "metadata": {},
   "outputs": [],
   "source": [
    "from selenium import webdriver\n",
    "from selenium.webdriver.chrome.service import Service\n",
    "from webdriver_manager.chrome import ChromeDriverManager\n",
    "from selenium.webdriver.common.by import By\n",
    "\n",
    "servico = Service(ChromeDriverManager().install())\n",
    "navegador = webdriver.Chrome(service=servico)"
   ]
  },
  {
   "cell_type": "code",
   "execution_count": 52,
   "id": "59c8398d",
   "metadata": {},
   "outputs": [],
   "source": [
    "import os\n",
    "\n",
    "caminho = os.getcwd()\n",
    "arquivo = \"file:///Users/thiarly/Desktop/PROJECTS/Impressionador-Python-Course/25%20-%20Automação%20Web%20(Web-Scraping%20com%20Selenium)/aula%204%20-%20acessar%20pagina%20com%20selenium/Pagina%20Hashtag.html\"\n",
    "navegador.get(arquivo)"
   ]
  },
  {
   "cell_type": "markdown",
   "id": "7d964ce5",
   "metadata": {},
   "source": [
    "#### Dropdown diferente em um site real"
   ]
  },
  {
   "cell_type": "code",
   "execution_count": 54,
   "id": "09f60749",
   "metadata": {},
   "outputs": [],
   "source": [
    "# link = navegador.find_element(By.XPATH, '//*[@id=\"menu-item-17042\"]/a').get_attribute('href')\n",
    "# navegador.get(link)"
   ]
  },
  {
   "cell_type": "markdown",
   "id": "80f18fcd",
   "metadata": {},
   "source": [
    "### ActionChains\n",
    "\n",
    "Link com a referência: https://www.selenium.dev/pt-br/documentation/webdriver/actions_api/mouse/"
   ]
  },
  {
   "cell_type": "code",
   "execution_count": 59,
   "id": "dbac0005",
   "metadata": {},
   "outputs": [],
   "source": [
    "from selenium.webdriver import ActionChains\n",
    "\n",
    "menu = navegador.find_element(By.XPATH, '//*[@id=\"menu-item-dropdown-16313\"]')\n",
    "item = navegador.find_element(By.XPATH, '//*//*[@id=\"menu-item-17042\"]/a')\n",
    "\n",
    "#Colocar o mouse em cima do menu\n",
    "ActionChains(navegador).move_to_element(menu).perform()\n",
    "\n",
    "#Clicar no item\n",
    "item.click()"
   ]
  }
 ],
 "metadata": {
  "kernelspec": {
   "display_name": "Python 3 (ipykernel)",
   "language": "python",
   "name": "python3"
  },
  "language_info": {
   "codemirror_mode": {
    "name": "ipython",
    "version": 3
   },
   "file_extension": ".py",
   "mimetype": "text/x-python",
   "name": "python",
   "nbconvert_exporter": "python",
   "pygments_lexer": "ipython3",
   "version": "3.9.13"
  }
 },
 "nbformat": 4,
 "nbformat_minor": 5
}
