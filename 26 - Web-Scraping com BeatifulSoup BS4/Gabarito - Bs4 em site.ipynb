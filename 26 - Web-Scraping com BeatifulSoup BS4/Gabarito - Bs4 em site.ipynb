{
 "cells": [
  {
   "cell_type": "code",
   "execution_count": 6,
   "id": "3533148c",
   "metadata": {},
   "outputs": [],
   "source": [
    "from bs4 import BeautifulSoup\n",
    "import requests\n",
    "\n",
    "link = 'https://coinmarketcap.com/'\n",
    "requisicao = requests.get(link)\n",
    "site = BeautifulSoup(requisicao.text, \"html.parser\")\n",
    "#print(site.prettify())\n"
   ]
  },
  {
   "cell_type": "code",
   "execution_count": 18,
   "id": "9e3e1325",
   "metadata": {},
   "outputs": [
    {
     "name": "stdout",
     "output_type": "stream",
     "text": [
      "Bitcoin $30,463.29\n",
      "Ethereum $2,105.40\n",
      "Tether $1.00\n",
      "BNB $329.11\n",
      "USD Coin $0.9998\n",
      "XRP $0.5257\n",
      "Cardano $0.4361\n",
      "Dogecoin $0.0886\n",
      "Polygon $1.16\n",
      "Solana $24.51\n"
     ]
    },
    {
     "ename": "IndexError",
     "evalue": "list index out of range",
     "output_type": "error",
     "traceback": [
      "\u001b[0;31m---------------------------------------------------------------------------\u001b[0m",
      "\u001b[0;31mIndexError\u001b[0m                                Traceback (most recent call last)",
      "\u001b[0;32m/var/folders/zj/nb38z67n0g12xy5sbwbcfymr0000gn/T/ipykernel_19639/994048614.py\u001b[0m in \u001b[0;36m<module>\u001b[0;34m\u001b[0m\n\u001b[1;32m      8\u001b[0m \u001b[0;31m#     print(lista_textos)\u001b[0m\u001b[0;34m\u001b[0m\u001b[0;34m\u001b[0m\u001b[0m\n\u001b[1;32m      9\u001b[0m     \u001b[0mnome\u001b[0m \u001b[0;34m=\u001b[0m \u001b[0mlista_textos\u001b[0m\u001b[0;34m[\u001b[0m\u001b[0;36m1\u001b[0m\u001b[0;34m]\u001b[0m\u001b[0;34m\u001b[0m\u001b[0;34m\u001b[0m\u001b[0m\n\u001b[0;32m---> 10\u001b[0;31m     \u001b[0mpreco\u001b[0m \u001b[0;34m=\u001b[0m \u001b[0mlista_textos\u001b[0m\u001b[0;34m[\u001b[0m\u001b[0;36m4\u001b[0m\u001b[0;34m]\u001b[0m\u001b[0;34m\u001b[0m\u001b[0;34m\u001b[0m\u001b[0m\n\u001b[0m\u001b[1;32m     11\u001b[0m     \u001b[0mprint\u001b[0m\u001b[0;34m(\u001b[0m\u001b[0mnome\u001b[0m\u001b[0;34m,\u001b[0m \u001b[0mpreco\u001b[0m\u001b[0;34m)\u001b[0m\u001b[0;34m\u001b[0m\u001b[0;34m\u001b[0m\u001b[0m\n",
      "\u001b[0;31mIndexError\u001b[0m: list index out of range"
     ]
    }
   ],
   "source": [
    "import re\n",
    "\n",
    "tbody = site.find(\"tbody\")\n",
    "linhas = tbody.find_all(\"tr\")\n",
    "for linha in linhas:\n",
    "    texto_linha = linha.get_text(separator=\";\")\n",
    "    lista_textos = texto_linha.split(\";\")\n",
    "#     print(lista_textos)\n",
    "    nome = lista_textos[1]\n",
    "    preco = lista_textos[4]\n",
    "    print(nome, preco)"
   ]
  },
  {
   "cell_type": "code",
   "execution_count": null,
   "id": "57a79e11",
   "metadata": {},
   "outputs": [],
   "source": []
  }
 ],
 "metadata": {
  "kernelspec": {
   "display_name": "Python 3 (ipykernel)",
   "language": "python",
   "name": "python3"
  },
  "language_info": {
   "codemirror_mode": {
    "name": "ipython",
    "version": 3
   },
   "file_extension": ".py",
   "mimetype": "text/x-python",
   "name": "python",
   "nbconvert_exporter": "python",
   "pygments_lexer": "ipython3",
   "version": "3.9.13"
  }
 },
 "nbformat": 4,
 "nbformat_minor": 5
}
