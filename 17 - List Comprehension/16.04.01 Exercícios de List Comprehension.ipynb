{
 "cells": [
  {
   "cell_type": "markdown",
   "metadata": {
    "id": "_hqX4qRpTXRw"
   },
   "source": [
    "# Exercícios\n",
    "\n",
    "## 1. Tamanho do Pedido de Compras\n",
    "\n",
    "Nesse exercício vamos avaliar o estoque de uma empresa. Vamos considerar que todos os produtos dessa empresa são comprados em lotes de 500 unidades.\n",
    "\n",
    "- Caso o estoque esteja abaixo de 1000 unidades, devemos fazer um pedido de 500 unidades.\n",
    "- Caso o estoque esteja abaixo de 200 unidades, devemos fazer um pedido de 1000 unidades.\n",
    "\n",
    "Defina o valor a ser pedido de cada produto para enviar ao time de compras."
   ]
  },
  {
   "cell_type": "code",
   "execution_count": 1,
   "metadata": {
    "id": "yjccxaBZTXRy"
   },
   "outputs": [],
   "source": [
    "estoque = [('BSA2199',396),('PPF5239',251),('BSA1212',989),('PPF2154',449),('BEB3410',241),('PPF8999',527),('EMB9591',601),('BSA2006',314),('EMB3604',469),('EMB2070',733),('PPF9018',339),('PPF1468',906),('BSA5819',291),('PPF8666',850),('BEB2983',353),('BEB5877',456),('PPF5008',963),('PPF3877',185),('PPF7321',163),('BSA8833',644),('PPF4980',421),('PPF3063',757),('BSA2089',271),('BSA8398',180),('EMB4622',515),('EMB9814',563),('PPF3784',229),('PPF2398',270),('BEB3211',181),('PPF8655',459),('PPF1874',799),('PPF8789',126),('PPF6324',375),('EMB9290',883),('BSA5516',555),('BSA8451',243),('BSA8213',423)]\n",
    "\n"
   ]
  },
  {
   "cell_type": "code",
   "execution_count": 13,
   "metadata": {},
   "outputs": [
    {
     "name": "stdout",
     "output_type": "stream",
     "text": [
      "[500, 500, 500, 500, 500, 500, 500, 500, 500, 500, 500, 500, 500, 500, 500, 500, 500, 1000, 1000, 500, 500, 500, 500, 1000, 500, 500, 500, 500, 1000, 500, 500, 1000, 500, 500, 500, 500, 500]\n"
     ]
    }
   ],
   "source": [
    "lista_pedido2 = [1000 if qte < 200 else 500 for produto, qte in estoque]\n",
    "print(lista_pedido2)"
   ]
  },
  {
   "cell_type": "code",
   "execution_count": 10,
   "metadata": {},
   "outputs": [
    {
     "name": "stdout",
     "output_type": "stream",
     "text": [
      "Solicitar compra de 500 unidades do produto BSA2199\n",
      "Solicitar compra de 500 unidades do produto PPF5239\n",
      "Solicitar compra de 500 unidades do produto BSA1212\n",
      "Solicitar compra de 500 unidades do produto PPF2154\n",
      "Solicitar compra de 500 unidades do produto BEB3410\n",
      "Solicitar compra de 500 unidades do produto PPF8999\n",
      "Solicitar compra de 500 unidades do produto EMB9591\n",
      "Solicitar compra de 500 unidades do produto BSA2006\n",
      "Solicitar compra de 500 unidades do produto EMB3604\n",
      "Solicitar compra de 500 unidades do produto EMB2070\n",
      "Solicitar compra de 500 unidades do produto PPF9018\n",
      "Solicitar compra de 500 unidades do produto PPF1468\n",
      "Solicitar compra de 500 unidades do produto BSA5819\n",
      "Solicitar compra de 500 unidades do produto PPF8666\n",
      "Solicitar compra de 500 unidades do produto BEB2983\n",
      "Solicitar compra de 500 unidades do produto BEB5877\n",
      "Solicitar compra de 500 unidades do produto PPF5008\n",
      "Solicitar compra de 1000 unidades do produto PPF3877\n",
      "Solicitar compra de 1000 unidades do produto PPF7321\n",
      "Solicitar compra de 500 unidades do produto BSA8833\n",
      "Solicitar compra de 500 unidades do produto PPF4980\n",
      "Solicitar compra de 500 unidades do produto PPF3063\n",
      "Solicitar compra de 500 unidades do produto BSA2089\n",
      "Solicitar compra de 1000 unidades do produto BSA8398\n",
      "Solicitar compra de 500 unidades do produto EMB4622\n",
      "Solicitar compra de 500 unidades do produto EMB9814\n",
      "Solicitar compra de 500 unidades do produto PPF3784\n",
      "Solicitar compra de 500 unidades do produto PPF2398\n",
      "Solicitar compra de 1000 unidades do produto BEB3211\n",
      "Solicitar compra de 500 unidades do produto PPF8655\n",
      "Solicitar compra de 500 unidades do produto PPF1874\n",
      "Solicitar compra de 1000 unidades do produto PPF8789\n",
      "Solicitar compra de 500 unidades do produto PPF6324\n",
      "Solicitar compra de 500 unidades do produto EMB9290\n",
      "Solicitar compra de 500 unidades do produto BSA5516\n",
      "Solicitar compra de 500 unidades do produto BSA8451\n",
      "Solicitar compra de 500 unidades do produto BSA8213\n"
     ]
    }
   ],
   "source": [
    "for codigo, qtd in estoque:\n",
    "    if qtd < 200:\n",
    "        print('Solicitar compra de 1000 unidades do produto {}'.format(codigo))\n",
    "    elif qtd < 1000:\n",
    "        print('Solicitar compra de 500 unidades do produto {}'.format(codigo))\n",
    "    else:\n",
    "        print('Estoque dentro da normalidade aceitavel')\n",
    "        \n",
    "        "
   ]
  }
 ],
 "metadata": {
  "colab": {
   "collapsed_sections": [],
   "name": "16.04.01 Exercícios de List Comprehension.ipynb",
   "provenance": []
  },
  "kernelspec": {
   "display_name": "Python 3 (ipykernel)",
   "language": "python",
   "name": "python3"
  },
  "language_info": {
   "codemirror_mode": {
    "name": "ipython",
    "version": 3
   },
   "file_extension": ".py",
   "mimetype": "text/x-python",
   "name": "python",
   "nbconvert_exporter": "python",
   "pygments_lexer": "ipython3",
   "version": "3.9.13"
  }
 },
 "nbformat": 4,
 "nbformat_minor": 1
}
