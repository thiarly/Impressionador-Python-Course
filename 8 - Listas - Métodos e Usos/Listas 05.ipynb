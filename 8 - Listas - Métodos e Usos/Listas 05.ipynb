{
 "cells": [
  {
   "cell_type": "markdown",
   "metadata": {},
   "source": [
    "# Algumas Funções Básicas de Lista\n",
    "\n",
    "## Tamanho da Lista\n",
    "\n",
    "tamanho = len(lista)"
   ]
  },
  {
   "cell_type": "code",
   "execution_count": 3,
   "metadata": {},
   "outputs": [
    {
     "name": "stdout",
     "output_type": "stream",
     "text": [
      "['apple tv', 'mac', 'iphone x', 'IPad', 'apple watch', 'mac book', 'airpods', 'relogio']\n",
      "8\n"
     ]
    }
   ],
   "source": [
    "produtos = ['apple tv', 'mac', 'iphone x', 'IPad', 'apple watch', 'mac book', 'airpods']\n"
   ]
  },
  {
   "cell_type": "markdown",
   "metadata": {},
   "source": [
    "- Quantos produtos temos a venda?"
   ]
  },
  {
   "cell_type": "code",
   "execution_count": 6,
   "metadata": {},
   "outputs": [
    {
     "name": "stdout",
     "output_type": "stream",
     "text": [
      "Temos essa quantidade de produtos: 8\n"
     ]
    }
   ],
   "source": [
    "qtde = len(produtos)\n",
    "print(f'Temos essa quantidade de produtos: {qtde}')"
   ]
  },
  {
   "cell_type": "markdown",
   "metadata": {},
   "source": [
    "## Maior e Menor Valor\n",
    "\n",
    "maior = max(lista)\n",
    "\n",
    "menor = min(lista)"
   ]
  },
  {
   "cell_type": "code",
   "execution_count": 10,
   "metadata": {},
   "outputs": [
    {
     "name": "stdout",
     "output_type": "stream",
     "text": [
      "O maior valor da lista é 15000 e o menor é 100\n"
     ]
    }
   ],
   "source": [
    "vendas = [1000, 1500, 15000, 270, 900, 100, 1200]\n",
    "\n",
    "maior = max(vendas)\n",
    "menor = min(vendas)\n",
    "print(f'O maior valor da lista é {maior} e o menor é {menor}')\n",
    "\n"
   ]
  },
  {
   "cell_type": "markdown",
   "metadata": {},
   "source": [
    "- Qual o item mais vendido?\n",
    "- Qual o item menos vendido?"
   ]
  },
  {
   "cell_type": "code",
   "execution_count": 20,
   "metadata": {},
   "outputs": [
    {
     "name": "stdout",
     "output_type": "stream",
     "text": [
      "O produto mais vendido foi iphone x com valor R$ 15000\n",
      "O produto mais vendido foi mac book com valor R$ 100\n",
      "mac book\n"
     ]
    }
   ],
   "source": [
    "produto_max_vendido = vendas.index(maior)\n",
    "produto_min_vendido = vendas.index(menor)\n",
    "print(f'O produto mais vendido foi {produtos[2]} com valor R$ {vendas[2]}')\n",
    "print(f'O produto mais vendido foi {produtos[5]} com valor R$ {vendas[5]}')\n",
    "print(produtos[5])\n"
   ]
  }
 ],
 "metadata": {
  "kernelspec": {
   "display_name": "Python 3 (ipykernel)",
   "language": "python",
   "name": "python3"
  },
  "language_info": {
   "codemirror_mode": {
    "name": "ipython",
    "version": 3
   },
   "file_extension": ".py",
   "mimetype": "text/x-python",
   "name": "python",
   "nbconvert_exporter": "python",
   "pygments_lexer": "ipython3",
   "version": "3.9.13"
  }
 },
 "nbformat": 4,
 "nbformat_minor": 4
}
