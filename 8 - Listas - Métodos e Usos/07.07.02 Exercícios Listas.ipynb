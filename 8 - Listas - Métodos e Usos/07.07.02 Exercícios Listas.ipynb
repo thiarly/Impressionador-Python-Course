{
 "cells": [
  {
   "cell_type": "markdown",
   "metadata": {},
   "source": [
    "# Exercícios\n",
    "\n",
    "## 1. Faturamento do Melhor e do Pior Mês do Ano\n",
    "\n",
    "Qual foi o valor de vendas do melhor mês do Ano?\n",
    "E valor do pior mês do ano?"
   ]
  },
  {
   "cell_type": "code",
   "execution_count": 8,
   "metadata": {},
   "outputs": [
    {
     "name": "stdout",
     "output_type": "stream",
     "text": [
      "O maior valor das mensais do ano foi de 49051 e o menor valor foi de 9650, referente a valores: \n",
      "[25000, 29000, 22200, 17750, 15870, 19900, 19850, 20120, 17540, 15555, 49051, 9650]\n"
     ]
    }
   ],
   "source": [
    "meses = ['jan', 'fev', 'mar', 'abr', 'mai', 'jun', 'jul', 'ago', 'set', 'out', 'nov', 'dez']\n",
    "vendas_1sem = [25000, 29000, 22200, 17750, 15870, 19900]\n",
    "vendas_2sem = [19850, 20120, 17540, 15555, 49051, 9650]\n",
    "\n",
    "#unificando as listas\n",
    "vendas_1sem.extend(vendas_2sem)\n",
    "\n",
    "\n",
    "maior_valor = max(vendas_1sem)\n",
    "menor_valor = min(vendas_1sem)\n",
    "\n",
    "print('O maior valor das mensais do ano foi de {} e o menor valor foi de {}, referente a valores: \\n{}'.format(maior_valor, menor_valor, vendas_1sem))\n",
    "\n"
   ]
  },
  {
   "cell_type": "markdown",
   "metadata": {},
   "source": [
    "## 2. Continuação\n",
    "\n",
    "Agora relacione as duas listas para printar 'O melhor mês do ano foi {} com {} vendas' e o mesmo para o pior mês do ano.\n",
    "\n",
    "Calcule também o faturamento total do Ano e quanto que o melhor mês representou do faturamento total.\n",
    "\n",
    "Obs: Para o faturamento total, pode usar a função sum(lista) que soma todos os itens de uma lista"
   ]
  },
  {
   "cell_type": "code",
   "execution_count": 65,
   "metadata": {},
   "outputs": [
    {
     "name": "stdout",
     "output_type": "stream",
     "text": [
      "O melhor mês do ano foi nov com 49051 \n",
      "O pior mês do ano foi dez com 9650\n",
      "O faturamento total foi de 261486, e o melhor mês representou 18.758556863464964%\n"
     ]
    }
   ],
   "source": [
    "valor_max_vendido = vendas_1sem.index(maior_valor)\n",
    "valor_min_vendido = vendas_1sem.index(menor_valor)\n",
    "faturamento_total = sum(vendas_1sem)\n",
    "representou = (maior_valor / faturamento_total) * 100\n",
    "\n",
    "\n",
    "print('O melhor mês do ano foi {} com {} \\nO pior mês do ano foi {} com {}'.format(meses[10], vendas_1sem[10], meses[11], vendas_1sem[11]))\n",
    "print('O faturamento total foi de {}, e o melhor mês representou {}%'.format(faturamento_total, representou))"
   ]
  },
  {
   "cell_type": "markdown",
   "metadata": {},
   "source": [
    "## 3. Crie uma lista com o top 3 valores de vendas do ano (sem fazer \"no olho\")\n",
    "\n",
    "Dica: o método remove retira um item da lista."
   ]
  },
  {
   "cell_type": "code",
   "execution_count": 66,
   "metadata": {},
   "outputs": [
    {
     "name": "stdout",
     "output_type": "stream",
     "text": [
      "[25000, 29000, 22200, 17750, 15870, 19900, 19850, 20120, 17540, 15555, 49051, 9650]\n",
      "[49051, 29000, 25000]\n"
     ]
    }
   ],
   "source": [
    "top3 = sorted(vendas_1sem, reverse=True)\n",
    "del top3[3:]\n",
    "print(vendas_1sem)\n",
    "print(top3)"
   ]
  }
 ],
 "metadata": {
  "kernelspec": {
   "display_name": "Python 3 (ipykernel)",
   "language": "python",
   "name": "python3"
  },
  "language_info": {
   "codemirror_mode": {
    "name": "ipython",
    "version": 3
   },
   "file_extension": ".py",
   "mimetype": "text/x-python",
   "name": "python",
   "nbconvert_exporter": "python",
   "pygments_lexer": "ipython3",
   "version": "3.9.13"
  }
 },
 "nbformat": 4,
 "nbformat_minor": 4
}
