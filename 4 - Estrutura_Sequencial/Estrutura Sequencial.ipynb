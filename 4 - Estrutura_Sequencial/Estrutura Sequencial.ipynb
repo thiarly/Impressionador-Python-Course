{
 "cells": [
  {
   "cell_type": "markdown",
   "id": "bb0f9514",
   "metadata": {
    "id": "bb0f9514"
   },
   "source": [
    "# Lista de Estrutura Sequencial"
   ]
  },
  {
   "cell_type": "markdown",
   "id": "4e7a8c30",
   "metadata": {
    "id": "4e7a8c30"
   },
   "source": [
    "#### 1. Faça um Programa que mostre a mensagem (print) \"Alo mundo\" na tela."
   ]
  },
  {
   "cell_type": "code",
   "execution_count": 3,
   "id": "883bfe85",
   "metadata": {
    "id": "883bfe85"
   },
   "outputs": [
    {
     "name": "stdout",
     "output_type": "stream",
     "text": [
      "Olá Mundo\n"
     ]
    }
   ],
   "source": [
    "print (\"Olá Mundo\")"
   ]
  },
  {
   "cell_type": "markdown",
   "id": "71d6d6a2",
   "metadata": {
    "id": "71d6d6a2"
   },
   "source": [
    "#### 2. Faça um Programa que peça um número (input) e então mostre a mensagem: \"O número informado foi [número].\""
   ]
  },
  {
   "cell_type": "code",
   "execution_count": 6,
   "id": "30cfffcf",
   "metadata": {
    "id": "30cfffcf"
   },
   "outputs": [
    {
     "name": "stdout",
     "output_type": "stream",
     "text": [
      "O número informado foi:14523\n"
     ]
    }
   ],
   "source": [
    "numero = input(\"O número informado foi:\" )"
   ]
  },
  {
   "cell_type": "markdown",
   "id": "c5e43160",
   "metadata": {
    "id": "c5e43160"
   },
   "source": [
    "#### 3. Faça um Programa que peça dois números e imprima a soma."
   ]
  },
  {
   "cell_type": "code",
   "execution_count": 8,
   "id": "b0e79590",
   "metadata": {
    "id": "b0e79590"
   },
   "outputs": [
    {
     "name": "stdout",
     "output_type": "stream",
     "text": [
      "Digite o 1º valor: 20\n",
      "Digite o 2º valor: 30\n",
      "A soma entre 20.0 e 30.0 é igual a: 50.0\n"
     ]
    }
   ],
   "source": [
    "num1 = float(input(\"Digite o 1º valor: \"))\n",
    "num2 = float(input(\"Digite o 2º valor: \"))\n",
    "soma = num1 + num2\n",
    "print ('A soma entre {} e {} é igual a: {}'.format(num1, num2, soma))\n",
    "\n"
   ]
  },
  {
   "cell_type": "markdown",
   "id": "17826987",
   "metadata": {
    "id": "17826987"
   },
   "source": [
    "#### 4. Faça um Programa que peça as 4 notas bimestrais de um aluno e mostre a média de todas as notas."
   ]
  },
  {
   "cell_type": "code",
   "execution_count": 10,
   "id": "23b66762",
   "metadata": {
    "id": "23b66762"
   },
   "outputs": [
    {
     "name": "stdout",
     "output_type": "stream",
     "text": [
      "Digite o valor do 1º bimestre: 7.3\n",
      "Digite o valor do 2º bimestre: 7.1\n",
      "Digite o valor do 3º bimestre: 5.9\n",
      "Digite o valor do 4º bimestre: 9.2\n",
      "A média dos 4 bimestres foi: 7.374999999999999\n"
     ]
    }
   ],
   "source": [
    "bi1 = float(input('Digite o valor do 1º bimestre: '))\n",
    "bi2 = float(input('Digite o valor do 2º bimestre: '))\n",
    "bi3 = float(input('Digite o valor do 3º bimestre: '))\n",
    "bi4 = float(input('Digite o valor do 4º bimestre: '))\n",
    "\n",
    "soma = bi1 + bi2 + bi3 + bi4\n",
    "resultado = soma / 4\n",
    "\n",
    "print (\"A média dos 4 bimestres foi: {}\".format(resultado))"
   ]
  },
  {
   "cell_type": "markdown",
   "id": "62d461c5",
   "metadata": {
    "id": "62d461c5"
   },
   "source": [
    "#### 5. Faça um Programa que converta metros para centímetros. Você pode pedir o comprimento em metros para o usuário (input)."
   ]
  },
  {
   "cell_type": "code",
   "execution_count": 13,
   "id": "d642f1ba",
   "metadata": {
    "id": "d642f1ba"
   },
   "outputs": [
    {
     "name": "stdout",
     "output_type": "stream",
     "text": [
      "Digite o valor do comprimeito em metros: 10\n",
      "O metro 10 é igual a 1000 centimetros\n"
     ]
    }
   ],
   "source": [
    "metros = int(input('Digite o valor do comprimeito em metros: '))\n",
    "centimetro = metros * 100\n",
    "print ('O metro {} é igual a {} centimetros'.format(metros, centimetro))\n",
    "\n"
   ]
  },
  {
   "cell_type": "markdown",
   "id": "f1311697",
   "metadata": {
    "id": "f1311697"
   },
   "source": [
    "#### 6. Faça um Programa que calcule a área de uma sala de um apartamento. Para isso, o seu programa precisa pedir a largura da sala, o comprimento da sala e imprimir a área em m² da sala."
   ]
  },
  {
   "cell_type": "code",
   "execution_count": 12,
   "id": "612ea24b",
   "metadata": {
    "id": "612ea24b",
    "scrolled": true
   },
   "outputs": [
    {
     "name": "stdout",
     "output_type": "stream",
     "text": [
      "Digite a largura da sala: 20\n",
      "Digite o comprimento da sala:10\n",
      "O apartamento tem o total em m² de: 200.0\n"
     ]
    }
   ],
   "source": [
    "largura = float(input('Digite a largura da sala: '))\n",
    "comprimento = float(input('Digite o comprimento da sala:'))\n",
    "\n",
    "m2 = largura * comprimento\n",
    "\n",
    "print ('O apartamento tem o total em m² de: {}'.format(m2))"
   ]
  },
  {
   "cell_type": "markdown",
   "id": "2a285929",
   "metadata": {
    "id": "2a285929"
   },
   "source": [
    "#### 7. Faça um Programa que pergunte quanto você ganha por hora e o número de horas trabalhadas no mês. Calcule e mostre o total do seu salário no referido mês."
   ]
  },
  {
   "cell_type": "code",
   "execution_count": 15,
   "id": "359e2232",
   "metadata": {
    "id": "359e2232"
   },
   "outputs": [
    {
     "name": "stdout",
     "output_type": "stream",
     "text": [
      "Qual o seu salário por hora?: 96\n",
      "Quantas horas você trabalho esse mês?: 160\n",
      "O seu salários referente as horas trabalhadas esse mês é de R$15360.0:\n"
     ]
    }
   ],
   "source": [
    "remu_horas = float(input('Qual o seu salário por hora?: '))\n",
    "qtdmes_horas = float(input('Quantas horas você trabalho esse mês?: '))\n",
    "\n",
    "soma = (remu_horas * qtdmes_horas)\n",
    "print('O seu salários referente as horas trabalhadas esse mês é de R${}:'.format(soma))\n",
    "\n",
    "#R$ 96\n",
    "#HORA 160"
   ]
  },
  {
   "cell_type": "markdown",
   "id": "7e2d4615",
   "metadata": {
    "id": "7e2d4615"
   },
   "source": [
    "#### 8. Vamos criar um conversor de temperatura. Faça um Programa que peça a temperatura em graus Fahrenheit, transforme e mostre a temperatura em graus Celsius.\n",
    "$C = \\frac{5}{9}(F-32)$"
   ]
  },
  {
   "cell_type": "code",
   "execution_count": 23,
   "id": "82daf9fd",
   "metadata": {
    "id": "82daf9fd"
   },
   "outputs": [
    {
     "name": "stdout",
     "output_type": "stream",
     "text": [
      "Digite a temperatura em Fahrenheit:68\n",
      "A temperatura 68.0 em Fahrenheit é igual a 20.0 em Celsius.\n"
     ]
    }
   ],
   "source": [
    "fahrenheit = float(input('Digite a temperatura em Fahrenheit:' ))\n",
    "c = (fahrenheit - 32) / 1.8\n",
    "\n",
    "print ('A temperatura {} em Fahrenheit é igual a {} em Celsius.'.format(fahrenheit, c))\n",
    "\n",
    "#fahrenheit – 32 = 8 / 1,8 = 4,4 ºC\""
   ]
  },
  {
   "cell_type": "markdown",
   "id": "20708b1c",
   "metadata": {
    "id": "20708b1c"
   },
   "source": [
    "#### 9. Faça um Programa que peça a temperatura em graus Celsius, transforme e mostre em graus Fahrenheit.\n",
    "$F = \\frac{9}{5}C + 32$"
   ]
  },
  {
   "cell_type": "code",
   "execution_count": 19,
   "id": "c73cfb38",
   "metadata": {
    "id": "c73cfb38"
   },
   "outputs": [
    {
     "name": "stdout",
     "output_type": "stream",
     "text": [
      "Digite a temperatura em Celsius:26\n",
      "A temperatura 26.0 em Celsius é igual a 78.8 Fahrenheit.\n"
     ]
    }
   ],
   "source": [
    "celsius = float(input('Digite a temperatura em Celsius:' ))\n",
    "f = celsius * 9 / 5 + 32\n",
    "\n",
    "print ('A temperatura {} em Celsius é igual a {} Fahrenheit.'.format(celsius, f))\n",
    "\n",
    "\n",
    "#°F = °C x 9 ÷ 5 + 32"
   ]
  },
  {
   "cell_type": "markdown",
   "id": "b263a9dc",
   "metadata": {
    "id": "b263a9dc"
   },
   "source": [
    "#### 10. Tendo como dados de entrada a altura (h) de uma pessoa, construa um algoritmo que calcule seu peso ideal, usando a seguinte fórmula:\n",
    "$P = 72,7h - 58$\n",
    "\n",
    "Lembrando que \"algoritmo\" nada mais é do que um programa, como todos os outros que você vem fazendo"
   ]
  },
  {
   "cell_type": "code",
   "execution_count": null,
   "id": "9a9b8dca",
   "metadata": {
    "id": "9a9b8dca"
   },
   "outputs": [],
   "source": [
    "p = float(input('Digite seu peso:' ))\n",
    "\n",
    "\n"
   ]
  },
  {
   "cell_type": "markdown",
   "id": "13bb40d7",
   "metadata": {
    "id": "13bb40d7"
   },
   "source": [
    "#### 11. Tendo como dado de entrada a altura (h) de uma pessoa, construa um algoritmo que calcule seu peso ideal, utilizando as seguintes fórmulas:\n",
    "##### a. Para homens: $P = 72,7 * h - 58$\n",
    "##### b. Para mulheres: $P = 62,1 * h - 44,7$"
   ]
  },
  {
   "cell_type": "code",
   "execution_count": 27,
   "id": "bf82dc8c",
   "metadata": {
    "id": "bf82dc8c"
   },
   "outputs": [
    {
     "name": "stdout",
     "output_type": "stream",
     "text": [
      "Sexo Masculino: Digite sua altura: 1.74\n",
      "Sexo Feminino: Digite sua altura: 1.60\n",
      "Sexo Masculino: O seu peso ideal é: 68.498\n",
      "Sexo Feminino: O seu peso ideal é: 55.360000000000014\n"
     ]
    }
   ],
   "source": [
    "homem = float(input('Sexo Masculino: Digite sua altura: '))\n",
    "mulher = float(input('Sexo Feminino: Digite sua altura: '))\n",
    "\n",
    "ph = 72.7 * homem - 58\n",
    "pm = 62.1 * mulher - 44\n",
    "\n",
    "print('Sexo Masculino: O seu peso ideal é: {}'.format(ph))\n",
    "print('Sexo Feminino: O seu peso ideal é: {}'.format(pm))"
   ]
  },
  {
   "cell_type": "markdown",
   "id": "f208ef89",
   "metadata": {
    "id": "f208ef89"
   },
   "source": [
    "#### 12. Faça um Programa que pergunte quanto você ganha por hora e o número de horas trabalhadas no mês."
   ]
  },
  {
   "cell_type": "code",
   "execution_count": 2,
   "id": "2d5b23e0",
   "metadata": {
    "id": "2d5b23e0"
   },
   "outputs": [
    {
     "name": "stdout",
     "output_type": "stream",
     "text": [
      "Quanto você ganha por hora: 96.25\n",
      "Quantas horas trabalha no mês: 160\n"
     ]
    }
   ],
   "source": [
    "salario_hora = float(input('Quanto você ganha por hora: '))\n",
    "trabalho_hora = float(input('Quantas horas trabalha no mês: '))\n",
    "\n",
    "# 96,25$\n",
    "# 160h"
   ]
  },
  {
   "cell_type": "markdown",
   "id": "607dee3c",
   "metadata": {
    "id": "607dee3c"
   },
   "source": [
    "#####  Calcule o salário bruto (horas * salario por hora)"
   ]
  },
  {
   "cell_type": "code",
   "execution_count": 10,
   "id": "7f80ccbb",
   "metadata": {
    "id": "7f80ccbb"
   },
   "outputs": [
    {
     "name": "stdout",
     "output_type": "stream",
     "text": [
      "O seu salário bruto é R$:15400.0\n"
     ]
    }
   ],
   "source": [
    "salario_bruto = salario_hora * trabalho_hora\n",
    "\n",
    "print(\"O seu salário bruto é R$:{}\".format(salario_bruto))"
   ]
  },
  {
   "cell_type": "markdown",
   "id": "2ed93cb0",
   "metadata": {
    "id": "2ed93cb0"
   },
   "source": [
    "##### Calcule o desconto do IR (11% do salário bruto)"
   ]
  },
  {
   "cell_type": "code",
   "execution_count": 15,
   "id": "3363e22f",
   "metadata": {
    "id": "3363e22f"
   },
   "outputs": [
    {
     "name": "stdout",
     "output_type": "stream",
     "text": [
      "Desconto do IR: R$:1694.0\n"
     ]
    }
   ],
   "source": [
    "desconto_ir = salario_bruto * 0.11\n",
    "print ('Desconto do IR: R$:{}'.format(desconto_ir))\n",
    "\n",
    "\n"
   ]
  },
  {
   "cell_type": "markdown",
   "id": "0994b2c0",
   "metadata": {
    "id": "0994b2c0"
   },
   "source": [
    "##### Calcule o desconto do INSS (8% do salário bruto)"
   ]
  },
  {
   "cell_type": "code",
   "execution_count": 25,
   "id": "748c6088",
   "metadata": {
    "id": "748c6088"
   },
   "outputs": [
    {
     "name": "stdout",
     "output_type": "stream",
     "text": [
      "Desconto do IR: R$:1232.0\n"
     ]
    }
   ],
   "source": [
    "desconto_inss = salario_bruto * 0.08\n",
    "print ('Desconto do IR: R$:{}'.format(desconto_inss))"
   ]
  },
  {
   "cell_type": "markdown",
   "id": "06e8dae4",
   "metadata": {
    "id": "06e8dae4"
   },
   "source": [
    "##### Calcule o desconto do sindicato (5% do salário bruto)"
   ]
  },
  {
   "cell_type": "code",
   "execution_count": 39,
   "id": "21b95b15",
   "metadata": {
    "id": "21b95b15",
    "scrolled": true
   },
   "outputs": [
    {
     "name": "stdout",
     "output_type": "stream",
     "text": [
      "Desconto do IR: R$:770.0\n"
     ]
    }
   ],
   "source": [
    "desconto_sind = salario_bruto * 0.05\n",
    "print ('Desconto do IR: R$:{}'.format(desconto_sind))\n",
    "\n",
    "\n",
    "\n",
    "#desconto_sind = salario_bruto\n",
    "#print ('O seu salário com desconto SINDICATO fica R$:{}'.format(desconto_ir * 0.95))\n",
    "#print ('O desconto do SINDICATO R$:{}'.format(desconto_ir * 0.5))"
   ]
  },
  {
   "cell_type": "markdown",
   "id": "bb14ce36",
   "metadata": {
    "id": "bb14ce36"
   },
   "source": [
    "##### Calcule o salário líquido (salário bruto - descontos)"
   ]
  },
  {
   "cell_type": "code",
   "execution_count": 44,
   "id": "56317086",
   "metadata": {
    "id": "56317086"
   },
   "outputs": [
    {
     "name": "stdout",
     "output_type": "stream",
     "text": [
      "O salário liquido é R$: 11704.0 \n",
      "Total de descontos no salário R$: 3696.0\n"
     ]
    }
   ],
   "source": [
    "descontos_salario = desconto_ir + desconto_inss + desconto_sind\n",
    "salario_liquido = salario_bruto - descontos_salario\n",
    "\n",
    "print('O salário liquido é R$: {} '.format(salario_liquido))\n",
    "print('Total de descontos no salário R$: {}'.format(descontos_salario))\n"
   ]
  },
  {
   "cell_type": "markdown",
   "id": "cfbfcc87",
   "metadata": {
    "id": "cfbfcc87"
   },
   "source": [
    "#### 13. Faça um programa para uma loja de tintas. O programa deverá pedir o tamanho em metros quadrados da área a ser pintada. Considere que a cobertura da tinta é de 1 litro para cada 3 metros quadrados e que a tinta é vendida em latas de 18 litros, que custam R\\$ 80,00. Informe ao usuário a quantidades de latas de tinta a serem compradas e o preço total. (para simplificação nesse momento, não se preocupe em arredondar a quantidade de latas a serem compradas - vamos trabalhar isso em breve)"
   ]
  },
  {
   "cell_type": "code",
   "execution_count": 34,
   "id": "fb6a083b",
   "metadata": {
    "id": "fb6a083b"
   },
   "outputs": [
    {
     "name": "stdout",
     "output_type": "stream",
     "text": [
      "Informe a área em m² a ser pintada: 400\n",
      "Para pintar essa área é necessário essa quantidade de tinta/lata 7.407407407407408, e o preço total é R$:592.5925925925926\n",
      "22.22222222222222\n"
     ]
    }
   ],
   "source": [
    "area = float(input('Informe a área em m² a ser pintada: '))\n",
    "litros_tinta = area / 3\n",
    "latas = litros_tinta / 18\n",
    "preco = latas * 80\n",
    "\n",
    "print ('Para pintar essa área é necessário essa quantidade de tinta/lata {}, e o preço total é R$:{}'.format(latas, preco))\n",
    "print (400 / 18)\n",
    "\n",
    "\n",
    "# 1l = 3m²\n",
    "# 18litros a lata de trinta\n",
    "# lata de tinta custa R$ 80\n",
    "\n",
    "\n",
    "\n"
   ]
  },
  {
   "cell_type": "markdown",
   "id": "d6503c92",
   "metadata": {
    "id": "d6503c92"
   },
   "source": [
    "#### 14. Faça um programa que peça o tamanho de um arquivo para download (em MB) e a velocidade de um link de Internet (em Mbps), calcule e informe o tempo aproximado de download do arquivo usando este link (em minutos).\n",
    "\n",
    "Detalhe: MB significa megabyte, Mb (com b minúsculo) significa megabit. Um megabit é 1/8 de um megabyte. "
   ]
  },
  {
   "cell_type": "code",
   "execution_count": 5,
   "id": "0563aa62",
   "metadata": {
    "id": "0563aa62"
   },
   "outputs": [
    {
     "name": "stdout",
     "output_type": "stream",
     "text": [
      "Informe o tamanho do arquivo em MB: 200\n",
      "Informe a velocidade da conexão em Mbps: 200\n",
      "O tempo estimado é de 0.13333333333333333 minutos\n",
      "0.13333333333333333\n",
      "8.0\n",
      "1600.0\n"
     ]
    }
   ],
   "source": [
    "tamanho = float(input('Informe o tamanho do arquivo em MB: '))\n",
    "velocidade = float(input('Informe a velocidade da conexão em Mbps: '))\n",
    "\n",
    "tamanho_megabits = tamanho * 8\n",
    "tempo = tamanho_megabits / velocidade\n",
    "tempo_minuto = tempo / 60\n",
    "\n",
    "print(f'O tempo estimado é de {tempo_minuto} minutos')\n",
    "\n",
    "print(tempo_minuto)\n",
    "print (tempo)\n",
    "print (tamanho_megabits)\n"
   ]
  }
 ],
 "metadata": {
  "colab": {
   "provenance": []
  },
  "kernelspec": {
   "display_name": "Python 3",
   "language": "python",
   "name": "python3"
  },
  "language_info": {
   "codemirror_mode": {
    "name": "ipython",
    "version": 3
   },
   "file_extension": ".py",
   "mimetype": "text/x-python",
   "name": "python",
   "nbconvert_exporter": "python",
   "pygments_lexer": "ipython3",
   "version": "3.8.5"
  },
  "vscode": {
   "interpreter": {
    "hash": "0adcc2737ebf6a4a119f135174df96668767fca1ef1112612db5ecadf2b6d608"
   }
  }
 },
 "nbformat": 4,
 "nbformat_minor": 5
}
