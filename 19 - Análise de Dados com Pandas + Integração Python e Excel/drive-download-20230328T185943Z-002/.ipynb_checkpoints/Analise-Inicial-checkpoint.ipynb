{
 "cells": [
  {
   "cell_type": "markdown",
   "id": "993ee9ad",
   "metadata": {},
   "source": [
    "### Puxar base de dados"
   ]
  },
  {
   "cell_type": "code",
   "execution_count": 1,
   "id": "90e92890",
   "metadata": {},
   "outputs": [
    {
     "name": "stdout",
     "output_type": "stream",
     "text": [
      "        Year  Month Country                         City  SH4 Code  \\\n",
      "0       2016      1  France            Águas Mornas - SC       303   \n",
      "1       2016      1  France            Águas Mornas - SC       303   \n",
      "2       2016      1  France            Águas Mornas - SC       304   \n",
      "3       2016      1  France            Águas Mornas - SC       304   \n",
      "4       2016      1  France                 Alfenas - MG       901   \n",
      "...      ...    ...     ...                          ...       ...   \n",
      "142355  2020     12  France                 Vinhedo - SP      8424   \n",
      "142356  2020     12  France  Vitória de Santo Antão - PE       714   \n",
      "142357  2020     12  France  Vitória de Santo Antão - PE       714   \n",
      "142358  2020     12  France                  Xapuri - AC      4409   \n",
      "142359  2020     12  France                  Xapuri - AC      4409   \n",
      "\n",
      "                                          SH4 Description  SH2 Code  \\\n",
      "0       Fish, frozen, excluding fish fillets and other...         3   \n",
      "1       Fish, frozen, excluding fish fillets and other...         3   \n",
      "2       Fish fillets and other fish meat (whether or n...         3   \n",
      "3       Fish fillets and other fish meat (whether or n...         3   \n",
      "4       Coffee, whether or not roasted or decaffeinate...         9   \n",
      "...                                                   ...       ...   \n",
      "142355  Mechanical appliances (whether or not hand-ope...        84   \n",
      "142356  Manioc, arrowroot, salep, Jerusalem artichokes...         7   \n",
      "142357  Manioc, arrowroot, salep, Jerusalem artichokes...         7   \n",
      "142358  Wood (including strips and friezes for parquet...        44   \n",
      "142359  Wood (including strips and friezes for parquet...        44   \n",
      "\n",
      "                                          SH2 Description  \\\n",
      "0       Fish and crustaceans, molluscs and other aquat...   \n",
      "1       Fish and crustaceans, molluscs and other aquat...   \n",
      "2       Fish and crustaceans, molluscs and other aquat...   \n",
      "3       Fish and crustaceans, molluscs and other aquat...   \n",
      "4                            Coffee, tea, maté and spices   \n",
      "...                                                   ...   \n",
      "142355  Nuclear reactors, boilers, machinery and mecha...   \n",
      "142356     Edible vegetables and certain roots and tubers   \n",
      "142357     Edible vegetables and certain roots and tubers   \n",
      "142358           Wood and articles of wood; wood charcoal   \n",
      "142359           Wood and articles of wood; wood charcoal   \n",
      "\n",
      "             Economic Block  US$ FOB  Net Weight  \n",
      "0                    Europe    79360       14150  \n",
      "1       European Union (EU)    79360       14150  \n",
      "2                    Europe    69412        9385  \n",
      "3       European Union (EU)    69412        9385  \n",
      "4                    Europe   180914       57600  \n",
      "...                     ...      ...         ...  \n",
      "142355  European Union (EU)     2316           4  \n",
      "142356               Europe    27060       26400  \n",
      "142357  European Union (EU)    27060       26400  \n",
      "142358               Europe    31111       23045  \n",
      "142359  European Union (EU)    31111       23045  \n",
      "\n",
      "[142360 rows x 11 columns]\n"
     ]
    }
   ],
   "source": [
    "import pandas as pd\n",
    "\n",
    "tabela = pd.read_csv('exportacoes_franca.csv')\n",
    "pri(tabela)"
   ]
  },
  {
   "cell_type": "markdown",
   "id": "4ad76a65",
   "metadata": {},
   "source": [
    "### Informações Gerais"
   ]
  },
  {
   "cell_type": "code",
   "execution_count": null,
   "id": "cce34f4d",
   "metadata": {},
   "outputs": [],
   "source": []
  },
  {
   "cell_type": "markdown",
   "id": "2daa0fa9",
   "metadata": {},
   "source": [
    "### Como foi a evolução das exportações para a frança ao longo dos anos?"
   ]
  },
  {
   "cell_type": "code",
   "execution_count": null,
   "id": "f02fb7d6",
   "metadata": {},
   "outputs": [],
   "source": []
  },
  {
   "cell_type": "markdown",
   "id": "717e331d",
   "metadata": {},
   "source": [
    "### Quais os produtos mais exportados ao longo de todo o período?"
   ]
  },
  {
   "cell_type": "code",
   "execution_count": null,
   "id": "ba74c817",
   "metadata": {},
   "outputs": [],
   "source": []
  },
  {
   "cell_type": "markdown",
   "id": "6ce25d4d",
   "metadata": {},
   "source": [
    "### Em 2020 qual cidade mais exportou para a França?"
   ]
  },
  {
   "cell_type": "code",
   "execution_count": null,
   "id": "074fb7b8",
   "metadata": {},
   "outputs": [],
   "source": []
  },
  {
   "cell_type": "markdown",
   "id": "84fbbcf3",
   "metadata": {},
   "source": [
    "### O que as 2 maiores cidades exportaram tanto?"
   ]
  },
  {
   "cell_type": "code",
   "execution_count": null,
   "id": "12173e06",
   "metadata": {},
   "outputs": [],
   "source": []
  }
 ],
 "metadata": {
  "kernelspec": {
   "display_name": "Python 3 (ipykernel)",
   "language": "python",
   "name": "python3"
  },
  "language_info": {
   "codemirror_mode": {
    "name": "ipython",
    "version": 3
   },
   "file_extension": ".py",
   "mimetype": "text/x-python",
   "name": "python",
   "nbconvert_exporter": "python",
   "pygments_lexer": "ipython3",
   "version": "3.9.13"
  }
 },
 "nbformat": 4,
 "nbformat_minor": 5
}
