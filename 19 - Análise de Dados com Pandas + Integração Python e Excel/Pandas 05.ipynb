{
 "cells": [
  {
   "cell_type": "markdown",
   "metadata": {},
   "source": [
    "# Resumos e um pouco de Visualização no pandas\n",
    "\n",
    "\n",
    "## Resumo\n",
    "\n",
    "Vamos ver alguns métodos para analisar nossas tabelas (dataframes)\n",
    "\n",
    "Além disso, vamos usar os plot de gráfico padrões do pandas, mas no projeto de DataScience veremos outras mais bonitas e também muito práticas.\n",
    "\n",
    "OBS: O pandas usa o matplotlib (que vimos na seção de \"módulos e bibliotecas\") para plotar gráficos.<br>\n",
    "Se quiser personalizar mais do que o padrão do pandas, importe o matplotlib e use os métodos do matplotlib"
   ]
  },
  {
   "cell_type": "markdown",
   "metadata": {},
   "source": [
    "- Preparando as bases de dados (o que fizemos na última aula)"
   ]
  },
  {
   "cell_type": "code",
   "execution_count": 2,
   "metadata": {
    "scrolled": true
   },
   "outputs": [
    {
     "data": {
      "text/html": [
       "<div>\n",
       "<style scoped>\n",
       "    .dataframe tbody tr th:only-of-type {\n",
       "        vertical-align: middle;\n",
       "    }\n",
       "\n",
       "    .dataframe tbody tr th {\n",
       "        vertical-align: top;\n",
       "    }\n",
       "\n",
       "    .dataframe thead th {\n",
       "        text-align: right;\n",
       "    }\n",
       "</style>\n",
       "<table border=\"1\" class=\"dataframe\">\n",
       "  <thead>\n",
       "    <tr style=\"text-align: right;\">\n",
       "      <th></th>\n",
       "      <th>Numero da Venda</th>\n",
       "      <th>Data da Venda</th>\n",
       "      <th>Data do Envio</th>\n",
       "      <th>ID Canal</th>\n",
       "      <th>ID Loja</th>\n",
       "      <th>ID Produto</th>\n",
       "      <th>ID Promocao</th>\n",
       "      <th>ID Cliente</th>\n",
       "      <th>Quantidade Vendida</th>\n",
       "      <th>Quantidade Devolvida</th>\n",
       "      <th>Nome do Produto</th>\n",
       "      <th>Nome da Loja</th>\n",
       "      <th>E-mail do Cliente</th>\n",
       "    </tr>\n",
       "  </thead>\n",
       "  <tbody>\n",
       "    <tr>\n",
       "      <th>0</th>\n",
       "      <td>1</td>\n",
       "      <td>01/01/2017</td>\n",
       "      <td>02/01/2017</td>\n",
       "      <td>1</td>\n",
       "      <td>86</td>\n",
       "      <td>981</td>\n",
       "      <td>2</td>\n",
       "      <td>6825</td>\n",
       "      <td>9</td>\n",
       "      <td>1</td>\n",
       "      <td>A. Datum Advanced Digital Camera M300 Pink</td>\n",
       "      <td>Loja Contoso Austin</td>\n",
       "      <td>rbrumfieldmy@ameblo.jp</td>\n",
       "    </tr>\n",
       "    <tr>\n",
       "      <th>1</th>\n",
       "      <td>880458</td>\n",
       "      <td>23/11/2017</td>\n",
       "      <td>23/11/2017</td>\n",
       "      <td>0</td>\n",
       "      <td>306</td>\n",
       "      <td>235</td>\n",
       "      <td>10</td>\n",
       "      <td>6825</td>\n",
       "      <td>8</td>\n",
       "      <td>0</td>\n",
       "      <td>Litware Home Theater System 7.1 Channel M710 B...</td>\n",
       "      <td>Loja Contoso Europe Online</td>\n",
       "      <td>rbrumfieldmy@ameblo.jp</td>\n",
       "    </tr>\n",
       "    <tr>\n",
       "      <th>2</th>\n",
       "      <td>191019</td>\n",
       "      <td>20/03/2017</td>\n",
       "      <td>21/03/2017</td>\n",
       "      <td>1</td>\n",
       "      <td>172</td>\n",
       "      <td>376</td>\n",
       "      <td>2</td>\n",
       "      <td>6825</td>\n",
       "      <td>9</td>\n",
       "      <td>0</td>\n",
       "      <td>Adventure Works Laptop12 M1201 Silver</td>\n",
       "      <td>Loja Contoso Hartford</td>\n",
       "      <td>rbrumfieldmy@ameblo.jp</td>\n",
       "    </tr>\n",
       "    <tr>\n",
       "      <th>3</th>\n",
       "      <td>18610</td>\n",
       "      <td>08/01/2017</td>\n",
       "      <td>10/01/2017</td>\n",
       "      <td>2</td>\n",
       "      <td>200</td>\n",
       "      <td>448</td>\n",
       "      <td>2</td>\n",
       "      <td>6825</td>\n",
       "      <td>48</td>\n",
       "      <td>0</td>\n",
       "      <td>WWI Desktop PC1.80 E1801 Black</td>\n",
       "      <td>Loja Contoso Catalog</td>\n",
       "      <td>rbrumfieldmy@ameblo.jp</td>\n",
       "    </tr>\n",
       "    <tr>\n",
       "      <th>4</th>\n",
       "      <td>287704</td>\n",
       "      <td>23/04/2017</td>\n",
       "      <td>26/04/2017</td>\n",
       "      <td>3</td>\n",
       "      <td>76</td>\n",
       "      <td>280</td>\n",
       "      <td>1</td>\n",
       "      <td>6825</td>\n",
       "      <td>10</td>\n",
       "      <td>0</td>\n",
       "      <td>Contoso Home Theater System 2.1 Channel M1210 ...</td>\n",
       "      <td>Loja Contoso Beaumont No.1</td>\n",
       "      <td>rbrumfieldmy@ameblo.jp</td>\n",
       "    </tr>\n",
       "    <tr>\n",
       "      <th>...</th>\n",
       "      <td>...</td>\n",
       "      <td>...</td>\n",
       "      <td>...</td>\n",
       "      <td>...</td>\n",
       "      <td>...</td>\n",
       "      <td>...</td>\n",
       "      <td>...</td>\n",
       "      <td>...</td>\n",
       "      <td>...</td>\n",
       "      <td>...</td>\n",
       "      <td>...</td>\n",
       "      <td>...</td>\n",
       "      <td>...</td>\n",
       "    </tr>\n",
       "    <tr>\n",
       "      <th>980637</th>\n",
       "      <td>878244</td>\n",
       "      <td>23/11/2017</td>\n",
       "      <td>23/11/2017</td>\n",
       "      <td>0</td>\n",
       "      <td>110</td>\n",
       "      <td>889</td>\n",
       "      <td>4</td>\n",
       "      <td>347</td>\n",
       "      <td>12</td>\n",
       "      <td>1</td>\n",
       "      <td>Contoso Bluetooth Notebook Mouse E70 Silver</td>\n",
       "      <td>Loja Contoso Orlando</td>\n",
       "      <td>edowner9m@imdb.com</td>\n",
       "    </tr>\n",
       "    <tr>\n",
       "      <th>980638</th>\n",
       "      <td>920243</td>\n",
       "      <td>09/12/2017</td>\n",
       "      <td>10/12/2017</td>\n",
       "      <td>1</td>\n",
       "      <td>261</td>\n",
       "      <td>1367</td>\n",
       "      <td>5</td>\n",
       "      <td>38781</td>\n",
       "      <td>13</td>\n",
       "      <td>0</td>\n",
       "      <td>Contoso Expandable 3-Handset Cordless Phone Sy...</td>\n",
       "      <td>Loja Contoso Damascus No.1</td>\n",
       "      <td>ruben31@adventure-works.com</td>\n",
       "    </tr>\n",
       "    <tr>\n",
       "      <th>980639</th>\n",
       "      <td>467482</td>\n",
       "      <td>21/06/2017</td>\n",
       "      <td>25/06/2017</td>\n",
       "      <td>4</td>\n",
       "      <td>115</td>\n",
       "      <td>269</td>\n",
       "      <td>1</td>\n",
       "      <td>553</td>\n",
       "      <td>10</td>\n",
       "      <td>0</td>\n",
       "      <td>Contoso Home Theater System 4.1 Channel M1400 ...</td>\n",
       "      <td>Loja Contoso New York No.1</td>\n",
       "      <td>akuhnertfc@themeforest.net</td>\n",
       "    </tr>\n",
       "    <tr>\n",
       "      <th>980640</th>\n",
       "      <td>853643</td>\n",
       "      <td>13/11/2017</td>\n",
       "      <td>20/11/2017</td>\n",
       "      <td>7</td>\n",
       "      <td>115</td>\n",
       "      <td>809</td>\n",
       "      <td>4</td>\n",
       "      <td>38860</td>\n",
       "      <td>6</td>\n",
       "      <td>0</td>\n",
       "      <td>Contoso Dual USB Power Adapter - power adapter...</td>\n",
       "      <td>Loja Contoso New York No.1</td>\n",
       "      <td>anne5@adventure-works.com</td>\n",
       "    </tr>\n",
       "    <tr>\n",
       "      <th>980641</th>\n",
       "      <td>903958</td>\n",
       "      <td>02/12/2017</td>\n",
       "      <td>02/12/2017</td>\n",
       "      <td>0</td>\n",
       "      <td>222</td>\n",
       "      <td>1435</td>\n",
       "      <td>10</td>\n",
       "      <td>815</td>\n",
       "      <td>8</td>\n",
       "      <td>0</td>\n",
       "      <td>The Phone Company Touch Screen Phones SAW/On-w...</td>\n",
       "      <td>Loja Contoso Roma</td>\n",
       "      <td>ekorneevmm@instagram.com</td>\n",
       "    </tr>\n",
       "  </tbody>\n",
       "</table>\n",
       "<p>980642 rows × 13 columns</p>\n",
       "</div>"
      ],
      "text/plain": [
       "        Numero da Venda Data da Venda Data do Envio  ID Canal  ID Loja  \\\n",
       "0                     1    01/01/2017    02/01/2017         1       86   \n",
       "1                880458    23/11/2017    23/11/2017         0      306   \n",
       "2                191019    20/03/2017    21/03/2017         1      172   \n",
       "3                 18610    08/01/2017    10/01/2017         2      200   \n",
       "4                287704    23/04/2017    26/04/2017         3       76   \n",
       "...                 ...           ...           ...       ...      ...   \n",
       "980637           878244    23/11/2017    23/11/2017         0      110   \n",
       "980638           920243    09/12/2017    10/12/2017         1      261   \n",
       "980639           467482    21/06/2017    25/06/2017         4      115   \n",
       "980640           853643    13/11/2017    20/11/2017         7      115   \n",
       "980641           903958    02/12/2017    02/12/2017         0      222   \n",
       "\n",
       "        ID Produto  ID Promocao  ID Cliente  Quantidade Vendida  \\\n",
       "0              981            2        6825                   9   \n",
       "1              235           10        6825                   8   \n",
       "2              376            2        6825                   9   \n",
       "3              448            2        6825                  48   \n",
       "4              280            1        6825                  10   \n",
       "...            ...          ...         ...                 ...   \n",
       "980637         889            4         347                  12   \n",
       "980638        1367            5       38781                  13   \n",
       "980639         269            1         553                  10   \n",
       "980640         809            4       38860                   6   \n",
       "980641        1435           10         815                   8   \n",
       "\n",
       "        Quantidade Devolvida  \\\n",
       "0                          1   \n",
       "1                          0   \n",
       "2                          0   \n",
       "3                          0   \n",
       "4                          0   \n",
       "...                      ...   \n",
       "980637                     1   \n",
       "980638                     0   \n",
       "980639                     0   \n",
       "980640                     0   \n",
       "980641                     0   \n",
       "\n",
       "                                          Nome do Produto  \\\n",
       "0              A. Datum Advanced Digital Camera M300 Pink   \n",
       "1       Litware Home Theater System 7.1 Channel M710 B...   \n",
       "2                   Adventure Works Laptop12 M1201 Silver   \n",
       "3                          WWI Desktop PC1.80 E1801 Black   \n",
       "4       Contoso Home Theater System 2.1 Channel M1210 ...   \n",
       "...                                                   ...   \n",
       "980637        Contoso Bluetooth Notebook Mouse E70 Silver   \n",
       "980638  Contoso Expandable 3-Handset Cordless Phone Sy...   \n",
       "980639  Contoso Home Theater System 4.1 Channel M1400 ...   \n",
       "980640  Contoso Dual USB Power Adapter - power adapter...   \n",
       "980641  The Phone Company Touch Screen Phones SAW/On-w...   \n",
       "\n",
       "                       Nome da Loja            E-mail do Cliente  \n",
       "0              Loja Contoso Austin        rbrumfieldmy@ameblo.jp  \n",
       "1       Loja Contoso Europe Online        rbrumfieldmy@ameblo.jp  \n",
       "2            Loja Contoso Hartford        rbrumfieldmy@ameblo.jp  \n",
       "3             Loja Contoso Catalog        rbrumfieldmy@ameblo.jp  \n",
       "4       Loja Contoso Beaumont No.1        rbrumfieldmy@ameblo.jp  \n",
       "...                             ...                          ...  \n",
       "980637        Loja Contoso Orlando            edowner9m@imdb.com  \n",
       "980638  Loja Contoso Damascus No.1   ruben31@adventure-works.com  \n",
       "980639  Loja Contoso New York No.1    akuhnertfc@themeforest.net  \n",
       "980640  Loja Contoso New York No.1     anne5@adventure-works.com  \n",
       "980641           Loja Contoso Roma      ekorneevmm@instagram.com  \n",
       "\n",
       "[980642 rows x 13 columns]"
      ]
     },
     "metadata": {},
     "output_type": "display_data"
    }
   ],
   "source": [
    "import pandas as pd\n",
    "#importando os arquivos\n",
    "vendas_df = pd.read_csv(r'Contoso - Vendas - 2017.csv', sep=';')\n",
    "produtos_df = pd.read_csv(r'Contoso - Cadastro Produtos.csv', sep=';')\n",
    "lojas_df = pd.read_csv(r'Contoso - Lojas.csv', sep=';')\n",
    "clientes_df = pd.read_csv(r'Contoso - Clientes.csv', sep=';')\n",
    "\n",
    "#limpando apenas as colunas que queremos\n",
    "clientes_df = clientes_df[['ID Cliente', 'E-mail']]\n",
    "produtos_df = produtos_df[['ID Produto', 'Nome do Produto']]\n",
    "lojas_df = lojas_df[['ID Loja', 'Nome da Loja']]\n",
    "\n",
    "#mesclando e renomeando os dataframes\n",
    "vendas_df = vendas_df.merge(produtos_df, on='ID Produto')\n",
    "vendas_df = vendas_df.merge(lojas_df, on='ID Loja')\n",
    "vendas_df = vendas_df.merge(clientes_df, on='ID Cliente').rename(columns={'E-mail': 'E-mail do Cliente'})\n",
    "display(vendas_df)"
   ]
  },
  {
   "cell_type": "markdown",
   "metadata": {},
   "source": [
    "### Qual cliente que comprou mais vezes?\n",
    "\n",
    "- Usaremos o método .value_counts() para contar quantas vezes cada valor do Dataframe aparece\n",
    "- Usaremos o método .plot() para exibir um gráfico"
   ]
  },
  {
   "cell_type": "code",
   "execution_count": 26,
   "metadata": {},
   "outputs": [
    {
     "data": {
      "text/plain": [
       "karen33@adventure-works.com       77\n",
       "chloe77@adventure-works.com       74\n",
       "julia43@adventure-works.com       69\n",
       "destiny66@adventure-works.com     68\n",
       "gilbert9@adventure-works.com      68\n",
       "                                  ..\n",
       "isabella51@adventure-works.com     1\n",
       "wdalescoci@pbs.org                 1\n",
       "kbroggelliin@rakuten.co.jp         1\n",
       "connor15@adventure-works.com       1\n",
       "ekorneevmm@instagram.com           1\n",
       "Name: E-mail do Cliente, Length: 38907, dtype: int64"
      ]
     },
     "metadata": {},
     "output_type": "display_data"
    },
    {
     "data": {
      "text/plain": [
       "<AxesSubplot:>"
      ]
     },
     "execution_count": 26,
     "metadata": {},
     "output_type": "execute_result"
    },
    {
     "data": {
      "image/png": "[encoded data removed]",
      "text/plain": [
       "<Figure size 2000x500 with 1 Axes>"
      ]
     },
     "metadata": {},
     "output_type": "display_data"
    }
   ],
   "source": [
    "frequencia_clientes = vendas_df['E-mail do Cliente'].value_counts()\n",
    "display(frequencia_clientes)\n",
    "frequencia_clientes[:5].plot(figsize=(20, 5))\n",
    "#frequencia_clientes[:5].plot(figsize=(20, 5), yticks=range(0, 80, 5))"
   ]
  },
  {
   "cell_type": "markdown",
   "metadata": {},
   "source": [
    "### Qual a Loja que mais vendeu?\n",
    "\n",
    "- Usaremos o .groupby para agrupar o nosso dataframe, de acordo com o que queremos (somando as quantidades de vendas, por exemplo)"
   ]
  },
  {
   "cell_type": "code",
   "execution_count": 66,
   "metadata": {},
   "outputs": [
    {
     "data": {
      "text/html": [
       "<div>\n",
       "<style scoped>\n",
       "    .dataframe tbody tr th:only-of-type {\n",
       "        vertical-align: middle;\n",
       "    }\n",
       "\n",
       "    .dataframe tbody tr th {\n",
       "        vertical-align: top;\n",
       "    }\n",
       "\n",
       "    .dataframe thead th {\n",
       "        text-align: right;\n",
       "    }\n",
       "</style>\n",
       "<table border=\"1\" class=\"dataframe\">\n",
       "  <thead>\n",
       "    <tr style=\"text-align: right;\">\n",
       "      <th></th>\n",
       "      <th>Quantidade Vendida</th>\n",
       "    </tr>\n",
       "    <tr>\n",
       "      <th>Nome da Loja</th>\n",
       "      <th></th>\n",
       "    </tr>\n",
       "  </thead>\n",
       "  <tbody>\n",
       "    <tr>\n",
       "      <th>Loja Contoso Albany</th>\n",
       "      <td>26353</td>\n",
       "    </tr>\n",
       "    <tr>\n",
       "      <th>Loja Contoso Alexandria</th>\n",
       "      <td>26247</td>\n",
       "    </tr>\n",
       "    <tr>\n",
       "      <th>Loja Contoso Amsterdam</th>\n",
       "      <td>28294</td>\n",
       "    </tr>\n",
       "    <tr>\n",
       "      <th>Loja Contoso Anchorage</th>\n",
       "      <td>27451</td>\n",
       "    </tr>\n",
       "    <tr>\n",
       "      <th>Loja Contoso Annapolis</th>\n",
       "      <td>26065</td>\n",
       "    </tr>\n",
       "    <tr>\n",
       "      <th>...</th>\n",
       "      <td>...</td>\n",
       "    </tr>\n",
       "    <tr>\n",
       "      <th>Loja Contoso Yokohama</th>\n",
       "      <td>28023</td>\n",
       "    </tr>\n",
       "    <tr>\n",
       "      <th>Loja Contoso York</th>\n",
       "      <td>27164</td>\n",
       "    </tr>\n",
       "    <tr>\n",
       "      <th>Loja Contoso koln No.1</th>\n",
       "      <td>29046</td>\n",
       "    </tr>\n",
       "    <tr>\n",
       "      <th>Loja Contoso koln No.2</th>\n",
       "      <td>29650</td>\n",
       "    </tr>\n",
       "    <tr>\n",
       "      <th>Loja Contoso obamberg</th>\n",
       "      <td>29336</td>\n",
       "    </tr>\n",
       "  </tbody>\n",
       "</table>\n",
       "<p>306 rows × 1 columns</p>\n",
       "</div>"
      ],
      "text/plain": [
       "                          Quantidade Vendida\n",
       "Nome da Loja                                \n",
       "Loja Contoso Albany                    26353\n",
       "Loja Contoso Alexandria                26247\n",
       "Loja Contoso Amsterdam                 28294\n",
       "Loja Contoso Anchorage                 27451\n",
       "Loja Contoso Annapolis                 26065\n",
       "...                                      ...\n",
       "Loja Contoso Yokohama                  28023\n",
       "Loja Contoso York                      27164\n",
       "Loja Contoso koln No.1                 29046\n",
       "Loja Contoso koln No.2                 29650\n",
       "Loja Contoso obamberg                  29336\n",
       "\n",
       "[306 rows x 1 columns]"
      ]
     },
     "metadata": {},
     "output_type": "display_data"
    }
   ],
   "source": [
    "vendas_lojas = vendas_df.groupby('Nome da Loja').sum()\n",
    "vendas_lojas = vendas_lojas[['Quantidade Vendida']]\n",
    "display(vendas_lojas)"
   ]
  },
  {
   "cell_type": "markdown",
   "metadata": {},
   "source": [
    "- Agora precisamos pegar o maior valor. Temos 2 formas:\n",
    "    1. Ordenar o dataframe em ordem decrescente de Quantidade Vendida\n",
    "        - Método .sort_values\n",
    "    2. Pegar o Maior valor diretamente\n",
    "        - Métodos .max() e .idxmax()"
   ]
  },
  {
   "cell_type": "code",
   "execution_count": 84,
   "metadata": {},
   "outputs": [
    {
     "name": "stdout",
     "output_type": "stream",
     "text": [
      "                                     Quantidade Vendida\n",
      "Nome da Loja                                           \n",
      "Loja Contoso Catalog                            1029117\n",
      "Loja Contoso North America Online                701961\n",
      "Loja Contoso Europe Online                       616845\n",
      "Loja Contoso Asia Online                         578458\n",
      "Loja Contoso North America Reseller              520176\n",
      "...                                                 ...\n",
      "Loja Contoso Berlin                                 379\n",
      "Loja Contoso Paterson                               371\n",
      "Loja Contoso Marseille                              370\n",
      "Loja Contoso Racine No.2                            253\n",
      "Loja Contoso Venezia                                234\n",
      "\n",
      "[306 rows x 1 columns]\n",
      "AxesSubplot(0.125,0.11;0.775x0.77)\n"
     ]
    },
    {
     "data": {
      "image/png": "[encoded data removed]",
      "text/plain": [
       "<Figure size 2000x500 with 1 Axes>"
      ]
     },
     "metadata": {},
     "output_type": "display_data"
    }
   ],
   "source": [
    "#ordenando o dataframe\n",
    "vendas_lojas = vendas_lojas.sort_values('Quantidade Vendida', ascending=False)\n",
    "\n",
    "print(vendas_lojas)\n",
    "\n",
    "grafico = vendas_lojas[-5:].plot(figsize=(20, 5), kind='bar')\n",
    "print(grafico)\n",
    "\n",
    "\n",
    "\n",
    "#podemos plotar em um gráfico\n"
   ]
  },
  {
   "cell_type": "code",
   "execution_count": null,
   "metadata": {},
   "outputs": [],
   "source": []
  },
  {
   "cell_type": "markdown",
   "metadata": {},
   "source": [
    "#pegando o maior valor e se índice\n",
    "\n",
    "\n",
    "\n"
   ]
  },
  {
   "cell_type": "code",
   "execution_count": 54,
   "metadata": {},
   "outputs": [
    {
     "name": "stdout",
     "output_type": "stream",
     "text": [
      "Loja Contoso Catalog  1029117\n"
     ]
    }
   ],
   "source": [
    "maior_valor = vendas_lojas['Quantidade Vendida'].max()\n",
    "melhor_loja = vendas_lojas['Quantidade Vendida'].idxmax()\n",
    "print(melhor_loja, maior_valor)"
   ]
  },
  {
   "cell_type": "markdown",
   "metadata": {},
   "source": [
    "### Qual produto que menos vendeu?\n",
    "\n",
    "- Já temos uma lista criada para isso, basta verificarmos o final da lista (já que ela está ordenada) ou então usarmos os métodos:\n",
    "    1. min()\n",
    "    2. idxmin()"
   ]
  },
  {
   "cell_type": "code",
   "execution_count": 55,
   "metadata": {},
   "outputs": [
    {
     "name": "stdout",
     "output_type": "stream",
     "text": [
      "Loja Contoso Venezia  234\n"
     ]
    }
   ],
   "source": [
    "menor_valor = vendas_lojas['Quantidade Vendida'].min()\n",
    "pior_loja = vendas_lojas['Quantidade Vendida'].idxmin()\n",
    "print(pior_loja, menor_valor)"
   ]
  },
  {
   "cell_type": "code",
   "execution_count": 101,
   "metadata": {},
   "outputs": [
    {
     "data": {
      "text/html": [
       "<div>\n",
       "<style scoped>\n",
       "    .dataframe tbody tr th:only-of-type {\n",
       "        vertical-align: middle;\n",
       "    }\n",
       "\n",
       "    .dataframe tbody tr th {\n",
       "        vertical-align: top;\n",
       "    }\n",
       "\n",
       "    .dataframe thead th {\n",
       "        text-align: right;\n",
       "    }\n",
       "</style>\n",
       "<table border=\"1\" class=\"dataframe\">\n",
       "  <thead>\n",
       "    <tr style=\"text-align: right;\">\n",
       "      <th></th>\n",
       "      <th>Quantidade Vendida</th>\n",
       "    </tr>\n",
       "    <tr>\n",
       "      <th>Nome da Loja</th>\n",
       "      <th></th>\n",
       "    </tr>\n",
       "  </thead>\n",
       "  <tbody>\n",
       "  </tbody>\n",
       "</table>\n",
       "</div>"
      ],
      "text/plain": [
       "Empty DataFrame\n",
       "Columns: [Quantidade Vendida]\n",
       "Index: []"
      ]
     },
     "execution_count": 101,
     "metadata": {},
     "output_type": "execute_result"
    }
   ],
   "source": [
    "vendas_lojas[-1:]"
   ]
  }
 ],
 "metadata": {
  "kernelspec": {
   "display_name": "Python 3 (ipykernel)",
   "language": "python",
   "name": "python3"
  },
  "language_info": {
   "codemirror_mode": {
    "name": "ipython",
    "version": 3
   },
   "file_extension": ".py",
   "mimetype": "text/x-python",
   "name": "python",
   "nbconvert_exporter": "python",
   "pygments_lexer": "ipython3",
   "version": "3.9.13"
  }
 },
 "nbformat": 4,
 "nbformat_minor": 4
}
