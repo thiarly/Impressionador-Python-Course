{
 "cells": [
  {
   "cell_type": "markdown",
   "metadata": {
    "id": "XFQPMVSqrONp"
   },
   "source": [
    "# pandas lendo csv da internet\n",
    "\n",
    "### Essa é uma das formas de importar arquivos da internet, direto do pandas. Mas nem sempre você vai conseguir abrir assim direto.\n",
    "\n",
    "### 2 situações principais em que você consegue fazer direto\n",
    "\n",
    "1. Arquivo csv direto no link (melhor dos mundos)\n",
    "2. O arquivo csv é gerado para você, mas fica no meio de uma requisição que precisa ser tratada."
   ]
  },
  {
   "cell_type": "markdown",
   "metadata": {
    "id": "k30lX_I4rONs"
   },
   "source": [
    "### Caso 1: csv direto no link\n",
    "\n",
    "- Criei um arquivo csv e disponibilizei o link para download no Drive: https://drive.google.com/uc?authuser=0&id=1Ru7s-x3YJuStZK1mqr_qNqiHVvdHUN66&export=download"
   ]
  },
  {
   "cell_type": "code",
   "execution_count": null,
   "metadata": {
    "id": "d8dcyhhCrONt"
   },
   "outputs": [],
   "source": []
  },
  {
   "cell_type": "code",
   "execution_count": null,
   "metadata": {
    "id": "NiudeTUIrT-l"
   },
   "outputs": [],
   "source": []
  },
  {
   "cell_type": "markdown",
   "metadata": {
    "id": "tsjD0bTNrONu"
   },
   "source": [
    "### Caso 2: csv em uma requisição que precisa ser tratada\n",
    "\n",
    "Pesquisei por histórico de preços do café no Google e cheguei nesse site: http://portalweb.cooxupe.com.br:8080/portal/precohistoricocafe_2.jsp"
   ]
  },
  {
   "cell_type": "code",
   "execution_count": null,
   "metadata": {
    "id": "ygeFZSOkrONu"
   },
   "outputs": [],
   "source": []
  },
  {
   "cell_type": "markdown",
   "metadata": {
    "id": "Yo6-_ymyrONu"
   },
   "source": [
    "### Apenas para lembrar os tipos de encoding principais que vamos usar:\n",
    "\n",
    "- encoding='latin1'\n",
    "- encoding='ISO-8859-1'\n",
    "- encoding='utf-8'\n",
    "- encoding='cp1252'"
   ]
  }
 ],
 "metadata": {
  "colab": {
   "name": "Pandas 09.ipynb",
   "provenance": []
  },
  "kernelspec": {
   "display_name": "Python 3 (ipykernel)",
   "language": "python",
   "name": "python3"
  },
  "language_info": {
   "codemirror_mode": {
    "name": "ipython",
    "version": 3
   },
   "file_extension": ".py",
   "mimetype": "text/x-python",
   "name": "python",
   "nbconvert_exporter": "python",
   "pygments_lexer": "ipython3",
   "version": "3.9.13"
  }
 },
 "nbformat": 4,
 "nbformat_minor": 1
}
