{
 "cells": [
  {
   "cell_type": "markdown",
   "id": "de58cd45",
   "metadata": {},
   "source": [
    "#### Bibliotecas"
   ]
  },
  {
   "cell_type": "code",
   "execution_count": 35,
   "id": "2d75a849",
   "metadata": {
    "scrolled": true
   },
   "outputs": [
    {
     "data": {
      "text/html": [
       "<div>\n",
       "<style scoped>\n",
       "    .dataframe tbody tr th:only-of-type {\n",
       "        vertical-align: middle;\n",
       "    }\n",
       "\n",
       "    .dataframe tbody tr th {\n",
       "        vertical-align: top;\n",
       "    }\n",
       "\n",
       "    .dataframe thead th {\n",
       "        text-align: right;\n",
       "    }\n",
       "</style>\n",
       "<table border=\"1\" class=\"dataframe\">\n",
       "  <thead>\n",
       "    <tr style=\"text-align: right;\">\n",
       "      <th></th>\n",
       "      <th>Name</th>\n",
       "      <th>Age</th>\n",
       "      <th>Sex</th>\n",
       "    </tr>\n",
       "  </thead>\n",
       "  <tbody>\n",
       "    <tr>\n",
       "      <th>0</th>\n",
       "      <td>Braund, Mr. Owen Harris</td>\n",
       "      <td>22</td>\n",
       "      <td>male</td>\n",
       "    </tr>\n",
       "    <tr>\n",
       "      <th>1</th>\n",
       "      <td>Allen, Mr. William Henry</td>\n",
       "      <td>35</td>\n",
       "      <td>male</td>\n",
       "    </tr>\n",
       "    <tr>\n",
       "      <th>2</th>\n",
       "      <td>Bonnell, Miss. Elizabeth</td>\n",
       "      <td>58</td>\n",
       "      <td>female</td>\n",
       "    </tr>\n",
       "  </tbody>\n",
       "</table>\n",
       "</div>"
      ],
      "text/plain": [
       "                       Name  Age     Sex\n",
       "0   Braund, Mr. Owen Harris   22    male\n",
       "1  Allen, Mr. William Henry   35    male\n",
       "2  Bonnell, Miss. Elizabeth   58  female"
      ]
     },
     "metadata": {},
     "output_type": "display_data"
    },
    {
     "data": {
      "text/plain": [
       "0    22\n",
       "1    35\n",
       "2    58\n",
       "Name: Age, dtype: int64"
      ]
     },
     "metadata": {},
     "output_type": "display_data"
    }
   ],
   "source": [
    "# pandas\n",
    "\n",
    "import pandas as pd\n",
    "\n",
    "df = pd.DataFrame(\n",
    "        {\n",
    "            \"Name\": [\n",
    "                \"Braund, Mr. Owen Harris\",\n",
    "                \"Allen, Mr. William Henry\",\n",
    "                \"Bonnell, Miss. Elizabeth\",\n",
    "            ],\n",
    "            \"Age\": [22, 35, 58],\n",
    "            \"Sex\": [\"male\", \"male\", \"female\"],\n",
    "        }\n",
    "    )\n",
    "    \n",
    "display(df)\n",
    "display (df['Age'])"
   ]
  },
  {
   "cell_type": "code",
   "execution_count": 36,
   "id": "d9676c75",
   "metadata": {},
   "outputs": [
    {
     "data": {
      "text/plain": [
       "58"
      ]
     },
     "metadata": {},
     "output_type": "display_data"
    },
    {
     "data": {
      "text/plain": [
       "0    22\n",
       "1    35\n",
       "2    58\n",
       "Name: Age, dtype: int64"
      ]
     },
     "metadata": {},
     "output_type": "display_data"
    }
   ],
   "source": [
    "ages = pd.Series([22, 35, 58], name=\"Age\")\n",
    "display (df[\"Age\"].max())\n",
    "display(ages)\n"
   ]
  },
  {
   "cell_type": "code",
   "execution_count": null,
   "id": "5dd52663",
   "metadata": {},
   "outputs": [],
   "source": [
    "# requests\n"
   ]
  },
  {
   "cell_type": "markdown",
   "id": "5636220b",
   "metadata": {},
   "source": [
    "#### Funções Específicas"
   ]
  },
  {
   "cell_type": "code",
   "execution_count": 46,
   "id": "53dbf246",
   "metadata": {},
   "outputs": [
    {
     "data": {
      "text/plain": [
       "Cliente                     object\n",
       "Data Pagamento      datetime64[ns]\n",
       "Data Pagamento 2    datetime64[ns]\n",
       "dtype: object"
      ]
     },
     "metadata": {},
     "output_type": "display_data"
    },
    {
     "data": {
      "text/html": [
       "<div>\n",
       "<style scoped>\n",
       "    .dataframe tbody tr th:only-of-type {\n",
       "        vertical-align: middle;\n",
       "    }\n",
       "\n",
       "    .dataframe tbody tr th {\n",
       "        vertical-align: top;\n",
       "    }\n",
       "\n",
       "    .dataframe thead th {\n",
       "        text-align: right;\n",
       "    }\n",
       "</style>\n",
       "<table border=\"1\" class=\"dataframe\">\n",
       "  <thead>\n",
       "    <tr style=\"text-align: right;\">\n",
       "      <th></th>\n",
       "      <th>Cliente</th>\n",
       "      <th>Data Pagamento</th>\n",
       "      <th>Data Pagamento 2</th>\n",
       "    </tr>\n",
       "  </thead>\n",
       "  <tbody>\n",
       "    <tr>\n",
       "      <th>0</th>\n",
       "      <td>Fulano</td>\n",
       "      <td>2022-09-22</td>\n",
       "      <td>2022-09-22</td>\n",
       "    </tr>\n",
       "    <tr>\n",
       "      <th>1</th>\n",
       "      <td>Beltrano</td>\n",
       "      <td>2022-04-17</td>\n",
       "      <td>2022-04-17</td>\n",
       "    </tr>\n",
       "    <tr>\n",
       "      <th>2</th>\n",
       "      <td>Ciclano</td>\n",
       "      <td>2022-02-21</td>\n",
       "      <td>2022-02-21</td>\n",
       "    </tr>\n",
       "    <tr>\n",
       "      <th>3</th>\n",
       "      <td>Lira</td>\n",
       "      <td>2022-12-27</td>\n",
       "      <td>2022-12-27</td>\n",
       "    </tr>\n",
       "    <tr>\n",
       "      <th>4</th>\n",
       "      <td>Julia</td>\n",
       "      <td>2022-02-01</td>\n",
       "      <td>2022-02-01</td>\n",
       "    </tr>\n",
       "    <tr>\n",
       "      <th>5</th>\n",
       "      <td>Marcus</td>\n",
       "      <td>2022-07-08</td>\n",
       "      <td>2022-07-08</td>\n",
       "    </tr>\n",
       "    <tr>\n",
       "      <th>6</th>\n",
       "      <td>Amanda</td>\n",
       "      <td>2022-09-28</td>\n",
       "      <td>2022-09-28</td>\n",
       "    </tr>\n",
       "    <tr>\n",
       "      <th>7</th>\n",
       "      <td>Larissa</td>\n",
       "      <td>2022-05-28</td>\n",
       "      <td>2022-05-28</td>\n",
       "    </tr>\n",
       "    <tr>\n",
       "      <th>8</th>\n",
       "      <td>Alon</td>\n",
       "      <td>2022-10-06</td>\n",
       "      <td>2022-10-06</td>\n",
       "    </tr>\n",
       "  </tbody>\n",
       "</table>\n",
       "</div>"
      ],
      "text/plain": [
       "    Cliente Data Pagamento Data Pagamento 2\n",
       "0    Fulano     2022-09-22       2022-09-22\n",
       "1  Beltrano     2022-04-17       2022-04-17\n",
       "2   Ciclano     2022-02-21       2022-02-21\n",
       "3      Lira     2022-12-27       2022-12-27\n",
       "4     Julia     2022-02-01       2022-02-01\n",
       "5    Marcus     2022-07-08       2022-07-08\n",
       "6    Amanda     2022-09-28       2022-09-28\n",
       "7   Larissa     2022-05-28       2022-05-28\n",
       "8      Alon     2022-10-06       2022-10-06"
      ]
     },
     "metadata": {},
     "output_type": "display_data"
    }
   ],
   "source": [
    "# datas no pandas\n",
    "import pandas as pd\n",
    "tabela = pd.read_excel('Contratos.xlsx')\n",
    "\n",
    "#Formato com y maiusculo é para ano com 4 digitos. '%m/%d/%Y'\n",
    "tabela['Data Pagamento'] = pd.to_datetime(tabela['Data Pagamento'], format='%d/%m/%Y')\n",
    "\n",
    "#Formato com y minusculo é para ano com 2 digitos. '%m-%d-%y'\n",
    "tabela['Data Pagamento 2'] = pd.to_datetime(tabela['Data Pagamento 2'], format='%m-%d-%y')\n",
    "\n",
    "#tabela['Data Pagamento'] = pd.to_datetime(tabela['Data Pagamento'])\n",
    "display(tabela.dtypes)\n",
    "display(tabela)"
   ]
  },
  {
   "cell_type": "code",
   "execution_count": 48,
   "id": "25f4909e",
   "metadata": {},
   "outputs": [
    {
     "data": {
      "text/html": [
       "<div>\n",
       "<style scoped>\n",
       "    .dataframe tbody tr th:only-of-type {\n",
       "        vertical-align: middle;\n",
       "    }\n",
       "\n",
       "    .dataframe tbody tr th {\n",
       "        vertical-align: top;\n",
       "    }\n",
       "\n",
       "    .dataframe thead th {\n",
       "        text-align: right;\n",
       "    }\n",
       "</style>\n",
       "<table border=\"1\" class=\"dataframe\">\n",
       "  <thead>\n",
       "    <tr style=\"text-align: right;\">\n",
       "      <th></th>\n",
       "      <th>Cliente</th>\n",
       "      <th>Data Pagamento</th>\n",
       "      <th>Data Pagamento 2</th>\n",
       "      <th>Nome</th>\n",
       "      <th>Email</th>\n",
       "    </tr>\n",
       "  </thead>\n",
       "  <tbody>\n",
       "    <tr>\n",
       "      <th>0</th>\n",
       "      <td>Fulano</td>\n",
       "      <td>2022-09-22</td>\n",
       "      <td>2022-09-22</td>\n",
       "      <td>Fulano</td>\n",
       "      <td>fulano@gmail.com</td>\n",
       "    </tr>\n",
       "    <tr>\n",
       "      <th>1</th>\n",
       "      <td>Beltrano</td>\n",
       "      <td>2022-04-17</td>\n",
       "      <td>2022-04-17</td>\n",
       "      <td>Beltrano</td>\n",
       "      <td>beltrano@gmail.com</td>\n",
       "    </tr>\n",
       "    <tr>\n",
       "      <th>2</th>\n",
       "      <td>Ciclano</td>\n",
       "      <td>2022-02-21</td>\n",
       "      <td>2022-02-21</td>\n",
       "      <td>Ciclano</td>\n",
       "      <td>ciclano@gmail.com</td>\n",
       "    </tr>\n",
       "    <tr>\n",
       "      <th>3</th>\n",
       "      <td>Lira</td>\n",
       "      <td>2022-12-27</td>\n",
       "      <td>2022-12-27</td>\n",
       "      <td>Lira</td>\n",
       "      <td>lira@gmail.com</td>\n",
       "    </tr>\n",
       "    <tr>\n",
       "      <th>4</th>\n",
       "      <td>Julia</td>\n",
       "      <td>2022-02-01</td>\n",
       "      <td>2022-02-01</td>\n",
       "      <td>Julia</td>\n",
       "      <td>julia@gmail.com</td>\n",
       "    </tr>\n",
       "    <tr>\n",
       "      <th>5</th>\n",
       "      <td>Marcus</td>\n",
       "      <td>2022-07-08</td>\n",
       "      <td>2022-07-08</td>\n",
       "      <td>Marcus</td>\n",
       "      <td>marcus@gmail.com</td>\n",
       "    </tr>\n",
       "    <tr>\n",
       "      <th>6</th>\n",
       "      <td>Amanda</td>\n",
       "      <td>2022-09-28</td>\n",
       "      <td>2022-09-28</td>\n",
       "      <td>Amanda</td>\n",
       "      <td>amanda@gmail.com</td>\n",
       "    </tr>\n",
       "    <tr>\n",
       "      <th>7</th>\n",
       "      <td>Larissa</td>\n",
       "      <td>2022-05-28</td>\n",
       "      <td>2022-05-28</td>\n",
       "      <td>Larissa</td>\n",
       "      <td>larissa@gmail.com</td>\n",
       "    </tr>\n",
       "    <tr>\n",
       "      <th>8</th>\n",
       "      <td>Alon</td>\n",
       "      <td>2022-10-06</td>\n",
       "      <td>2022-10-06</td>\n",
       "      <td>Alon</td>\n",
       "      <td>alon@gmail.com</td>\n",
       "    </tr>\n",
       "  </tbody>\n",
       "</table>\n",
       "</div>"
      ],
      "text/plain": [
       "    Cliente Data Pagamento Data Pagamento 2      Nome               Email\n",
       "0    Fulano     2022-09-22       2022-09-22    Fulano    fulano@gmail.com\n",
       "1  Beltrano     2022-04-17       2022-04-17  Beltrano  beltrano@gmail.com\n",
       "2   Ciclano     2022-02-21       2022-02-21   Ciclano   ciclano@gmail.com\n",
       "3      Lira     2022-12-27       2022-12-27      Lira      lira@gmail.com\n",
       "4     Julia     2022-02-01       2022-02-01     Julia     julia@gmail.com\n",
       "5    Marcus     2022-07-08       2022-07-08    Marcus    marcus@gmail.com\n",
       "6    Amanda     2022-09-28       2022-09-28    Amanda    amanda@gmail.com\n",
       "7   Larissa     2022-05-28       2022-05-28   Larissa   larissa@gmail.com\n",
       "8      Alon     2022-10-06       2022-10-06      Alon      alon@gmail.com"
      ]
     },
     "metadata": {},
     "output_type": "display_data"
    }
   ],
   "source": [
    "# funcao merge do pandas\n",
    "\n",
    "emails = pd.read_excel('Emails.xlsx')\n",
    "tabela = tabela.merge(emails, left_on='Cliente', right_on='Nome')\n",
    "display(tabela)"
   ]
  },
  {
   "cell_type": "code",
   "execution_count": 58,
   "id": "23f430bd",
   "metadata": {},
   "outputs": [
    {
     "name": "stdout",
     "output_type": "stream",
     "text": [
      "2023-03-26 00:00:00\n"
     ]
    }
   ],
   "source": [
    "# funcao datetime\n",
    "\n",
    "from datetime import datetime\n",
    "\n",
    "data = datetime(2023, 3, 26)\n",
    "print(data)"
   ]
  },
  {
   "cell_type": "markdown",
   "id": "57bdedb1",
   "metadata": {},
   "source": [
    "#### APIs"
   ]
  },
  {
   "cell_type": "code",
   "execution_count": 59,
   "id": "4c1970b5",
   "metadata": {},
   "outputs": [
    {
     "name": "stdout",
     "output_type": "stream",
     "text": [
      "{'Global Quote': {'01. symbol': 'IBM', '02. open': '123.3600', '03. high': '125.4000', '04. low': '122.8800', '05. price': '125.2900', '06. volume': '3812644', '07. latest trading day': '2023-03-24', '08. previous close': '123.3700', '09. change': '1.9200', '10. change percent': '1.5563%'}}\n"
     ]
    }
   ],
   "source": [
    "# documentação de APIs cada uma é diferente da outra, \n",
    "# vejam o módulo de API que eu faço vários exemplos lá\n",
    "\n",
    "# exemplo sandbox https://dadosabertos.bcb.gov.br/dataset/dinheiro-em-circulao\n",
    "\n",
    "# exemplo documentação: https://www.alphavantage.co/\n",
    "\n",
    "import requests\n",
    "\n",
    "# replace the \"demo\" apikey below with your own key from https://www.alphavantage.co/support/#api-key\n",
    "url = 'https://www.alphavantage.co/query?function=GLOBAL_QUOTE&symbol=IBM&apikey=demo'\n",
    "r = requests.get(url)\n",
    "data = r.json()\n",
    "\n",
    "print(data)"
   ]
  },
  {
   "cell_type": "code",
   "execution_count": 68,
   "id": "9f2b63d3",
   "metadata": {},
   "outputs": [
    {
     "name": "stdout",
     "output_type": "stream",
     "text": [
      "{'Information': 'The **demo** API key is for demo purposes only. Please claim your free API key at (https://www.alphavantage.co/support/#api-key) to explore our full API offerings. It takes fewer than 20 seconds.'}\n"
     ]
    }
   ],
   "source": [
    "import requests\n",
    "\n",
    "# replace the \"demo\" apikey below with your own key from https://www.alphavantage.co/support/#api-key\n",
    "url = 'https://www.alphavantage.co/query?function=TIME_SERIES_MONTHLY_ADJUSTED&symbol=IMB&apikey=demo'\n",
    "r = requests.get(url)\n",
    "data = r.json()\n",
    "\n",
    "print(data)"
   ]
  },
  {
   "cell_type": "code",
   "execution_count": null,
   "id": "528e4479",
   "metadata": {},
   "outputs": [],
   "source": []
  }
 ],
 "metadata": {
  "kernelspec": {
   "display_name": "Python 3 (ipykernel)",
   "language": "python",
   "name": "python3"
  },
  "language_info": {
   "codemirror_mode": {
    "name": "ipython",
    "version": 3
   },
   "file_extension": ".py",
   "mimetype": "text/x-python",
   "name": "python",
   "nbconvert_exporter": "python",
   "pygments_lexer": "ipython3",
   "version": "3.9.13"
  }
 },
 "nbformat": 4,
 "nbformat_minor": 5
}
