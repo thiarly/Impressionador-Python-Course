{
 "cells": [
  {
   "cell_type": "markdown",
   "id": "de58cd45",
   "metadata": {},
   "source": [
    "#### Bibliotecas"
   ]
  },
  {
   "cell_type": "code",
   "execution_count": 21,
   "id": "2d75a849",
   "metadata": {
    "scrolled": true
   },
   "outputs": [
    {
     "data": {
      "text/html": [
       "<div>\n",
       "<style scoped>\n",
       "    .dataframe tbody tr th:only-of-type {\n",
       "        vertical-align: middle;\n",
       "    }\n",
       "\n",
       "    .dataframe tbody tr th {\n",
       "        vertical-align: top;\n",
       "    }\n",
       "\n",
       "    .dataframe thead th {\n",
       "        text-align: right;\n",
       "    }\n",
       "</style>\n",
       "<table border=\"1\" class=\"dataframe\">\n",
       "  <thead>\n",
       "    <tr style=\"text-align: right;\">\n",
       "      <th></th>\n",
       "      <th>Name</th>\n",
       "      <th>Age</th>\n",
       "      <th>Sex</th>\n",
       "    </tr>\n",
       "  </thead>\n",
       "  <tbody>\n",
       "    <tr>\n",
       "      <th>0</th>\n",
       "      <td>Braund, Mr. Owen Harris</td>\n",
       "      <td>22</td>\n",
       "      <td>male</td>\n",
       "    </tr>\n",
       "    <tr>\n",
       "      <th>1</th>\n",
       "      <td>Allen, Mr. William Henry</td>\n",
       "      <td>35</td>\n",
       "      <td>male</td>\n",
       "    </tr>\n",
       "    <tr>\n",
       "      <th>2</th>\n",
       "      <td>Bonnell, Miss. Elizabeth</td>\n",
       "      <td>58</td>\n",
       "      <td>female</td>\n",
       "    </tr>\n",
       "  </tbody>\n",
       "</table>\n",
       "</div>"
      ],
      "text/plain": [
       "                       Name  Age     Sex\n",
       "0   Braund, Mr. Owen Harris   22    male\n",
       "1  Allen, Mr. William Henry   35    male\n",
       "2  Bonnell, Miss. Elizabeth   58  female"
      ]
     },
     "metadata": {},
     "output_type": "display_data"
    },
    {
     "data": {
      "text/plain": [
       "0    22\n",
       "1    35\n",
       "2    58\n",
       "Name: Age, dtype: int64"
      ]
     },
     "metadata": {},
     "output_type": "display_data"
    }
   ],
   "source": [
    "# pandas\n",
    "\n",
    "import pandas as pd\n",
    "\n",
    "df = pd.DataFrame(\n",
    "        {\n",
    "            \"Name\": [\n",
    "                \"Braund, Mr. Owen Harris\",\n",
    "                \"Allen, Mr. William Henry\",\n",
    "                \"Bonnell, Miss. Elizabeth\",\n",
    "            ],\n",
    "            \"Age\": [22, 35, 58],\n",
    "            \"Sex\": [\"male\", \"male\", \"female\"],\n",
    "        }\n",
    "    )\n",
    "    \n",
    "display(df)\n",
    "display (df['Age'])"
   ]
  },
  {
   "cell_type": "code",
   "execution_count": 16,
   "id": "d9676c75",
   "metadata": {},
   "outputs": [
    {
     "data": {
      "text/plain": [
       "58"
      ]
     },
     "metadata": {},
     "output_type": "display_data"
    },
    {
     "data": {
      "text/plain": [
       "0    22\n",
       "1    35\n",
       "2    58\n",
       "Name: Age, dtype: int64"
      ]
     },
     "metadata": {},
     "output_type": "display_data"
    }
   ],
   "source": [
    "ages = pd.Series([22, 35, 58], name=\"Age\")\n",
    "display (df[\"Age\"].max())\n",
    "display(ages)\n"
   ]
  },
  {
   "cell_type": "code",
   "execution_count": null,
   "id": "5dd52663",
   "metadata": {},
   "outputs": [],
   "source": [
    "# requests\n"
   ]
  },
  {
   "cell_type": "markdown",
   "id": "5636220b",
   "metadata": {},
   "source": [
    "#### Funções Específicas"
   ]
  },
  {
   "cell_type": "code",
   "execution_count": 27,
   "id": "53dbf246",
   "metadata": {},
   "outputs": [
    {
     "data": {
      "text/plain": [
       "Cliente             object\n",
       "Data Pagamento      object\n",
       "Data Pagamento 2    object\n",
       "dtype: object"
      ]
     },
     "execution_count": 27,
     "metadata": {},
     "output_type": "execute_result"
    }
   ],
   "source": [
    "# datas no pandas\n",
    "import pandas as pd\n",
    "\n",
    "tabela = pd.read_excel('Contratos.xlsx')\n",
    "tabela.dtypes"
   ]
  },
  {
   "cell_type": "code",
   "execution_count": null,
   "id": "ddd2cd08",
   "metadata": {},
   "outputs": [],
   "source": [
    "# funcao datetime\n"
   ]
  },
  {
   "cell_type": "code",
   "execution_count": null,
   "id": "25f4909e",
   "metadata": {},
   "outputs": [],
   "source": [
    "# funcao merge do pandas"
   ]
  },
  {
   "cell_type": "markdown",
   "id": "57bdedb1",
   "metadata": {},
   "source": [
    "#### APIs"
   ]
  },
  {
   "cell_type": "code",
   "execution_count": null,
   "id": "4c1970b5",
   "metadata": {},
   "outputs": [],
   "source": [
    "# documentação de APIs cada uma é diferente da outra, \n",
    "# vejam o módulo de API que eu faço vários exemplos lá\n",
    "\n",
    "# exemplo sandbox https://dadosabertos.bcb.gov.br/dataset/dinheiro-em-circulao\n",
    "\n",
    "# exemplo documentação: https://www.alphavantage.co/"
   ]
  }
 ],
 "metadata": {
  "kernelspec": {
   "display_name": "Python 3 (ipykernel)",
   "language": "python",
   "name": "python3"
  },
  "language_info": {
   "codemirror_mode": {
    "name": "ipython",
    "version": 3
   },
   "file_extension": ".py",
   "mimetype": "text/x-python",
   "name": "python",
   "nbconvert_exporter": "python",
   "pygments_lexer": "ipython3",
   "version": "3.9.13"
  }
 },
 "nbformat": 4,
 "nbformat_minor": 5
}
