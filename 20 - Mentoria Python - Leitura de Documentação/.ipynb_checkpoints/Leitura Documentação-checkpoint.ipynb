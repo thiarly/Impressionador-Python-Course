{
 "cells": [
  {
   "cell_type": "markdown",
   "id": "de58cd45",
   "metadata": {},
   "source": [
    "#### Bibliotecas"
   ]
  },
  {
   "cell_type": "code",
   "execution_count": null,
   "id": "2d75a849",
   "metadata": {},
   "outputs": [],
   "source": [
    "# pandas"
   ]
  },
  {
   "cell_type": "code",
   "execution_count": null,
   "id": "5dd52663",
   "metadata": {},
   "outputs": [],
   "source": [
    "# requests"
   ]
  },
  {
   "cell_type": "markdown",
   "id": "5636220b",
   "metadata": {},
   "source": [
    "#### Funções Específicas"
   ]
  },
  {
   "cell_type": "code",
   "execution_count": null,
   "id": "53dbf246",
   "metadata": {},
   "outputs": [],
   "source": [
    "# datas no pandas"
   ]
  },
  {
   "cell_type": "code",
   "execution_count": null,
   "id": "ddd2cd08",
   "metadata": {},
   "outputs": [],
   "source": [
    "# funcao datetime\n"
   ]
  },
  {
   "cell_type": "code",
   "execution_count": null,
   "id": "25f4909e",
   "metadata": {},
   "outputs": [],
   "source": [
    "# funcao merge do pandas"
   ]
  },
  {
   "cell_type": "markdown",
   "id": "57bdedb1",
   "metadata": {},
   "source": [
    "#### APIs"
   ]
  },
  {
   "cell_type": "code",
   "execution_count": null,
   "id": "4c1970b5",
   "metadata": {},
   "outputs": [],
   "source": [
    "# documentação de APIs cada uma é diferente da outra, \n",
    "# vejam o módulo de API que eu faço vários exemplos lá\n",
    "\n",
    "# exemplo sandbox https://dadosabertos.bcb.gov.br/dataset/dinheiro-em-circulao\n",
    "\n",
    "# exemplo documentação: https://www.alphavantage.co/"
   ]
  }
 ],
 "metadata": {
  "kernelspec": {
   "display_name": "Python 3 (ipykernel)",
   "language": "python",
   "name": "python3"
  },
  "language_info": {
   "codemirror_mode": {
    "name": "ipython",
    "version": 3
   },
   "file_extension": ".py",
   "mimetype": "text/x-python",
   "name": "python",
   "nbconvert_exporter": "python",
   "pygments_lexer": "ipython3",
   "version": "3.9.13"
  }
 },
 "nbformat": 4,
 "nbformat_minor": 5
}
