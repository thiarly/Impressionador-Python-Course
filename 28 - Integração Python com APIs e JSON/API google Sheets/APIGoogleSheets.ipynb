{
 "cells": [
  {
   "cell_type": "code",
   "execution_count": 16,
   "id": "d2fb5950",
   "metadata": {},
   "outputs": [
    {
     "name": "stdout",
     "output_type": "stream",
     "text": [
      "[['Mês', 'Vendas', 'Imposto'], ['janeiro', 'R$ 50.668,00', 'R$ 5066.8'], ['fevereiro', 'R$ 98.475,00', 'R$ 9847.5'], ['março', 'R$ 92.030,00', 'R$ 9203.0'], ['abril', 'R$ 63.546,00', 'R$ 6354.6'], ['maio', 'R$ 24.496,00', 'R$ 2449.6'], ['junho', 'R$ 69.997,00', 'R$ 6.999.700.000.000.000,00'], ['julho', 'R$ 35.242,00', 'R$ 35.242.000.000.000.000,00'], ['agosto', 'R$ 73.105,00', 'R$ 7310.5'], ['setembro', 'R$ 57.397,00', 'R$ 5.739.700.000.000.000,00'], ['outubro', 'R$ 30.293,00', 'R$ 3029.3'], ['novembro', 'R$ 17.345,00', 'R$ 1734.5'], ['dezembro', 'R$ 127.300,15', 'R$ 12.730.015,00'], ['janeiro', 'R$ 100.000,00', 'R$ 10000.0']]\n"
     ]
    }
   ],
   "source": [
    "from __future__ import print_function\n",
    "\n",
    "import os.path\n",
    "\n",
    "from google.auth.transport.requests import Request\n",
    "from google.oauth2.credentials import Credentials\n",
    "from google_auth_oauthlib.flow import InstalledAppFlow\n",
    "from googleapiclient.discovery import build\n",
    "from googleapiclient.errors import HttpError\n",
    "\n",
    "# If modifying these scopes, delete the file token.json.\n",
    "SCOPES = ['https://www.googleapis.com/auth/spreadsheets']\n",
    "\n",
    "# The ID and range of a sample spreadsheet.\n",
    "SAMPLE_SPREADSHEET_ID = '1c03q-w3ydDjY7Gy3lJPzho69d2LYq8z7GhpE4aCp33U'\n",
    "SAMPLE_RANGE_NAME = 'Página1!A1:C14'\n",
    "\n",
    "\n",
    "def main():\n",
    "    creds = None\n",
    "\n",
    "    if os.path.exists('token.json'):\n",
    "        creds = Credentials.from_authorized_user_file('token.json', SCOPES)\n",
    "    # If there are no (valid) credentials available, let the user log in.\n",
    "    if not creds or not creds.valid:\n",
    "        if creds and creds.expired and creds.refresh_token:\n",
    "            creds.refresh(Request())\n",
    "        else:\n",
    "            flow = InstalledAppFlow.from_client_secrets_file(\n",
    "                'credentials.json', SCOPES)\n",
    "            creds = flow.run_local_server(port=0)\n",
    "        # Save the credentials for the next run\n",
    "        with open('token.json', 'w') as token:\n",
    "            token.write(creds.to_json())\n",
    "\n",
    "    try:\n",
    "        service = build('sheets', 'v4', credentials=creds)\n",
    "\n",
    "        # Ler informacoes do Google Sheets\n",
    "        sheet = service.spreadsheets()\n",
    "        result = sheet.values().get(spreadsheetId=SAMPLE_SPREADSHEET_ID,\n",
    "                                    range=SAMPLE_RANGE_NAME).execute()\n",
    "        valores = result['values']\n",
    "        print(valores)\n",
    "        \n",
    "        valores_adicionar = [\n",
    "            [\"Imposto\"],\n",
    "        ]\n",
    "        \n",
    "        for i, linha in enumerate(valores):\n",
    "            if i > 0:\n",
    "                vendas = linha[1]\n",
    "                vendas = vendas.replace(\"R$ \", \"\").replace(\".\", \"\")\n",
    "                vendas = float(vendas.replace(\",\", \".\"))\n",
    "                imposto = vendas * 0.1\n",
    "                imposto = f'R$ {imposto}'.replace(\".\", \",\")\n",
    "                valores_adicionar.append([imposto])\n",
    "        \n",
    "        result = sheet.values().update(spreadsheetId=SAMPLE_SPREADSHEET_ID,\n",
    "                            range=\"C1\", valueInputOption=\"USER_ENTERED\",\n",
    "                              body={'values': valores_adicionar}).execute()\n",
    "        # adicionar/editar uma informação\n",
    "        \n",
    "#         valores_adicionar = [\n",
    "#             [\"dezembro\", 'R$ 127.300,15'],\n",
    "#             [\"janeiro\", \"R$ 100.000,00\"],\n",
    "#         ]\n",
    "        \n",
    "#         result = sheet.values().update(spreadsheetId=SAMPLE_SPREADSHEET_ID,\n",
    "#                                     range=\"A13\", valueInputOption=\"USER_ENTERED\",\n",
    "#                                       body={'values': valores_adicionar}).execute()\n",
    "\n",
    "    except HttpError as err:\n",
    "        print(err)\n",
    "\n",
    "\n",
    "if __name__ == '__main__':\n",
    "    main()"
   ]
  },
  {
   "cell_type": "code",
   "execution_count": null,
   "id": "57e14d61",
   "metadata": {},
   "outputs": [],
   "source": []
  }
 ],
 "metadata": {
  "kernelspec": {
   "display_name": "Python 3 (ipykernel)",
   "language": "python",
   "name": "python3"
  },
  "language_info": {
   "codemirror_mode": {
    "name": "ipython",
    "version": 3
   },
   "file_extension": ".py",
   "mimetype": "text/x-python",
   "name": "python",
   "nbconvert_exporter": "python",
   "pygments_lexer": "ipython3",
   "version": "3.9.7"
  }
 },
 "nbformat": 4,
 "nbformat_minor": 5
}
