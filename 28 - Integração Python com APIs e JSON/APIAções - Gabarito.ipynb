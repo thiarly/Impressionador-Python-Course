{
 "cells": [
  {
   "cell_type": "markdown",
   "id": "83eb68f8",
   "metadata": {},
   "source": [
    "### Alpha Vantage\n",
    "\n",
    "https://www.alphavantage.co/documentation/"
   ]
  },
  {
   "cell_type": "markdown",
   "id": "46b1957f",
   "metadata": {},
   "source": [
    "#### Pegando cotações semanais - JSON"
   ]
  },
  {
   "cell_type": "code",
   "execution_count": null,
   "id": "589373bd",
   "metadata": {},
   "outputs": [],
   "source": [
    "from chave import chave_api\n",
    "\n",
    "import requests\n",
    "\n",
    "# replace the \"demo\" apikey below with your own key from https://www.alphavantage.co/support/#api-key\n",
    "url = f'https://www.alphavantage.co/query?function=TIME_SERIES_WEEKLY_ADJUSTED&symbol=ITUB4.SAO&apikey={chave_api}'\n",
    "r = requests.get(url)\n",
    "data = r.json()\n",
    "\n",
    "print(data)"
   ]
  },
  {
   "cell_type": "markdown",
   "id": "31bf63d0",
   "metadata": {},
   "source": [
    "#### Pegando cotações semanais - CSV"
   ]
  },
  {
   "cell_type": "code",
   "execution_count": null,
   "id": "21d22fd4",
   "metadata": {},
   "outputs": [],
   "source": [
    "import pandas as pd\n",
    "from io import StringIO\n",
    "\n",
    "# replace the \"demo\" apikey below with your own key from https://www.alphavantage.co/support/#api-key\n",
    "url = f'https://www.alphavantage.co/query?function=TIME_SERIES_WEEKLY_ADJUSTED&symbol=ITUB4.SAO&apikey={chave_api}&datatype=csv'\n",
    "r = requests.get(url)\n",
    "\n",
    "tabela = pd.read_csv(StringIO(r.text))\n",
    "display(tabela)"
   ]
  },
  {
   "cell_type": "markdown",
   "id": "f64ff652",
   "metadata": {},
   "source": [
    "### Cotações"
   ]
  },
  {
   "cell_type": "code",
   "execution_count": null,
   "id": "a5cd7b99",
   "metadata": {},
   "outputs": [],
   "source": [
    "acoes = ['ITUB4', 'ABEV3', 'BBAS3']\n",
    "\n",
    "compilada = pd.DataFrame()\n",
    "\n",
    "for acao in acoes:\n",
    "    url = f'https://www.alphavantage.co/query?function=GLOBAL_QUOTE&symbol={acao}.SAO&apikey={chave_api}&datatype=csv'\n",
    "    r = requests.get(url)\n",
    "    tabela = pd.read_csv(StringIO(r.text))\n",
    "    lista_tabelas = [compilada, tabela]\n",
    "    compilada = pd.concat(lista_tabelas)\n",
    "    \n",
    "display(compilada)"
   ]
  },
  {
   "cell_type": "markdown",
   "id": "7ec62493",
   "metadata": {},
   "source": [
    "### Encontrar ativos"
   ]
  },
  {
   "cell_type": "code",
   "execution_count": null,
   "id": "0f9de0f0",
   "metadata": {},
   "outputs": [],
   "source": [
    "url = f'https://www.alphavantage.co/query?function=SYMBOL_SEARCH&keywords=amazon&apikey={chave_api}&datatype=csv'\n",
    "r = requests.get(url)\n",
    "\n",
    "tabela = pd.read_csv(StringIO(r.text))\n",
    "display(tabela)"
   ]
  },
  {
   "cell_type": "markdown",
   "id": "9beab6ae",
   "metadata": {},
   "source": [
    "### Informações de Resultado"
   ]
  },
  {
   "cell_type": "code",
   "execution_count": null,
   "id": "672d9f62",
   "metadata": {},
   "outputs": [],
   "source": [
    "url = f'https://www.alphavantage.co/query?function=EARNINGS&symbol=AMZN&apikey={chave_api}'\n",
    "r = requests.get(url)\n",
    "data = r.json()\n",
    "\n",
    "print(data)"
   ]
  },
  {
   "cell_type": "code",
   "execution_count": null,
   "id": "a42a883b",
   "metadata": {},
   "outputs": [],
   "source": [
    "import pprint\n",
    "\n",
    "# pprint.pprint(data)\n",
    "\n",
    "resultado = pd.DataFrame(data['annualEarnings'])\n",
    "display(resultado)"
   ]
  },
  {
   "cell_type": "code",
   "execution_count": null,
   "id": "22a132c7",
   "metadata": {},
   "outputs": [],
   "source": []
  }
 ],
 "metadata": {
  "kernelspec": {
   "display_name": "Python 3 (ipykernel)",
   "language": "python",
   "name": "python3"
  },
  "language_info": {
   "codemirror_mode": {
    "name": "ipython",
    "version": 3
   },
   "file_extension": ".py",
   "mimetype": "text/x-python",
   "name": "python",
   "nbconvert_exporter": "python",
   "pygments_lexer": "ipython3",
   "version": "3.9.7"
  }
 },
 "nbformat": 4,
 "nbformat_minor": 5
}
