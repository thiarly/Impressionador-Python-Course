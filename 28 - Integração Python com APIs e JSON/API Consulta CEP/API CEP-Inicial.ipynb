{
 "cells": [
  {
   "cell_type": "markdown",
   "id": "7e57525e",
   "metadata": {},
   "source": [
    "### Via CEP\n",
    "\n",
    "https://viacep.com.br/"
   ]
  },
  {
   "cell_type": "markdown",
   "id": "84f1d631",
   "metadata": {},
   "source": [
    "#### Consulta de informações de um CEP"
   ]
  },
  {
   "cell_type": "code",
   "execution_count": null,
   "id": "fe813e51",
   "metadata": {},
   "outputs": [],
   "source": []
  },
  {
   "cell_type": "markdown",
   "id": "0abd6940",
   "metadata": {},
   "source": [
    "#### Busca de CEP a partir de endereço"
   ]
  },
  {
   "cell_type": "code",
   "execution_count": null,
   "id": "270edfa9",
   "metadata": {},
   "outputs": [],
   "source": []
  }
 ],
 "metadata": {
  "kernelspec": {
   "display_name": "Python 3 (ipykernel)",
   "language": "python",
   "name": "python3"
  },
  "language_info": {
   "codemirror_mode": {
    "name": "ipython",
    "version": 3
   },
   "file_extension": ".py",
   "mimetype": "text/x-python",
   "name": "python",
   "nbconvert_exporter": "python",
   "pygments_lexer": "ipython3",
   "version": "3.9.7"
  }
 },
 "nbformat": 4,
 "nbformat_minor": 5
}
