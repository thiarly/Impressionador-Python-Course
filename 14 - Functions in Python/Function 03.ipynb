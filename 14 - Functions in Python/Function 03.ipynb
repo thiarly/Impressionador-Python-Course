{
 "cells": [
  {
   "cell_type": "markdown",
   "metadata": {},
   "source": [
    "# Argumentos/Parâmetros da Função\n",
    "\n",
    "### Estrutura:"
   ]
  },
  {
   "cell_type": "raw",
   "metadata": {},
   "source": [
    "def minha_funcao(parametro1, parametro2, parametro3):\n",
    "    return parametro1 + parametro2 + parametro3"
   ]
  },
  {
   "cell_type": "markdown",
   "metadata": {},
   "source": [
    "- Exemplo: nosso famoso print"
   ]
  },
  {
   "cell_type": "code",
   "execution_count": 9,
   "metadata": {},
   "outputs": [
    {
     "name": "stdout",
     "output_type": "stream",
     "text": [
      "100\n"
     ]
    }
   ],
   "source": [
    "def minha_funcao(num1, num2, num3):\n",
    "    return num1 + num2 + num3\n",
    "\n",
    "resultado = minha_funcao(50, 50, 0)\n",
    "print(resultado)\n"
   ]
  },
  {
   "cell_type": "markdown",
   "metadata": {},
   "source": [
    "- Só para mostrar o funcionamento, vamos criar uma função de soma"
   ]
  },
  {
   "cell_type": "code",
   "execution_count": null,
   "metadata": {},
   "outputs": [],
   "source": []
  },
  {
   "cell_type": "markdown",
   "metadata": {},
   "source": [
    "- Vamos criar uma function com parâmetro\n",
    "\n",
    "Digamos que estamos criando um programa para categorizar os produtos de uma revendedora de bebidas.\n",
    "\n",
    "Cada produto tem um código. O tipo de produto é dado pelas 3 primeiras letras do código.\n",
    "\n",
    "Ex:<br>\n",
    "Vinho -> BEB12302<br>\n",
    "Cerveja -> BEB12043<br>\n",
    "Vodka -> BEB34501<br>\n",
    "\n",
    "Guaraná -> BSA11104<br>\n",
    "Coca -> BSA54301<br>\n",
    "Sprite -> BSA34012<br>\n",
    "Água -> BSA09871<br>\n",
    "\n",
    "Repare que bebidas não alcóolicas começam com BSA e bebidas alcoolicas começam com BEB.\n",
    "\n",
    "Crie um programa que analise uma lista de produtos e envie instruções para a equipe de estoque dizendo quais produtos devem ser enviados para a área de bebidas alcóolicas."
   ]
  },
  {
   "cell_type": "code",
   "execution_count": 186,
   "metadata": {},
   "outputs": [],
   "source": [
    "\n",
    "produtos = ['beb46275','TFA23962','TFA64715','TFA69555','TFA56743','BSA45510','TFA44968','CAR75448','CAR23596','CAR13490','BEB21365','BEB31623','BSA62419','BEB73344','TFA20079','BEB80694','BSA11769','BEB19495','TFA14792','TFA78043','BSA33484','BEB97471','BEB62362','TFA27311','TFA17715','BEB85146','BEB48898','BEB79496','CAR38417','TFA19947','TFA58799','CAR94811','BSA59251','BEB15385','BEB24213','BEB56262','BSA96915','CAR53454','BEB75073']\n",
    "produtos = [codigo.upper() for codigo in produtos]\n",
    "produtos.sort()\n",
    "\n",
    "produtos_bab = []\n",
    "produtos_beb = []\n",
    "produtos_x = []"
   ]
  },
  {
   "cell_type": "code",
   "execution_count": null,
   "metadata": {},
   "outputs": [],
   "source": []
  },
  {
   "cell_type": "code",
   "execution_count": 180,
   "metadata": {},
   "outputs": [
    {
     "name": "stdout",
     "output_type": "stream",
     "text": [
      "BEB15385 adicionar ao estoque de bebidas não alcolicas\n",
      "BEB19495 adicionar ao estoque de bebidas não alcolicas\n",
      "BEB21365 adicionar ao estoque de bebidas não alcolicas\n",
      "BEB24213 adicionar ao estoque de bebidas não alcolicas\n",
      "BEB31623 adicionar ao estoque de bebidas não alcolicas\n",
      "BEB46275 adicionar ao estoque de bebidas não alcolicas\n",
      "BEB48898 adicionar ao estoque de bebidas não alcolicas\n",
      "BEB56262 adicionar ao estoque de bebidas não alcolicas\n",
      "BEB62362 adicionar ao estoque de bebidas não alcolicas\n",
      "BEB73344 adicionar ao estoque de bebidas não alcolicas\n",
      "BEB75073 adicionar ao estoque de bebidas não alcolicas\n",
      "BEB79496 adicionar ao estoque de bebidas não alcolicas\n",
      "BEB80694 adicionar ao estoque de bebidas não alcolicas\n",
      "BEB85146 adicionar ao estoque de bebidas não alcolicas\n",
      "BEB97471 adicionar ao estoque de bebidas não alcolicas\n",
      "BSA11769 adicionar ao estoque de bebidas alcolicas\n",
      "BSA33484 adicionar ao estoque de bebidas alcolicas\n",
      "BSA45510 adicionar ao estoque de bebidas alcolicas\n",
      "BSA59251 adicionar ao estoque de bebidas alcolicas\n",
      "BSA62419 adicionar ao estoque de bebidas alcolicas\n",
      "BSA96915 adicionar ao estoque de bebidas alcolicas\n",
      "CAR13490 adicionar ao estoque de produtos X\n",
      "CAR23596 adicionar ao estoque de produtos X\n",
      "CAR38417 adicionar ao estoque de produtos X\n",
      "CAR53454 adicionar ao estoque de produtos X\n",
      "CAR75448 adicionar ao estoque de produtos X\n",
      "CAR94811 adicionar ao estoque de produtos X\n",
      "TFA14792 adicionar ao estoque de produtos X\n",
      "TFA17715 adicionar ao estoque de produtos X\n",
      "TFA19947 adicionar ao estoque de produtos X\n",
      "TFA20079 adicionar ao estoque de produtos X\n",
      "TFA23962 adicionar ao estoque de produtos X\n",
      "TFA27311 adicionar ao estoque de produtos X\n",
      "TFA44968 adicionar ao estoque de produtos X\n",
      "TFA56743 adicionar ao estoque de produtos X\n",
      "TFA58799 adicionar ao estoque de produtos X\n",
      "TFA64715 adicionar ao estoque de produtos X\n",
      "TFA69555 adicionar ao estoque de produtos X\n",
      "TFA78043 adicionar ao estoque de produtos X\n"
     ]
    }
   ],
   "source": [
    "\n",
    "for produto in produtos:\n",
    "    if produto[:3] == 'BSA':\n",
    "        produtos_bab.append(produto)\n",
    "        print('{} adicionar ao estoque de bebidas alcolicas'.format(produto))\n",
    "        \n",
    "    elif produto[:3] == 'BEB':\n",
    "        produtos_beb.append(produto)\n",
    "        print('{} adicionar ao estoque de bebidas não alcolicas'.format(produto))\n",
    "    \n",
    "    else:\n",
    "        produtos_x.append(produto)\n",
    "        print('{} adicionar ao estoque de produtos X'.format(produto))\n",
    "        \n",
    "       \n"
   ]
  }
 ],
 "metadata": {
  "kernelspec": {
   "display_name": "Python 3 (ipykernel)",
   "language": "python",
   "name": "python3"
  },
  "language_info": {
   "codemirror_mode": {
    "name": "ipython",
    "version": 3
   },
   "file_extension": ".py",
   "mimetype": "text/x-python",
   "name": "python",
   "nbconvert_exporter": "python",
   "pygments_lexer": "ipython3",
   "version": "3.9.13"
  }
 },
 "nbformat": 4,
 "nbformat_minor": 4
}
