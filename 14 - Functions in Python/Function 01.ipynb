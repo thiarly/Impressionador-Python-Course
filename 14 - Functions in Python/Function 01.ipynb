{
 "cells": [
  {
   "cell_type": "markdown",
   "metadata": {},
   "source": [
    "# Function Python\n",
    "\n",
    "### O que é?\n",
    "\n",
    "As functions são blocos de código que servem 1 único propósito, fazem uma ação específica.\n",
    "\n",
    "### Estrutura Básica"
   ]
  },
  {
   "cell_type": "raw",
   "metadata": {},
   "source": [
    "def nome_funcao():\n",
    "    faça alguma coisa\n",
    "    faça outra coisa\n",
    "    return valor_final"
   ]
  },
  {
   "cell_type": "markdown",
   "metadata": {},
   "source": [
    "- Exemplo: vamos criar uma função de cadastro de um Produto. Essa função deve garantir que o produto cadastrado está em letra minúscula."
   ]
  },
  {
   "cell_type": "code",
   "execution_count": 5,
   "metadata": {},
   "outputs": [
    {
     "name": "stdout",
     "output_type": "stream",
     "text": [
      "['344', '345', '349', '358']\n"
     ]
    }
   ],
   "source": [
    "lista =['345', '344', '349', '358']\n",
    "lista.sort()\n",
    "print(lista)"
   ]
  },
  {
   "cell_type": "code",
   "execution_count": 9,
   "metadata": {},
   "outputs": [],
   "source": [
    "def cadastrar_produto():\n",
    "        produto = str(input('Digite o produto que deseja cadastrar: '))\n",
    "        produto = produto.lower()\n",
    "        print('{} foi cadastrado.'.format(produto))\n",
    "    \n",
    "    \n",
    "    \n",
    "    \n",
    "\n"
   ]
  },
  {
   "cell_type": "code",
   "execution_count": 10,
   "metadata": {},
   "outputs": [
    {
     "name": "stdout",
     "output_type": "stream",
     "text": [
      "Digite o produto que deseja cadastrar: Arroz\n",
      "arroz foi cadastrado.\n",
      "Digite o produto que deseja cadastrar: lajs\n",
      "lajs foi cadastrado.\n",
      "Digite o produto que deseja cadastrar: sdlkjfa\n",
      "sdlkjfa foi cadastrado.\n"
     ]
    }
   ],
   "source": [
    "for i in range (3):\n",
    "    cadastrar_produto()\n"
   ]
  }
 ],
 "metadata": {
  "kernelspec": {
   "display_name": "Python 3 (ipykernel)",
   "language": "python",
   "name": "python3"
  },
  "language_info": {
   "codemirror_mode": {
    "name": "ipython",
    "version": 3
   },
   "file_extension": ".py",
   "mimetype": "text/x-python",
   "name": "python",
   "nbconvert_exporter": "python",
   "pygments_lexer": "ipython3",
   "version": "3.9.13"
  }
 },
 "nbformat": 4,
 "nbformat_minor": 4
}
