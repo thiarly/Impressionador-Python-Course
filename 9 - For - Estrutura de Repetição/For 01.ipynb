{
 "cells": [
  {
   "cell_type": "markdown",
   "metadata": {},
   "source": [
    "# Estrutura de Repetição: for\n",
    "\n",
    "### Funcionamento:"
   ]
  },
  {
   "cell_type": "raw",
   "metadata": {},
   "source": [
    "for i in range(n):\n",
    "    repetir código n vezes"
   ]
  },
  {
   "cell_type": "code",
   "execution_count": 2,
   "metadata": {},
   "outputs": [
    {
     "name": "stdout",
     "output_type": "stream",
     "text": [
      "Thiarly\n",
      "Thiarly\n",
      "Thiarly\n",
      "Thiarly\n",
      "Thiarly\n",
      "Thiarly\n",
      "Thiarly\n",
      "Thiarly\n",
      "Thiarly\n",
      "Thiarly\n"
     ]
    }
   ],
   "source": [
    "for i in range(10):\n",
    "    print('Thiarly')"
   ]
  },
  {
   "cell_type": "markdown",
   "metadata": {},
   "source": [
    "- Imagine que você está construindo uma automação para enviar todo dia por e-mail um resumo da produção de uma fábrica. Construa um código que exiba a quantidade produzida de cada os produto nesse \"e-mail\""
   ]
  },
  {
   "cell_type": "code",
   "execution_count": 64,
   "metadata": {},
   "outputs": [
    {
     "name": "stdout",
     "output_type": "stream",
     "text": [
      "Foram produzido 15000 garrafas de coca\n",
      "Foram produzido 12000 garrafas de pepsi\n",
      "Foram produzido 13000 garrafas de guarana\n",
      "Foram produzido 5000 garrafas de sprite\n",
      "Foram produzido 250 garrafas de fanta\n"
     ]
    }
   ],
   "source": [
    "produtos = ['coca', 'pepsi', 'guarana', 'sprite', 'fanta']\n",
    "producao = [15000, 12000, 13000, 5000, 250]\n",
    "\n",
    "remove = produtos.pop(-1)\n",
    "adicionando = produtos.append('fanta')\n",
    "\n",
    "tamanho = len(produtos)\n",
    "\n",
    "for i in range(tamanho):\n",
    "    print('Foram produzido {} garrafas de {}'.format(producao[i], produtos[i]))"
   ]
  }
 ],
 "metadata": {
  "kernelspec": {
   "display_name": "Python 3 (ipykernel)",
   "language": "python",
   "name": "python3"
  },
  "language_info": {
   "codemirror_mode": {
    "name": "ipython",
    "version": 3
   },
   "file_extension": ".py",
   "mimetype": "text/x-python",
   "name": "python",
   "nbconvert_exporter": "python",
   "pygments_lexer": "ipython3",
   "version": "3.9.13"
  }
 },
 "nbformat": 4,
 "nbformat_minor": 4
}
