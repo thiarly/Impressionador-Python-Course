{
 "cells": [
  {
   "cell_type": "code",
   "execution_count": 30,
   "id": "f384c181",
   "metadata": {},
   "outputs": [],
   "source": [
    "produtos = [\"iphone\", \"ipad\", \"airpod\", \"macbook\", \"gopro\"]\n",
    "precos = [7000, 10000, 2500, 14000, 1800]\n",
    "\n"
   ]
  },
  {
   "cell_type": "markdown",
   "id": "ed0a699c",
   "metadata": {},
   "source": [
    "### For item in lista"
   ]
  },
  {
   "cell_type": "code",
   "execution_count": 31,
   "id": "3053355f",
   "metadata": {},
   "outputs": [
    {
     "name": "stdout",
     "output_type": "stream",
     "text": [
      "Novo valor: 7700.0\n",
      "Novo valor: 11000.0\n",
      "Novo valor: 2750.0\n",
      "Novo valor: 15400.0\n",
      "Novo valor: 1980.0\n"
     ]
    }
   ],
   "source": [
    "# preco com imposto\n",
    "\n",
    "for preco in (precos):\n",
    "    print ('Novo valor: {}'.format((preco * 0.10) + preco))\n",
    "    \n",
    "    \n",
    "    (preco * 0.10) + preco\n"
   ]
  },
  {
   "cell_type": "markdown",
   "id": "80aa8d07",
   "metadata": {},
   "source": [
    "### For i in range"
   ]
  },
  {
   "cell_type": "code",
   "execution_count": 36,
   "id": "74b8e12d",
   "metadata": {},
   "outputs": [
    {
     "name": "stdout",
     "output_type": "stream",
     "text": [
      "iphone 7000\n",
      "ipad 10000\n",
      "airpod 2500\n",
      "macbook 14000\n",
      "gopro 1800\n"
     ]
    }
   ],
   "source": [
    "# preco de cada produto\n",
    "\n",
    "for i in range(len(precos)):\n",
    "    produto = produtos [i]\n",
    "    preco = precos [i]\n",
    "    \n",
    "    print(produto, preco)\n",
    "               \n"
   ]
  },
  {
   "cell_type": "markdown",
   "id": "ba0b37d3",
   "metadata": {},
   "source": [
    "### For item in lista com enumerate"
   ]
  },
  {
   "cell_type": "code",
   "execution_count": 38,
   "id": "38271545",
   "metadata": {},
   "outputs": [
    {
     "name": "stdout",
     "output_type": "stream",
     "text": [
      "iphone teve um acrescimo de 700.0 e o valor total agora é de 7700.0.\n",
      "ipad teve um acrescimo de 1000.0 e o valor total agora é de 11000.0.\n",
      "airpod teve um acrescimo de 250.0 e o valor total agora é de 2750.0.\n",
      "macbook teve um acrescimo de 1400.0 e o valor total agora é de 15400.0.\n",
      "gopro teve um acrescimo de 180.0 e o valor total agora é de 1980.0.\n"
     ]
    }
   ],
   "source": [
    "# preco de cada produto com imposto\n",
    "\n",
    "for i in range(len(precos)):\n",
    "    produto = produtos [i]\n",
    "    preco = precos [i]\n",
    "    print('{} teve um acrescimo de {} e o valor total agora é de {}.'.format(produto, preco * 0.10, preco * 0.10 + preco ))"
   ]
  },
  {
   "cell_type": "code",
   "execution_count": 45,
   "id": "827fc0d0",
   "metadata": {},
   "outputs": [
    {
     "name": "stdout",
     "output_type": "stream",
     "text": [
      "iphone 7000\n",
      "ipad 10000\n",
      "airpod 2500\n",
      "macbook 14000\n",
      "gopro 1800\n"
     ]
    }
   ],
   "source": [
    "for i, preco in enumerate(precos):\n",
    "    produto = produtos[i]\n",
    "    preco = precos[i]\n",
    "    print(produto, preco)\n",
    "    \n",
    "\n"
   ]
  },
  {
   "cell_type": "code",
   "execution_count": null,
   "id": "86eaead1",
   "metadata": {},
   "outputs": [],
   "source": []
  }
 ],
 "metadata": {
  "kernelspec": {
   "display_name": "Python 3 (ipykernel)",
   "language": "python",
   "name": "python3"
  },
  "language_info": {
   "codemirror_mode": {
    "name": "ipython",
    "version": 3
   },
   "file_extension": ".py",
   "mimetype": "text/x-python",
   "name": "python",
   "nbconvert_exporter": "python",
   "pygments_lexer": "ipython3",
   "version": "3.9.13"
  }
 },
 "nbformat": 4,
 "nbformat_minor": 5
}
