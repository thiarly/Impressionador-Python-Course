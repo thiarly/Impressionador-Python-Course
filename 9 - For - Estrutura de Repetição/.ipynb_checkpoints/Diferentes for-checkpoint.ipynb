{
 "cells": [
  {
   "cell_type": "code",
   "execution_count": 6,
   "id": "f384c181",
   "metadata": {},
   "outputs": [
    {
     "name": "stdout",
     "output_type": "stream",
     "text": [
      "0\n",
      "1\n",
      "2\n",
      "3\n",
      "4\n"
     ]
    }
   ],
   "source": [
    "produtos = [\"iphone\", \"ipad\", \"airpod\", \"macbook\", \"gopro\"]\n",
    "precos = [7000, 10000, 2500, 14000, 1800]\n",
    "\n"
   ]
  },
  {
   "cell_type": "markdown",
   "id": "ed0a699c",
   "metadata": {},
   "source": [
    "### For item in lista"
   ]
  },
  {
   "cell_type": "code",
   "execution_count": 3,
   "id": "3053355f",
   "metadata": {},
   "outputs": [
    {
     "name": "stdout",
     "output_type": "stream",
     "text": [
      "Novo valor: 7700.0\n",
      "Novo valor: 11000.0\n",
      "Novo valor: 2750.0\n",
      "Novo valor: 15400.0\n",
      "Novo valor: 1980.0\n"
     ]
    }
   ],
   "source": [
    "# preco com imposto\n",
    "\n",
    "for preco in (precos):\n",
    "    print ('Novo valor: {}'.format((preco * 0.10) + preco))\n",
    "    \n",
    "    \n",
    "    (preco * 0.10) + preco\n"
   ]
  },
  {
   "cell_type": "markdown",
   "id": "80aa8d07",
   "metadata": {},
   "source": [
    "### For i in range"
   ]
  },
  {
   "cell_type": "code",
   "execution_count": 12,
   "id": "74b8e12d",
   "metadata": {},
   "outputs": [
    {
     "ename": "TypeError",
     "evalue": "'int' object is not subscriptable",
     "output_type": "error",
     "traceback": [
      "\u001b[0;31m---------------------------------------------------------------------------\u001b[0m",
      "\u001b[0;31mTypeError\u001b[0m                                 Traceback (most recent call last)",
      "\u001b[0;32m/var/folders/zj/nb38z67n0g12xy5sbwbcfymr0000gn/T/ipykernel_75200/448884707.py\u001b[0m in \u001b[0;36m<module>\u001b[0;34m\u001b[0m\n\u001b[1;32m      4\u001b[0m \u001b[0;32mfor\u001b[0m \u001b[0mi\u001b[0m \u001b[0;32min\u001b[0m \u001b[0mrange\u001b[0m\u001b[0;34m(\u001b[0m\u001b[0mcont\u001b[0m\u001b[0;34m)\u001b[0m\u001b[0;34m:\u001b[0m\u001b[0;34m\u001b[0m\u001b[0;34m\u001b[0m\u001b[0m\n\u001b[1;32m      5\u001b[0m     \u001b[0mproduto\u001b[0m \u001b[0;34m=\u001b[0m \u001b[0mprodutos\u001b[0m\u001b[0;34m[\u001b[0m\u001b[0mi\u001b[0m\u001b[0;34m]\u001b[0m\u001b[0;34m\u001b[0m\u001b[0;34m\u001b[0m\u001b[0m\n\u001b[0;32m----> 6\u001b[0;31m     \u001b[0mpreco\u001b[0m \u001b[0;34m=\u001b[0m \u001b[0mpreco\u001b[0m\u001b[0;34m[\u001b[0m\u001b[0mi\u001b[0m\u001b[0;34m]\u001b[0m\u001b[0;34m\u001b[0m\u001b[0;34m\u001b[0m\u001b[0m\n\u001b[0m\u001b[1;32m      7\u001b[0m \u001b[0;34m\u001b[0m\u001b[0m\n\u001b[1;32m      8\u001b[0m \u001b[0;34m\u001b[0m\u001b[0m\n",
      "\u001b[0;31mTypeError\u001b[0m: 'int' object is not subscriptable"
     ]
    }
   ],
   "source": [
    "# preco de cada produto\n",
    "\n",
    "cont = len(produtos)\n",
    "for i in range(cont):\n",
    "    produto = produtos[i]\n",
    "    preco = preco[i]\n",
    "    \n",
    "\n"
   ]
  },
  {
   "cell_type": "markdown",
   "id": "ba0b37d3",
   "metadata": {},
   "source": [
    "### For item in lista com enumerate"
   ]
  },
  {
   "cell_type": "code",
   "execution_count": 7,
   "id": "38271545",
   "metadata": {},
   "outputs": [
    {
     "name": "stdout",
     "output_type": "stream",
     "text": [
      "0\n",
      "1\n",
      "2\n",
      "3\n",
      "4\n"
     ]
    }
   ],
   "source": [
    "# preco de cada produto com imposto\n",
    "\n"
   ]
  },
  {
   "cell_type": "code",
   "execution_count": null,
   "id": "827fc0d0",
   "metadata": {},
   "outputs": [],
   "source": []
  }
 ],
 "metadata": {
  "kernelspec": {
   "display_name": "Python 3 (ipykernel)",
   "language": "python",
   "name": "python3"
  },
  "language_info": {
   "codemirror_mode": {
    "name": "ipython",
    "version": 3
   },
   "file_extension": ".py",
   "mimetype": "text/x-python",
   "name": "python",
   "nbconvert_exporter": "python",
   "pygments_lexer": "ipython3",
   "version": "3.9.13"
  }
 },
 "nbformat": 4,
 "nbformat_minor": 5
}
