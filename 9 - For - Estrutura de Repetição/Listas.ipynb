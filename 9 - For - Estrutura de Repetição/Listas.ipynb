{
 "cells": [
  {
   "cell_type": "markdown",
   "id": "2b04bbea",
   "metadata": {
    "id": "2b04bbea"
   },
   "source": [
    "# Listas\n",
    "\n",
    "<span style=\"color: red;\"><b>Todos os exercícios são feitos partindo-se do pressuposto de que todas as entradas são dadas de forma correta. Casos limite não mencionados no enunciado não são abordados porque não fazem parte do exercício.</b></span>"
   ]
  },
  {
   "cell_type": "markdown",
   "id": "dcb81b29",
   "metadata": {
    "id": "dcb81b29"
   },
   "source": [
    "#### 1. Faça um Programa que leia as vendas dos vendedores, mostre a venda de cada vendedor com o seu nome e a média de vendas. "
   ]
  },
  {
   "cell_type": "code",
   "execution_count": 18,
   "id": "09c0d2b3",
   "metadata": {
    "id": "09c0d2b3"
   },
   "outputs": [
    {
     "name": "stdout",
     "output_type": "stream",
     "text": [
      "Fulano 1000\n",
      "Beltrano 1500\n",
      "Ciclano 1200\n",
      "Lira 1300\n",
      "1250.0\n"
     ]
    }
   ],
   "source": [
    "vendas = [1000, 1500, 1200, 1300]\n",
    "vendedores = [\"Fulano\", \"Beltrano\", \"Ciclano\", \"Lira\"]\n",
    "\n",
    "\n",
    "for i, venda in enumerate(vendas):\n",
    "    print(vendedores[i], vendas[i])\n",
    "media = sum(vendas) / len(vendas)\n",
    "print(media)\n",
    "    \n",
    "    "
   ]
  },
  {
   "cell_type": "markdown",
   "id": "cbda91b3",
   "metadata": {
    "id": "cbda91b3"
   },
   "source": [
    "#### 2. Faça um Programa que crie uma lista com as médias de cada aluno, imprima as médias de cada aluno e a quantidade de alunos com média maior que 7."
   ]
  },
  {
   "cell_type": "code",
   "execution_count": 66,
   "id": "c93dd233",
   "metadata": {
    "id": "c93dd233"
   },
   "outputs": [
    {
     "name": "stdout",
     "output_type": "stream",
     "text": [
      "José 8.75\n",
      "Joana 6.5\n",
      "Maria 10.0\n",
      "Carla 6.75\n",
      "Mauricio 6.25\n",
      "Andre 7.25\n",
      "Tiago 7.5\n",
      "Enzo 6.5\n",
      "Amanda 7.5\n",
      "Alessandra 4.25\n",
      "5 alunos foram aprovados.\n"
     ]
    }
   ],
   "source": [
    "alunos = [\"José\", \"Joana\", \"Maria\", \"Carla\", \"Mauricio\", \"Andre\", \"Tiago\", \"Enzo\", \"Amanda\", \"Alessandra\"]\n",
    "notas = [\n",
    "    [10, 9, 8, 8],\n",
    "    [9, 7, 6, 4],\n",
    "    [10, 10, 10, 10],\n",
    "    [5, 3, 10, 9],\n",
    "    [7, 6, 6, 6],\n",
    "    [7, 7, 8, 7],\n",
    "    [7, 7, 7, 9],\n",
    "    [8, 5, 6, 7],\n",
    "    [10, 9, 7, 4],\n",
    "    [10, 1, 3, 3],\n",
    "]\n",
    "\n",
    "media = 7\n",
    "medias = []\n",
    "\n",
    "for i, aluno in enumerate(alunos):\n",
    "    soma = sum(notas[i])/ len(notas[i])\n",
    "    medias.append(soma)\n",
    "    print(alunos[i], soma)\n",
    "   \n",
    "\n",
    "\n",
    "contador = 0 \n",
    "for soma in medias:\n",
    "    if soma >= media:\n",
    "        contador += 1\n",
    "print('{} alunos foram aprovados.'.format(contador))\n",
    "\n",
    "\n",
    "\n",
    "    \n",
    "\n",
    "\n",
    "\n",
    "    #print(alunos[i], notas[i])\n"
   ]
  },
  {
   "cell_type": "markdown",
   "id": "c3068a53",
   "metadata": {
    "id": "c3068a53"
   },
   "source": [
    "#### 3. Foram anotadas as idades e salários de 30 funcionários. Faça um programa que determine quantos funcionários com mais de 25 anos possuem salário inferior à média de todos os salários."
   ]
  },
  {
   "cell_type": "code",
   "execution_count": 91,
   "id": "0308566d",
   "metadata": {
    "id": "0308566d",
    "scrolled": true
   },
   "outputs": [
    {
     "name": "stdout",
     "output_type": "stream",
     "text": [
      "12 com idade maior que 25 anos tem o salário abaixo da média total de 3319.8\n"
     ]
    }
   ],
   "source": [
    "idades = [35,32,50,33,48,50,33,48,22,49,35,38,20,47,49,48,34,21,48,44,48,30,25,42,42,23,25,23,38,35]\n",
    "salarios = [3739,2219,3554,3978,4014,3270,4792,3879,2981,2384,4826,2460,3680,4318,1872,1770,4640,3929,3295,1729,3965,4267,4007,1916,2987,2943,3852,4543,2055,1730]\n",
    "\n",
    "media = sum(salarios) / len(salarios)\n",
    "\n",
    "contador = 0\n",
    "\n",
    "for i, idade in enumerate(idades):\n",
    "    if idade > 25 and salarios[i] < media:\n",
    "        contador += 1\n",
    "print('{} com idade maior que 25 anos tem o salário abaixo da média total de {}'.format(contador, media))\n",
    "        \n",
    "\n"
   ]
  },
  {
   "cell_type": "markdown",
   "id": "1611081b",
   "metadata": {
    "id": "1611081b"
   },
   "source": [
    "#### 4.Em quais meses a média de temperatura foi maior do que a média nacional?"
   ]
  },
  {
   "cell_type": "code",
   "execution_count": 36,
   "id": "62f72e2b",
   "metadata": {
    "id": "62f72e2b"
   },
   "outputs": [
    {
     "name": "stdout",
     "output_type": "stream",
     "text": [
      "Temperatura média nacional 25.8ºC\n",
      "Janeiro teve temperatura acima da média 30.0ºC\n",
      "Fevereiro teve temperatura acima da média 29.0ºC\n",
      "Março teve temperatura acima da média 28.0ºC\n",
      "Abril teve temperatura acima da média 28.0ºC\n",
      "Junho teve temperatura acima da média 26.0ºC\n",
      "Novembro teve temperatura acima da média 27.0ºC\n",
      "Dezembro teve temperatura acima da média 32.0ºC\n"
     ]
    }
   ],
   "source": [
    "meses = [\n",
    "    'Janeiro',\n",
    "    'Fevereiro',\n",
    "    'Março',\n",
    "    'Abril',\n",
    "    'Maio',\n",
    "    'Junho',\n",
    "    'Julho',\n",
    "    'Agosto',\n",
    "    'Setembro',\n",
    "    'Outubro',\n",
    "    'Novembro',\n",
    "    'Dezembro'\n",
    "]\n",
    "\n",
    "temperaturas = [30, 29, 28, 28, 25, 26, 20, 21, 19, 25, 27, 32]\n",
    "\n",
    "\n",
    "media_temperatura = sum(temperaturas) / len(temperaturas)\n",
    "\n",
    "print('Temperatura média nacional {:.1f}ºC'.format(media_temperatura))\n",
    "\n",
    "for i, temperatura in enumerate(temperaturas):\n",
    "    if temperatura > media_temperatura:\n",
    "        print('{} teve temperatura acima da média {:.1f}ºC'.format(meses[i], temperatura))"
   ]
  },
  {
   "cell_type": "markdown",
   "id": "8946af31",
   "metadata": {
    "id": "8946af31"
   },
   "source": [
    "#### 5. As Organizações Tabajara resolveram dar um abono aos seus colaboradores em reconhecimento ao bom resultado alcançado durante o ano que passou. Para isto contratou você para desenvolver a aplicação que servirá como uma projeção de quanto será gasto com o pagamento deste abono.\n",
    "<pre>Após reuniões envolvendo a diretoria executiva, a diretoria financeira e os representantes do sindicato laboral, chegou-se a seguinte forma de cálculo:\n",
    ". Cada funcionário receberá o equivalente a 20% do seu salário bruto de dezembro;\n",
    ". O piso do abono será de 100 reais, isto é, aqueles funcionários cujo salário for muito baixo, recebem este valor mínimo; \n",
    "\n",
    "Neste momento, não se deve ter nenhuma preocupação com colaboradores com tempo menor de casa, descontos, impostos ou outras particularidades. O programa deverá calcular o valor do abono concedido a cada colaborador, de acordo com a regra definida acima. Ao final, o programa deverá apresentar:</pre>\n",
    "<pre>\n",
    "O salário de cada funcionário, juntamente com o valor do abono;\n",
    "O número total de funcionário processados;\n",
    "O valor total a ser gasto com o pagamento do abono;\n",
    "O número de funcionário que receberá o valor mínimo de 100 reais;\n",
    "O maior valor pago como abono; A tela abaixo é um exemplo de execução do programa, apenas para fins ilustrativos.\n",
    "<pre>\n",
    "Projeção de Gastos com Abono\n",
    "============================ \n",
    " \n",
    "Salário: 1000\n",
    "Salário: 300\n",
    "Salário: 500\n",
    "Salário: 100\n",
    "Salário: 4500\n",
    "Salário: 0\n",
    " \n",
    "Salário    - Abono     \n",
    "R$ 1000.00 - R$  200.00\n",
    "R$  300.00 - R$  100.00\n",
    "R$  500.00 - R$  100.00\n",
    "R$  100.00 - R$  100.00\n",
    "R$ 4500.00 - R$  900.00\n",
    " \n",
    "Foram processados 5 colaboradores\n",
    "Total gasto com abonos: R$ 1400.00\n",
    "Valor mínimo pago a 3 colaboradores\n",
    "Maior valor de abono pago: R$ 900.00"
   ]
  },
  {
   "cell_type": "code",
   "execution_count": 310,
   "id": "fadbcfb2",
   "metadata": {
    "id": "fadbcfb2"
   },
   "outputs": [
    {
     "name": "stdout",
     "output_type": "stream",
     "text": [
      "Salário: 1000 com abono 200.0\n",
      "Salário: 300 com abono 100.0\n",
      "Salário: 200 com abono 100.0\n",
      "Salário: 1500 com abono 300.0\n",
      "Salário: 3000 com abono 600.0\n",
      "Salário: 3400 com abono 680.0\n",
      "Salário: 5000 com abono 1000.0\n",
      "Salário: 7000 com abono 1400.0\n",
      "Salário: 2000 com abono 400.0\n",
      "Salário: 600 com abono 120.0\n",
      "Salário: 800 com abono 160.0\n",
      "Salário: 250 com abono 100.0\n",
      "Salário: 1500 com abono 300.0\n",
      "Salário: 20000 com abono 4000.0\n",
      "Foram processados 15 colaboradores\n",
      "Total gasto com abonos: R$9460.00\n",
      "Valor mínimo pago a 3 colaboradores\n",
      "Maior valor de abono pago: R$ 4000.00\n"
     ]
    }
   ],
   "source": [
    "lista_salarios = [1000, 300, 500, 200, 1500, 3000, 3400, 5000, 7000, 2000, 600, 800, 250, 1500, 20000]\n",
    "\n",
    "processados = len(lista_salarios)\n",
    "cout = 0\n",
    "cout1 = 0\n",
    "maior_abono = []\n",
    "\n",
    "\n",
    "# descobrindo quem vai ter abono de 20% e quem vai ficar com teto de R$ 100,00\n",
    "for i in lista_salarios:\n",
    "    if i < 500:\n",
    "        abono_min = float (100)\n",
    "        cout = cout + abono_min\n",
    "        cout1 = cout1 + 1\n",
    "        print('Salário: {} com abono {}'.format(i, abono_min))    \n",
    "      \n",
    "    if i > 500:\n",
    "        abono = float (i * 0.20)\n",
    "        cout = cout + abono\n",
    "        maior_abono.append(abono)\n",
    "      \n",
    "        print('Salário: {} com abono {}'.format(i, abono))\n",
    "\n",
    "        \n",
    "max_abono = max(maior_abono)\n",
    "        \n",
    "print('Foram processados {} colaboradores'.format(processados))\n",
    "print('Total gasto com abonos: R${:.2f}'.format(cout))\n",
    "print('Valor mínimo pago a {} colaboradores'.format(cout1))\n",
    "print('Maior valor de abono pago: R$ {:.2f}'.format(max_abono))\n",
    "      \n",
    "\n",
    "        \n",
    "  \n",
    "\n",
    "\n",
    "\n",
    "\n",
    "\n",
    "\n",
    "\n",
    "\n"
   ]
  },
  {
   "cell_type": "markdown",
   "id": "382b0981",
   "metadata": {
    "id": "382b0981"
   },
   "source": [
    "#### 6. Faça um programa que carregue uma lista com os modelos de cinco carros (exemplo de modelos: FUSCA, GOL, VECTRA etc). Carregue uma outra lista com o consumo desses carros, isto é, quantos quilômetros cada um desses carros faz com um litro de combustível. Calcule e mostre:\n",
    "<pre>\n",
    "a. O modelo do carro mais econômico;\n",
    "b. Quantos litros de combustível cada um dos carros cadastrados consome para percorrer uma distância de 1000 quilômetros e quanto isto custará, considerando um que a gasolina custe R$ 2,25 o litro. Abaixo segue uma tela de exemplo. O disposição das informações deve ser o mais próxima possível ao exemplo. Os dados são fictícios e podem mudar a cada execução do programa.</pre>\n",
    "```\n",
    "Comparativo de Consumo de Combustível\n",
    "\n",
    "Veículo 1\n",
    "Nome: fusca\n",
    "Km por litro: 7\n",
    "Veículo 2\n",
    "Nome: gol\n",
    "Km por litro: 10\n",
    "Veículo 3\n",
    "Nome: uno\n",
    "Km por litro: 12.5\n",
    "Veículo 4\n",
    "Nome: Vectra\n",
    "Km por litro: 9\n",
    "Veículo 5\n",
    "Nome: Peugeout\n",
    "Km por litro: 14.5\n",
    "\n",
    "Relatório Final\n",
    " 1 - fusca           -    7.0 -  142.9 litros - R$ 321.43\n",
    " 2 - gol             -   10.0 -  100.0 litros - R$ 225.00\n",
    " 3 - uno             -   12.5 -   80.0 litros - R$ 180.00\n",
    " 4 - vectra          -    9.0 -  111.1 litros - R$ 250.00\n",
    " 5 - peugeout        -   14.5 -   69.0 litros - R$ 155.17\n",
    "O menor consumo é do peugeout.\n",
    "```"
   ]
  },
  {
   "cell_type": "code",
   "execution_count": 391,
   "id": "6b6c8b06",
   "metadata": {
    "id": "6b6c8b06"
   },
   "outputs": [
    {
     "name": "stdout",
     "output_type": "stream",
     "text": [
      "Comparativo de Consumo de Combustível\n",
      "\n",
      "\n",
      "Veículo 1\n",
      "Nome: fusca\n",
      "KM por Litro: 7\n",
      "Veículo 2\n",
      "Nome: gol\n",
      "KM por Litro: 10\n",
      "Veículo 3\n",
      "Nome: uno\n",
      "KM por Litro: 12.5\n",
      "Veículo 4\n",
      "Nome: vectra\n",
      "KM por Litro: 9\n",
      "Veículo 5\n",
      "Nome: peugeot\n",
      "KM por Litro: 14.5\n",
      "\n",
      "\n",
      "Relatório Final\n",
      "\n",
      "\n",
      "1 - fusca - 7.0 - 142.9 Litros - R$ 321.43\n",
      "2 - gol - 10.0 - 100.0 Litros - R$ 225.00\n",
      "3 - uno - 12.5 - 80.0 Litros - R$ 180.00\n",
      "4 - vectra - 9.0 - 111.1 Litros - R$ 250.00\n",
      "5 - peugeot - 14.5 - 69.0 Litros - R$ 155.17\n"
     ]
    }
   ],
   "source": [
    "print('Comparativo de Consumo de Combustível')\n",
    "print('\\n')\n",
    "veiculos = ['fusca','gol', 'uno', 'vectra', 'peugeot']\n",
    "autonomias = [7, 10, 12.5, 9, 14.5]\n",
    "\n",
    "\n",
    "count0 = 0\n",
    "for i, carros in enumerate(veiculos):\n",
    "    count0 += 1\n",
    "    print('Veículo {}'.format(count0))\n",
    "    print('Nome: {}'.format(carros))\n",
    "    print('KM por Litro: {}'.format(autonomias[i]))\n",
    "    \n",
    "    \n",
    "print('\\n')\n",
    "\n",
    "\n",
    "print('Relatório Final')\n",
    "print('\\n')\n",
    "\n",
    "count1 = 0\n",
    "for i, veiculo in enumerate(veiculos):\n",
    "    autonomia = autonomias [i]\n",
    "    litros = 1000 / autonomia\n",
    "    custo = litros * 2.25\n",
    "    count1 += 1\n",
    "    print('{} - {} - {:.1f} - {:.1f} Litros - R$ {:.2f}'.format(count1, veiculo, autonomia, litros, custo))\n",
    "    \n",
    "    \n",
    "\n",
    "\n"
   ]
  },
  {
   "cell_type": "markdown",
   "id": "1d0260a3",
   "metadata": {
    "id": "1d0260a3"
   },
   "source": [
    "#### 7. Uma empresa paga seus vendedores com base em comissões. O vendedor recebe \\\\$200 por semana mais 9 por cento de suas vendas brutas daquela semana. Por exemplo, um vendedor que teve vendas brutas de \\\\$3000 em uma semana recebe \\\\$200 mais 9 por cento de \\\\$3000, ou seja, um total de \\\\$470. Escreva um programa (usando um array de contadores) que determine quantos vendedores receberam salários nos seguintes intervalos de valores:\n",
    "<pre>\n",
    "$200 - $299\n",
    "$300 - $399\n",
    "$400 - $499\n",
    "$500 - $599\n",
    "$600 - $699\n",
    "$700 - $799\n",
    "$800 - $899\n",
    "$900 - $999\n",
    "$1000 em diante\n",
    "</pre>\n",
    "\n",
    "Existem várias formas de fazer. Faça primeiro da forma que parecer mais intuitiva para você.\n",
    "\n",
    "Em seguida, caso queira um desafio:\n",
    "Desafio: Crie uma forma para chegar na posição da lista a partir do salário, sem fazer vários ifs aninhados."
   ]
  },
  {
   "cell_type": "code",
   "execution_count": 46,
   "id": "fc6eaae4",
   "metadata": {
    "id": "fc6eaae4"
   },
   "outputs": [
    {
     "name": "stdout",
     "output_type": "stream",
     "text": [
      "290.0\n",
      "380.0\n",
      "470.0\n",
      "560.0\n",
      "650.0\n",
      "740.0\n",
      "695.0\n",
      "605.0\n",
      "524.0\n",
      "Entre 200 e 299: 1\n",
      "Entre 300 e 399: 1\n",
      "Entre 400 e 499: 1\n",
      "Entre 500 e 599: 2\n",
      "Entre 600 e 699: 3\n",
      "Entre 700 e 799: 1\n",
      "Entre 800 e 899: 0\n",
      "Entre 900 e 999: 0\n",
      "Mais que mil: 0\n"
     ]
    }
   ],
   "source": [
    "vendas = [1000, 2000, 3000, 4000, 5000, 6000, 5500, 4500, 3600]\n",
    "faixas = []\n",
    "tamanho_faixas = 100\n",
    "qtde_faixas = 9\n",
    "\n",
    "for venda in vendas:\n",
    "    bonus = venda * 0.09\n",
    "    salario = 200 + bonus\n",
    "    print(salario)\n",
    "    faixa = int(bonus / tamanho_faixas) + 1\n",
    "    faixas.append(faixa)\n",
    "for i in range(qtde_faixas-1):\n",
    "    print(f'Entre {i*100 + 200} e {i*100 + 299}:', faixas.count(i+1))\n",
    "print('Mais que mil:', faixas.count(qtde_faixas))\n",
    "\n",
    "\n",
    "\n"
   ]
  }
 ],
 "metadata": {
  "colab": {
   "provenance": []
  },
  "kernelspec": {
   "display_name": "Python 3 (ipykernel)",
   "language": "python",
   "name": "python3"
  },
  "language_info": {
   "codemirror_mode": {
    "name": "ipython",
    "version": 3
   },
   "file_extension": ".py",
   "mimetype": "text/x-python",
   "name": "python",
   "nbconvert_exporter": "python",
   "pygments_lexer": "ipython3",
   "version": "3.9.13"
  }
 },
 "nbformat": 4,
 "nbformat_minor": 5
}
