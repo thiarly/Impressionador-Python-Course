{
 "cells": [
  {
   "cell_type": "markdown",
   "metadata": {
    "id": "LMJHAAAtNTn4"
   },
   "source": [
    "# Desafio Python e E-mail\n",
    "\n",
    "### Descrição\n",
    "\n",
    "Digamos que você trabalha em uma indústria e está responsável pela área de inteligência de negócio.\n",
    "\n",
    "Todo dia, você, a equipe ou até mesmo um programa, gera um report diferente para cada área da empresa:\n",
    "- Financeiro\n",
    "- Logística\n",
    "- Manutenção\n",
    "- Marketing\n",
    "- Operações\n",
    "- Produção\n",
    "- Vendas\n",
    "\n",
    "Cada um desses reports deve ser enviado por e-mail para o Gerente de cada Área.\n",
    "\n",
    "Crie um programa que faça isso automaticamente. A relação de Gerentes (com seus respectivos e-mails) e áreas está no arquivo 'Enviar E-mails.xlsx'.\n",
    "\n",
    "Dica: Use o pandas read_excel para ler o arquivo dos e-mails que isso vai facilitar."
   ]
  },
  {
   "cell_type": "code",
   "execution_count": null,
   "metadata": {
    "id": "CerwjRtuNTn7"
   },
   "outputs": [],
   "source": [
    "# import pandas as pd\n",
    "# import win32com.client as win32\n",
    "# outlook = win32.Dispatch('outlook.application')\n",
    "# gerentes_df = pd.read_excel('Enviar E-mails.xlsx')\n",
    "# #gerentes_df.info()\n",
    "\n",
    "# for i, email in enumerate(gerentes_df['E-mail']):\n",
    "#     gerente = gerentes_df.loc[i, 'Gerente']\n",
    "#     area = gerentes_df.loc[i, 'Relatório']\n",
    "    \n",
    "#     mail = outlook.CreateItem(0)\n",
    "#     mail.To = email\n",
    "#     mail.Subject = 'Relatório de {}'.format(area)\n",
    "#     mail.Body = '''\n",
    "#     Prezado {}, \n",
    "#     Segue em anexo o Relatório de {}, conforme solicitado.\n",
    "#     Qualquer dúvida estou à disposição.\n",
    "#     Att.,\n",
    "#     '''.format(gerente, area)\n",
    "#     attachment  = r'C:\\Users\\joaop\\Google Drive\\Python Impressionador\\{}.xlsx'.format(area)\n",
    "#     mail.Attachments.Add(attachment)\n",
    "\n",
    "#     mail.Send()"
   ]
  },
  {
   "cell_type": "code",
   "execution_count": 6,
   "metadata": {},
   "outputs": [
    {
     "ename": "ModuleNotFoundError",
     "evalue": "No module named 'win32com'",
     "output_type": "error",
     "traceback": [
      "\u001b[0;31m---------------------------------------------------------------------------\u001b[0m",
      "\u001b[0;31mModuleNotFoundError\u001b[0m                       Traceback (most recent call last)",
      "\u001b[0;32m/var/folders/zj/nb38z67n0g12xy5sbwbcfymr0000gn/T/ipykernel_77324/1713474383.py\u001b[0m in \u001b[0;36m<module>\u001b[0;34m\u001b[0m\n\u001b[1;32m      1\u001b[0m \u001b[0;32mimport\u001b[0m \u001b[0mpandas\u001b[0m \u001b[0;32mas\u001b[0m \u001b[0mpd\u001b[0m\u001b[0;34m\u001b[0m\u001b[0;34m\u001b[0m\u001b[0m\n\u001b[0;32m----> 2\u001b[0;31m \u001b[0;32mimport\u001b[0m \u001b[0mwin32com\u001b[0m\u001b[0;34m\u001b[0m\u001b[0;34m\u001b[0m\u001b[0m\n\u001b[0m",
      "\u001b[0;31mModuleNotFoundError\u001b[0m: No module named 'win32com'"
     ]
    }
   ],
   "source": [
    "import pandas as pd\n",
    "import win32com"
   ]
  }
 ],
 "metadata": {
  "colab": {
   "provenance": []
  },
  "kernelspec": {
   "display_name": "Python 3 (ipykernel)",
   "language": "python",
   "name": "python3"
  },
  "language_info": {
   "codemirror_mode": {
    "name": "ipython",
    "version": 3
   },
   "file_extension": ".py",
   "mimetype": "text/x-python",
   "name": "python",
   "nbconvert_exporter": "python",
   "pygments_lexer": "ipython3",
   "version": "3.9.13"
  }
 },
 "nbformat": 4,
 "nbformat_minor": 1
}
