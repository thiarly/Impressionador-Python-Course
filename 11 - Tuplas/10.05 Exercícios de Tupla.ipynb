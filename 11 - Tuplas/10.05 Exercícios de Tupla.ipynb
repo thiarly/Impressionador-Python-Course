{
 "cells": [
  {
   "cell_type": "markdown",
   "metadata": {},
   "source": [
    "# Exercícios\n",
    "\n",
    "São exercícios bem parecidos com os que fizemos com listas. Mas na tupla, podemos não só trabalhar com índices, mas fazer o \"unpacking\" das tuplas, o que pode facilitar nossos códigos.\n",
    "\n",
    "## 1. Análise de Vendas\n",
    "\n",
    "Nesse exercício vamos fazer uma \"análise simples\" de atingimento de Meta.\n",
    "\n",
    "Temos uma lista com os vendedores e os valores de vendas e queremos identificar (printar) quais os vendedores que bateram a meta e qual foi o valor que eles venderam."
   ]
  },
  {
   "cell_type": "code",
   "execution_count": 17,
   "metadata": {},
   "outputs": [
    {
     "name": "stdout",
     "output_type": "stream",
     "text": [
      "Vendores que bateram a meta: João, 15000\n",
      "Vendores que bateram a meta: Julia, 27000\n",
      "Vendores que bateram a meta: Ana, 10300\n"
     ]
    }
   ],
   "source": [
    "meta = 10000\n",
    "vendas = [\n",
    "    ('João', 15000),\n",
    "    ('Julia', 27000),\n",
    "    ('Marcus', 9900),\n",
    "    ('Maria', 3750),\n",
    "    ('Ana', 10300),\n",
    "    ('Alon', 7870),\n",
    "]\n",
    "\n",
    "for vendedor, qtde in vendas:\n",
    "    if qtde > meta:\n",
    "        print('Vendores que bateram a meta: {}, {}'.format(vendedor, qtde))\n"
   ]
  },
  {
   "cell_type": "markdown",
   "metadata": {},
   "source": [
    "## 2. Comparação com Ano Anterior\n",
    "\n",
    "Digamos que você está analisando as vendas de produtos de um ecommerce e quer identificar quais produtos tiveram no ano de 2020 mais vendas do que no ano de 2019, para reportar isso para a diretoria.\n",
    "\n",
    "Sua resposta pode ser um print de cada produto, qual foi a venda de 2019, a venda de 2020 e o % de crescimento de 2020 para 2019.\n",
    "\n",
    "Lembrando, para calcular o % de crescimento de um produto de um ano para o outro, podemos fazer: (vendas_produto2020/vendas_produto2019 - 1)\n",
    "\n",
    "A lógica da tupla é: (produto, vendas2019, vendas2020)"
   ]
  },
  {
   "cell_type": "code",
   "execution_count": 23,
   "metadata": {},
   "outputs": [
    {
     "name": "stdout",
     "output_type": "stream",
     "text": [
      "PRODUTO iphone, VENDAS 2020 SUPERIOR A 2019 951642 E CRESCIMENTO REFERENTE A 2019: 70.50%\n",
      "PRODUTO tv, VENDAS 2020 SUPERIOR A 2019 787604 E CRESCIMENTO REFERENTE A 2019: 94.35%\n",
      "PRODUTO máquina de café, VENDAS 2020 SUPERIOR A 2019 867660 E CRESCIMENTO REFERENTE A 2019: 20.73%\n",
      "PRODUTO notebook dell, VENDAS 2020 SUPERIOR A 2019 694913 E CRESCIMENTO REFERENTE A 2019: 64.38%\n",
      "PRODUTO notebook hp, VENDAS 2020 SUPERIOR A 2019 539704 E CRESCIMENTO REFERENTE A 2019: 248.75%\n",
      "PRODUTO microsoft surface, VENDAS 2020 SUPERIOR A 2019 667179 E CRESCIMENTO REFERENTE A 2019: 52.15%\n",
      "PRODUTO webcam, VENDAS 2020 SUPERIOR A 2019 295633 E CRESCIMENTO REFERENTE A 2019: 24.49%\n",
      "PRODUTO caixa de som, VENDAS 2020 SUPERIOR A 2019 725316 E CRESCIMENTO REFERENTE A 2019: 48.11%\n",
      "PRODUTO microfone, VENDAS 2020 SUPERIOR A 2019 644622 E CRESCIMENTO REFERENTE A 2019: 96.34%\n",
      "PRODUTO câmera canon, VENDAS 2020 SUPERIOR A 2019 994303 E CRESCIMENTO REFERENTE A 2019: 68.21%\n"
     ]
    }
   ],
   "source": [
    "vendas_produtos = [('iphone', 558147, 951642), ('galaxy', 712350, 244295), ('ipad', 573823, 26964), ('tv', 405252, 787604), ('máquina de café', 718654, 867660), ('kindle', 531580, 78830), ('geladeira', 973139, 710331), ('adega', 892292, 646016), ('notebook dell', 422760, 694913), ('notebook hp', 154753, 539704), ('notebook asus', 887061, 324831), ('microsoft surface', 438508, 667179), ('webcam', 237467, 295633), ('caixa de som', 489705, 725316), ('microfone', 328311, 644622), ('câmera canon', 591120, 994303)]\n",
    "\n",
    "#seu código aqui\n",
    "\n",
    "for produto, vendas2019, vendas2020 in vendas_produtos:\n",
    "    if vendas2020 > vendas2019:\n",
    "        print('PRODUTO {}, VENDAS 2020 SUPERIOR A 2019 {} E CRESCIMENTO REFERENTE A 2019: {:.2%}'.format(produto, vendas2020, vendas2020 / vendas2019 -1))"
   ]
  }
 ],
 "metadata": {
  "kernelspec": {
   "display_name": "Python 3 (ipykernel)",
   "language": "python",
   "name": "python3"
  },
  "language_info": {
   "codemirror_mode": {
    "name": "ipython",
    "version": 3
   },
   "file_extension": ".py",
   "mimetype": "text/x-python",
   "name": "python",
   "nbconvert_exporter": "python",
   "pygments_lexer": "ipython3",
   "version": "3.9.13"
  }
 },
 "nbformat": 4,
 "nbformat_minor": 4
}
