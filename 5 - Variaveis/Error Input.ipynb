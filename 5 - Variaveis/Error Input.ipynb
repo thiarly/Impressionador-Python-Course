{
 "cells": [
  {
   "cell_type": "code",
   "execution_count": null,
   "id": "74a30a76",
   "metadata": {},
   "outputs": [],
   "source": [
    "faturamento = input('Insira o faturamento da empresa: ')\n",
    "nome = input('Insira o custo da empresa: ')\n",
    "\n",
    "print (faturamento)\n",
    "print (nome)"
   ]
  }
 ],
 "metadata": {
  "kernelspec": {
   "display_name": "Python 3",
   "language": "python",
   "name": "python3"
  },
  "language_info": {
   "codemirror_mode": {
    "name": "ipython",
    "version": 3
   },
   "file_extension": ".py",
   "mimetype": "text/x-python",
   "name": "python",
   "nbconvert_exporter": "python",
   "pygments_lexer": "ipython3",
   "version": "3.8.5"
  },
  "vscode": {
   "interpreter": {
    "hash": "0adcc2737ebf6a4a119f135174df96668767fca1ef1112612db5ecadf2b6d608"
   }
  }
 },
 "nbformat": 4,
 "nbformat_minor": 5
}
