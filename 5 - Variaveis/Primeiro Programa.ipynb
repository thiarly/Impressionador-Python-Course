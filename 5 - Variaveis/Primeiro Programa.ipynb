{
 "cells": [
  {
   "cell_type": "markdown",
   "id": "e5409af7",
   "metadata": {},
   "source": [
    "Meu Primeiro Programa, bora pra cima hashtag."
   ]
  },
  {
   "cell_type": "code",
   "execution_count": 86,
   "id": "7a8ec2d8",
   "metadata": {},
   "outputs": [
    {
     "name": "stdout",
     "output_type": "stream",
     "text": [
      "100\n"
     ]
    }
   ],
   "source": [
    "print (1 * 100)"
   ]
  },
  {
   "cell_type": "code",
   "execution_count": 87,
   "id": "a6e38602",
   "metadata": {
    "scrolled": true
   },
   "outputs": [
    {
     "name": "stdout",
     "output_type": "stream",
     "text": [
      "11.0\n"
     ]
    }
   ],
   "source": [
    "print (2.2 * 5)"
   ]
  },
  {
   "cell_type": "code",
   "execution_count": 88,
   "id": "40cecb6d",
   "metadata": {},
   "outputs": [
    {
     "name": "stdout",
     "output_type": "stream",
     "text": [
      "1\n"
     ]
    }
   ],
   "source": [
    "print (101 % 2)"
   ]
  },
  {
   "cell_type": "code",
   "execution_count": 89,
   "id": "79b85b7a",
   "metadata": {},
   "outputs": [
    {
     "name": "stdout",
     "output_type": "stream",
     "text": [
      "15\n"
     ]
    }
   ],
   "source": [
    "print ((5 + 2) + (2 + 2) * 2)"
   ]
  },
  {
   "cell_type": "code",
   "execution_count": 90,
   "id": "3c31a9ba",
   "metadata": {},
   "outputs": [
    {
     "name": "stdout",
     "output_type": "stream",
     "text": [
      "True\n",
      "True\n"
     ]
    }
   ],
   "source": [
    "print ('Cavalcante' in 'Thiarly Cavalcante')\n",
    "print ('Lira' in 'Lira é meu professor.')"
   ]
  },
  {
   "cell_type": "markdown",
   "id": "b6627541",
   "metadata": {},
   "source": [
    "VARIÁVEIS"
   ]
  },
  {
   "cell_type": "code",
   "execution_count": 91,
   "id": "36a073b0",
   "metadata": {},
   "outputs": [
    {
     "name": "stdout",
     "output_type": "stream",
     "text": [
      "Thiarly Cavalcante\n",
      "1800\n"
     ]
    }
   ],
   "source": [
    "#variavel recebe um valor\n",
    "\n",
    "qtde_vendas = 1800\n",
    "nome = ('Thiarly Cavalcante')\n",
    "\n",
    "print (nome)\n",
    "print (qtde_vendas)\n",
    "\n"
   ]
  },
  {
   "cell_type": "markdown",
   "id": "f50d41d7",
   "metadata": {},
   "source": [
    "INPUT"
   ]
  },
  {
   "cell_type": "code",
   "execution_count": 98,
   "id": "b0e45cc9",
   "metadata": {},
   "outputs": [
    {
     "name": "stdout",
     "output_type": "stream",
     "text": [
      "Seu primeiro nome: thiarly\n",
      "Seu sobrenome: cavalcante\n",
      "thiarly cavalcante\n",
      "['thiarly', 'cavalcante']\n"
     ]
    }
   ],
   "source": [
    "nome = input('Seu primeiro nome: ')\n",
    "sobrenome = input('Seu sobrenome: ')\n",
    "\n",
    "print (nome + ' ' + sobrenome)\n",
    "print ([nome] + [sobrenome])\n",
    "\n",
    "\n"
   ]
  }
 ],
 "metadata": {
  "kernelspec": {
   "display_name": "Python 3 (ipykernel)",
   "language": "python",
   "name": "python3"
  },
  "language_info": {
   "codemirror_mode": {
    "name": "ipython",
    "version": 3
   },
   "file_extension": ".py",
   "mimetype": "text/x-python",
   "name": "python",
   "nbconvert_exporter": "python",
   "pygments_lexer": "ipython3",
   "version": "3.9.13"
  }
 },
 "nbformat": 4,
 "nbformat_minor": 5
}
