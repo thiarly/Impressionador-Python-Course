{
 "cells": [
  {
   "cell_type": "markdown",
   "metadata": {},
   "source": [
    "# Projeto Automação Web - Busca de Preços\n",
    "\n",
    "### Objetivo: treinar um projeto em que a gente tenha que usar automações web com Selenium para buscar as informações que precisamos\n",
    "\n",
    "- Já fizemos um projeto com esse objetivo no Módulo de Python e Web e em gravações de encontros ao vivo, mas não custa nada treinar mais um pouco.\n",
    "\n",
    "### Como vai funcionar:\n",
    "\n",
    "- Imagina que você trabalha na área de compras de uma empresa e precisa fazer uma comparação de fornecedores para os seus insumos/produtos.\n",
    "\n",
    "- Nessa hora, você vai constantemente buscar nos sites desses fornecedores os produtos disponíveis e o preço, afinal, cada um deles pode fazer promoção em momentos diferentes e com valores diferentes.\n",
    "\n",
    "- Seu objetivo: Se o valor dos produtos for abaixo de um preço limite definido por você, você vai descobrir os produtos mais baratos e atualizar isso em uma planilha.\n",
    "- Em seguida, vai enviar um e-mail com a lista dos produtos abaixo do seu preço máximo de compra.\n",
    "\n",
    "- No nosso caso, vamos fazer com produtos comuns em sites como Google Shopping e Buscapé, mas a ideia é a mesma para outros sites.\n",
    "\n",
    "### Outra opção:\n",
    "\n",
    "- APIs\n",
    "\n",
    "### O que temos disponível?\n",
    "\n",
    "- Planilha de Produtos, com os nomes dos produtos, o preço máximo, o preço mínimo (para evitar produtos \"errados\" ou \"baratos de mais para ser verdade\" e os termos que vamos querer evitar nas nossas buscas.\n",
    "\n",
    "### O que devemos fazer:\n",
    "\n",
    "- Procurar cada produto no Google Shopping e pegar todos os resultados que tenham preço dentro da faixa e sejam os produtos corretos\n",
    "- O mesmo para o Buscapé\n",
    "- Enviar um e-mail para o seu e-mail (no caso da empresa seria para a área de compras por exemplo) com a notificação e a tabela com os itens e preços encontrados, junto com o link de compra. (Vou usar o e-mail pythonimpressionador@gmail.com. Use um e-mail seu para fazer os testes para ver se a mensagem está chegando)"
   ]
  },
  {
   "cell_type": "code",
   "execution_count": 108,
   "metadata": {},
   "outputs": [
    {
     "data": {
      "text/html": [
       "<div>\n",
       "<style scoped>\n",
       "    .dataframe tbody tr th:only-of-type {\n",
       "        vertical-align: middle;\n",
       "    }\n",
       "\n",
       "    .dataframe tbody tr th {\n",
       "        vertical-align: top;\n",
       "    }\n",
       "\n",
       "    .dataframe thead th {\n",
       "        text-align: right;\n",
       "    }\n",
       "</style>\n",
       "<table border=\"1\" class=\"dataframe\">\n",
       "  <thead>\n",
       "    <tr style=\"text-align: right;\">\n",
       "      <th></th>\n",
       "      <th>Nome</th>\n",
       "      <th>Termos banidos</th>\n",
       "      <th>Preço mínimo</th>\n",
       "      <th>Preço máximo</th>\n",
       "    </tr>\n",
       "  </thead>\n",
       "  <tbody>\n",
       "    <tr>\n",
       "      <th>0</th>\n",
       "      <td>iphone 12 64 gb</td>\n",
       "      <td>mini watch</td>\n",
       "      <td>3000</td>\n",
       "      <td>3500</td>\n",
       "    </tr>\n",
       "    <tr>\n",
       "      <th>1</th>\n",
       "      <td>rtx 3060</td>\n",
       "      <td>zota galax</td>\n",
       "      <td>4000</td>\n",
       "      <td>4500</td>\n",
       "    </tr>\n",
       "  </tbody>\n",
       "</table>\n",
       "</div>"
      ],
      "text/plain": [
       "              Nome Termos banidos  Preço mínimo  Preço máximo\n",
       "0  iphone 12 64 gb     mini watch          3000          3500\n",
       "1         rtx 3060     zota galax          4000          4500"
      ]
     },
     "metadata": {},
     "output_type": "display_data"
    }
   ],
   "source": [
    "# criar um navegador\n",
    "from selenium import webdriver\n",
    "from selenium.webdriver.common.keys import Keys\n",
    "from selenium.webdriver.common.by import By\n",
    "import pandas as pd\n",
    "\n",
    "# criar o navegador\n",
    "nav = webdriver.Chrome()\n",
    "\n",
    "# importar/visualizar a base de dados\n",
    "tabela_produtos = pd.read_excel(\"buscas.xlsx\")\n",
    "display(tabela_produtos)"
   ]
  },
  {
   "cell_type": "code",
   "execution_count": 109,
   "metadata": {},
   "outputs": [
    {
     "name": "stdout",
     "output_type": "stream",
     "text": [
      "['iphone', '12', '64', 'gb']\n",
      "iphone 12 64 gb\n"
     ]
    }
   ],
   "source": [
    "produto = 'iphone 12 64 gb'\n",
    "lista_produto = produto.split(\" \")\n",
    "print(lista_produto)\n",
    "print(produto)"
   ]
  },
  {
   "cell_type": "code",
   "execution_count": null,
   "metadata": {},
   "outputs": [],
   "source": []
  },
  {
   "cell_type": "markdown",
   "metadata": {},
   "source": [
    "Definição das funções de busca google shopping e do buscapé"
   ]
  },
  {
   "cell_type": "code",
   "execution_count": 110,
   "metadata": {},
   "outputs": [],
   "source": [
    "import time\n",
    "\n",
    "\n",
    "def verificar_tem_termos_banidos(lista_termos_banidos, nome):\n",
    "    tem_termos_banidos = False\n",
    "    for palavra in lista_termos_banidos:\n",
    "        if palavra in nome:\n",
    "            tem_termos_banidos = True\n",
    "    return tem_termos_banidos\n",
    "\n",
    "\n",
    "def verficar_tem_todos_termos_produto(lista_termos_nome_produto, nome):\n",
    "    tem_todos_termos_produtos = True\n",
    "    for palavra in lista_termos_nome_produto:\n",
    "        if palavra not in nome:\n",
    "            tem_todos_termos_produtos = False\n",
    "    return tem_todos_termos_produtos\n",
    "\n",
    "\n",
    "\n",
    "def busca_google_shopping(nav, produto, termos_banidos, preco_minimo, preco_maximo):\n",
    "   \n",
    "    #Tratamento\n",
    "    produto = produto.lower()\n",
    "    termos_banidos = termos_banidos.lower()\n",
    "    lista_termos_nome_produto = produto.split(\" \")\n",
    "    lista_termos_banidos = termos_banidos.split(\" \")\n",
    "    lista_ofertas = []\n",
    "    preco_minimo = float(preco_minimo)\n",
    "    preco_maximo = float(preco_maximo)\n",
    "    \n",
    "    #Entra no google e fazer a busca\n",
    "    nav.get(\"https://www.google.com/\")\n",
    "    nav.find_element('xpath', '//*[@id=\"APjFqb\"]').send_keys(produto, Keys.ENTER)\n",
    "\n",
    "    #Entrar na aba shopping:\n",
    "    elementos = nav.find_elements(\"class name\", \"hdtb-mitem\")\n",
    "\n",
    "    for elemento in elementos:\n",
    "        if \"Shopping\" in elemento.text: \n",
    "            elemento.click()\n",
    "            break\n",
    "\n",
    "    #Pegar informações do produto\n",
    "    lista_resultados = nav.find_elements(\"class name\", \"i0X6df\")\n",
    "\n",
    "    for resultado in lista_resultados:\n",
    "        nome = resultado.find_element(\"class name\", \"tAxDx\").text\n",
    "        nome = nome.lower()\n",
    "\n",
    "        # analisar se ele não tem nenhum termo banido\n",
    "        tem_termos_banidos = verificar_tem_termos_banidos(lista_termos_banidos, nome)\n",
    "               \n",
    "        # analisar se ele tem TODOS os termos do nome do produto\n",
    "        tem_todos_termos_produtos = verficar_tem_todos_termos_produto(lista_termos_nome_produto, nome)\n",
    "\n",
    "        # Selecionar só os elementos que tem_termos_banidos = False e ao mesmo tempo tem_todos_termos_produtos = True\n",
    "        #if tem_termos_banidos == False and tem_todos_termos_produtos == True:\n",
    "        if not tem_termos_banidos and tem_todos_termos_produtos:\n",
    "            preco = resultado.find_element(\"class name\", \"a8Pemb\").text\n",
    "            preco = preco.replace(\"R$\", \"\").replace(\" \", \"\").replace(\".\", \"\").replace(\",\", \".\")\n",
    "            preco = float(preco)\n",
    "\n",
    "            # Verificar se o preço está dentro do preço minimo e máximo\n",
    "            if preco_minimo <= preco <= preco_maximo:\n",
    "                #Lógica para pegar o link, através do parâmetro \"href\", não foi possível Dessa a variavel elemento_referencia recebe a (\"class name\", \"bONr3b\"), que é childre do linkE pegar o \"href\" atraves do parent \"(\"xpath\", \"..\")\"\n",
    "                elemento_referencia = resultado.find_element(\"class name\", \"bONr3b\")\n",
    "                elemento_pai = elemento_referencia.find_element(\"xpath\", \"..\")\n",
    "                link = elemento_pai.get_attribute('href')\n",
    "                #print(preco, nome, link)\n",
    "                lista_ofertas.append((nome, preco, link))   \n",
    "    return lista_ofertas\n",
    "\n",
    "\n",
    "\n",
    "\n",
    "\n",
    "def busca_buscape (nav, produto, termos_banidos, preco_minimo, preco_maximo):\n",
    "   \n",
    "    # tratamento\n",
    "    produto = produto.lower()\n",
    "    termos_banidos = termos_banidos.lower()\n",
    "    lista_termos_nome_produto = produto.split(\" \")\n",
    "    lista_termos_banidos = termos_banidos.split(\" \")\n",
    "    lista_ofertas = []\n",
    "    preco_minimo = float(preco_minimo)\n",
    "    preco_maximo = float(preco_maximo)\n",
    "    \n",
    "    \n",
    "    #Buscar no Buscape\n",
    "    nav.get('https://www.buscape.com.br/')\n",
    "    nav.find_element('xpath', '//*[@id=\"new-header\"]/div[1]/div/div/div[3]/div/div/div[2]/div/div[1]/input').send_keys(produto, Keys.ENTER)\n",
    "    \n",
    "    #Pegar os resultados\n",
    "    while len(nav.find_elements('class name', 'Select_Select__1S7HV')) <1:\n",
    "        time.sleep(1)\n",
    "    lista_resultados = nav.find_elements('class name', 'SearchCard_ProductCard_Inner__7JhKb')\n",
    "    \n",
    "   \n",
    "    for resultado in lista_resultados:\n",
    "        preco = resultado.find_element('class name', 'Text_MobileHeadingS__Zxam2').text\n",
    "        nome = resultado.find_element('class name', 'SearchCard_ProductCard_Name__ZaO5o').text\n",
    "        nome = nome.lower()\n",
    "        link = resultado.get_attribute(\"href\")\n",
    "    \n",
    "        # analisar se ele não tem nenhum termo banido\n",
    "        tem_termos_banidos = verificar_tem_termos_banidos(lista_termos_banidos, nome)\n",
    "               \n",
    "        # analisar se ele tem TODOS os termos do nome do produto\n",
    "        tem_todos_termos_produtos = verficar_tem_todos_termos_produto(lista_termos_nome_produto, nome)\n",
    "    \n",
    "    \n",
    "        #Analisar se o preço está entre o preço minímo e o preço máximo\n",
    "        if not tem_termos_banidos and tem_todos_termos_produtos:\n",
    "            preco = preco.replace(\"R$\", \"\").replace(\" \", \"\").replace(\".\", \"\").replace(\",\", \".\")\n",
    "            preco = float(preco)\n",
    "            if preco_minimo <= preco <= preco_maximo:\n",
    "                lista_ofertas.append((nome, preco, link))\n",
    "        \n",
    "    #Retornar a lista de ofertas do buscape\n",
    "    return lista_ofertas\n",
    "            "
   ]
  },
  {
   "cell_type": "code",
   "execution_count": null,
   "metadata": {},
   "outputs": [],
   "source": []
  },
  {
   "cell_type": "markdown",
   "metadata": {},
   "source": [
    "Continuação"
   ]
  },
  {
   "cell_type": "code",
   "execution_count": 111,
   "metadata": {},
   "outputs": [
    {
     "name": "stdout",
     "output_type": "stream",
     "text": [
      "[('vitrine: iphone 12 apple 64gb preto tela 6,1 câmera traseira dupla 12mp ios', 3295.55, 'https://www.google.com/url?url=https://www.carrefour.com.br/vitrine-iphone-12-apple-64gb-preto-tela-61-camera-traseira-dupla-12mp-ios-mp911874394/p&rct=j&q=&esrc=s&sa=U&ved=0ahUKEwji4aDWo8P-AhWCLrkGHS8zCgYQguUECM4M&usg=AOvVaw0YVGq0stp7ApdM53v0BQsJ'), ('apple iphone 12, 64 gb - preto', 3779.1, 'https://www.google.com/url?url=https://www.amazon.com.br/Apple-iPhone-12-64-GB-Preto/dp/B09BG1CZ68%3Fsource%3Dps-sl-shoppingads-lpcontext%26ref_%3Dfplfs%26psc%3D1%26smid%3DA1ZZFT5FULY4LN&rct=j&q=&esrc=s&sa=U&ved=0ahUKEwji4aDWo8P-AhWCLrkGHS8zCgYQguUECN4M&usg=AOvVaw22cPzFG4_Dk0TFEyRjtAa-'), ('iphone 12 64gb - azul - estou zerado', 3059.1, 'https://www.google.com/url?url=https://www.trocafy.com.br/iphone-12-64gb-azul-sou-como-novo-2552/p%3Fidsku%3D966%26srsltid%3DAfAwrE5KXxyU8zZ6_CzhfRdKXeERok1D-gzRlLYbBs4A23-Y-2lS9CzwR6Y&rct=j&q=&esrc=s&sa=U&ved=0ahUKEwji4aDWo8P-AhWCLrkGHS8zCgYQguUECPAM&usg=AOvVaw3GK8-Nm7d9LrNASuvtMkPl'), ('iphone 12 64gb - preto - estou zerado', 3059.1, 'https://www.google.com/url?url=https://www.trocafy.com.br/iphone-12-64gb-preto-sou-como-novo-2551/p%3Fidsku%3D971%26srsltid%3DAfAwrE58Z3drKUiayPL7KOxymuHPQkE36xmfM6cb7DIhHuvl1_N_42s6UxA&rct=j&q=&esrc=s&sa=U&ved=0ahUKEwji4aDWo8P-AhWCLrkGHS8zCgYQguUECIAN&usg=AOvVaw1KCYYEWUJCw8CcusQrMHdO'), ('usado: iphone 12 64gb preto bom - trocafone', 3209.0, 'https://www.google.com/url?url=https://www.carrefour.com.br/usado-iphone-12-64gb-preto-bom-trocafone-mp930839701/p&rct=j&q=&esrc=s&sa=U&ved=0ahUKEwji4aDWo8P-AhWCLrkGHS8zCgYQgOUECJAN&usg=AOvVaw0XwvoYhrFHnp3DZHBeZ47D'), ('iphone 12 apple (64gb) azul, tela de 6,1, 5g e câmera dupla de 12 mp', 4865.95, 'https://www.google.com/url?url=https://www.pontofrio.com.br/iphone-12-64gb-azul-com-tela-de-61-quot-5g-e-camera-dupla-de-12-mp-mgj83br-a-1523386972/p/1523386972%3Futm_medium%3Dcpc%26utm_source%3Dgoogle_freelisting%26IdSku%3D1523386972%26idLojista%3D37582%26tipoLojista%3D3P&rct=j&q=&esrc=s&sa=U&ved=0ahUKEwji4aDWo8P-AhWCLrkGHS8zCgYQguUECLEN&usg=AOvVaw0w8IuAecyHbwN0BpsaE4-I'), ('iphone 12 64gb roxo tela 6,1 4g câmera traseira 12mp vitrine', 3654.15, 'https://www.google.com/url?url=https://www.carrefour.com.br/iphone-12-64gb-roxo-tela-61-4g-camera-traseira-12mp-vitrine-mp932882255/p&rct=j&q=&esrc=s&sa=U&ved=0ahUKEwji4aDWo8P-AhWCLrkGHS8zCgYQguUECMEN&usg=AOvVaw0gJPT8BV4M8vMtz3SNm-Yf'), ('usado: iphone 12 64gb preto bom - trocafone', 2727.65, 'https://www.google.com/url?url=https://www.buscape.com.br/lead%3Foid%3D960545314%26sortorder%3D-1%26index%3D%26searchterm%3Dnull%26pagesize%3D-1%26channel%3D%26og%3D19221%26pla%3D2023-04-20T16:41:08.765044&rct=j&q=&esrc=s&sa=U&ved=0ahUKEwji4aDWo8P-AhWCLrkGHS8zCgYQgOUECNMN&usg=AOvVaw0Q01qXRg3AA2DUxh_caGbJ'), ('iphone 12 64gb vitrine swap + cabo e fonte', 2780.0, 'https://www.google.com/url?url=https://www.atacadum.com.br/iphone-12-64gb-vitrine-swap-cabo-e-fonte/%3Fsku%3D1732472.115531.128656&rct=j&q=&esrc=s&sa=U&ved=0ahUKEwji4aDWo8P-AhWCLrkGHS8zCgYQgOUECJQO&usg=AOvVaw2L941uCiFtzsVvCgJDzcov'), ('usado: iphone 12 64gb azul excelente - trocafone', 3577.65, 'https://www.google.com/url?url=https://www.buscape.com.br/lead%3Foid%3D982666653%26sortorder%3D-1%26index%3D%26searchterm%3Dnull%26pagesize%3D-1%26channel%3D%26og%3D19221%26pla%3D2023-04-20T16:41:08.717375&rct=j&q=&esrc=s&sa=U&ved=0ahUKEwji4aDWo8P-AhWCLrkGHS8zCgYQgOUECMQO&usg=AOvVaw0EWlfkWXmRkzhxv5WeGLb6'), ('iphone 12 64gb roxo - swap', 3098.0, 'https://www.google.com/url?url=https://www.malibushop.com.br/iphones-semi-novos/iphones-swap/iphone-12-64gb-roxo-swap%3Fparceiro%3D1538%26srsltid%3DAfAwrE4jvBOBJxNHahWSpBxZeBT-Rusk4MB8IJXVdfcHOfJ30PnC0OKp6ho&rct=j&q=&esrc=s&sa=U&ved=0ahUKEwji4aDWo8P-AhWCLrkGHS8zCgYQgOUECNMO&usg=AOvVaw0PFu2rxDcUtQLsIyxnsNpA'), ('iphone 12 apple 64gb 5g tela 6.1 polegadas ios 15 câmera 12mp, branco', 4587.84, 'https://www.google.com/url?url=https://www.magazineluiza.com.br/iphone-12-apple-64gb-5g-tela-6-1-polegadas-ios-15-camera-12mp/p/hg1k6c5683/te/ip12/%3F%26seller_id%3Dcarrefouroficial&rct=j&q=&esrc=s&sa=U&ved=0ahUKEwji4aDWo8P-AhWCLrkGHS8zCgYQgOUECOIO&usg=AOvVaw0NnwXEQA8Jx7FPMF_peJWL'), ('iphone 12 64 gb vitrine original - azul apple', 3299.0, 'https://www.google.com/url?url=https://produto.mercadolivre.com.br/MLB-3456079370-iphone-12-64-gb-vitrine-original-azul-_JM%3Fmatt_tool%3D18956390%26utm_source%3Dgoogle_shopping%26utm_medium%3Dorganic&rct=j&q=&esrc=s&sa=U&ved=0ahUKEwji4aDWo8P-AhWCLrkGHS8zCgYQgOUECPEO&usg=AOvVaw0VP3dCX6vtLkjgtbSWszKx'), ('iphone 12 apple 64gb preto tela 6,1” 12mp', 4049.1, 'https://www.google.com/url?url=https://loja.stentor.com.br/shop/produto.php%3Fid%3D62502&rct=j&q=&esrc=s&sa=U&ved=0ahUKEwji4aDWo8P-AhWCLrkGHS8zCgYQgOUECIAP&usg=AOvVaw0YCsV_k9pabHwvf6Y3tOHC'), ('iphone 12 apple 64gb preto tela 6,1 12mp - ios + microsoft 365 persona', 4049.1, 'https://www.google.com/url?url=https://www.magazineluiza.com.br/iphone-12-apple-64gb-preto-tela-61-12mp-ios-microsoft-365-personal-office-365-apps-1tb/p/2297535/te/ip12/%3F%26force%3D3%26seller_id%3Dmagazineluiza&rct=j&q=&esrc=s&sa=U&ved=0ahUKEwji4aDWo8P-AhWCLrkGHS8zCgYQgOUECI8P&usg=AOvVaw3Rcj8B-TecrJgObpcLSfno'), ('smartphone iphone 12 64gb preto - bom', 3999.99, 'https://www.google.com/url?url=https://www.trocafone.com.br/smartphone-iphone-12-66922/p%3Fidsku%3D35767%26utm_source%3Dgoogle%26utm_campaign%3Dshopping%26utm_medium%3Dcpc&rct=j&q=&esrc=s&sa=U&ved=0ahUKEwji4aDWo8P-AhWCLrkGHS8zCgYQgOUECK4P&usg=AOvVaw1XVPiXMM5kgAGd2lJg0V4o'), ('iphone 12 - novo / verde / 64 gb', 4149.0, 'https://www.google.com/url?url=https://iphonevendasx.com.br/iphone-12---novo&rct=j&q=&esrc=s&sa=U&ved=0ahUKEwji4aDWo8P-AhWCLrkGHS8zCgYQgOUECL0P&usg=AOvVaw3KkstOMHbR5UHNMVBTEcCh'), ('(seminovo) iphone 12 apple preto, 64gb', 3144.15, 'https://www.google.com/url?url=https://www.taqi.com.br/seminovo-iphone12-64gbpreto-internacional/220672%3Fsrsltid%3DAfAwrE5CE4vLSQOIc6yYXdVbN3Go8LDyrMQ9jWH1YDiHdSM2ryBkrxbeCFg&rct=j&q=&esrc=s&sa=U&ved=0ahUKEwji4aDWo8P-AhWCLrkGHS8zCgYQgOUECN0P&usg=AOvVaw1yTybZOPal2jxGjhuxVAOH'), ('iphone 12 64gb vitrine bateria 100% (brindes+ nf) apple', 4347.0, 'https://www.google.com/url?url=https://produto.mercadolivre.com.br/MLB-3024689285-iphone-12-64gb-vitrine-bateria-100-brindes-nf-_JM%3Fmatt_tool%3D18956390%26utm_source%3Dgoogle_shopping%26utm_medium%3Dorganic&rct=j&q=&esrc=s&sa=U&ved=0ahUKEwji4aDWo8P-AhWCLrkGHS8zCgYQgOUECO4P&usg=AOvVaw2T3hqUjFF5vK4y2Um62Euk'), ('iphone 12 apple, tela de 6,1”, câmera dupla 12mp (somente o aparelho) (roxo, 64 gb)', 3399.0, 'https://www.google.com/url?url=https://icalifa.lojavirtualnuvem.com.br/produtos/iphone-12-apple-tela-de-61-camera-dupla-12mp-somente-o-aparelho/%3Fvariant%3D609012186%26pf%3Dmc%26srsltid%3DAfAwrE4CpRh3FTIRg3f4YRHz9Sizds0E8xXZc-W8gve74oof3A3swpW4jfs&rct=j&q=&esrc=s&sa=U&ved=0ahUKEwji4aDWo8P-AhWCLrkGHS8zCgYQgOUECP0P&usg=AOvVaw1PPZQHaihMLkgoDaaBQ5AX'), ('iphone 12 apple 64gb preto tela 6,1” 12mp ios', 3869.1, 'https://www.google.com/url?url=https://loja.stentor.com.br/shop/produto.php%3Fid%3D61759&rct=j&q=&esrc=s&sa=U&ved=0ahUKEwji4aDWo8P-AhWCLrkGHS8zCgYQgOUECKsQ&usg=AOvVaw0zlDkBGOG29Vyz5h0oiZhc'), ('iphone 12 64gb tela 6.1 sem carregador e fone apple', 5335.9, 'https://www.google.com/url?url=https://www.carrefour.com.br/iphone-12-64gb-tela-61-sem-carregador-e-fone-apple-mp930960784/p&rct=j&q=&esrc=s&sa=U&ved=0ahUKEwji4aDWo8P-AhWCLrkGHS8zCgYQgOUECLoQ&usg=AOvVaw1bpPZ9LZGt_urNn1kMgB8i'), ('apple iphone 12 (64 gb) - azul', 3490.0, 'https://www.google.com/url?url=https://produto.mercadolivre.com.br/MLB-3277500029-apple-iphone-12-64-gb-azul-_JM%3Fmatt_tool%3D18956390%26utm_source%3Dgoogle_shopping%26utm_medium%3Dorganic&rct=j&q=&esrc=s&sa=U&ved=0ahUKEwji4aDWo8P-AhWCLrkGHS8zCgYQgOUECNkQ&usg=AOvVaw19F-5fWlLqu92FHSSZFElb'), ('iphone 12 64gb preto - swap', 3219.0, 'https://www.google.com/url?url=https://www.malibushop.com.br/iphones-semi-novos/iphones-swap/iphone-12-64gb-preto-swap%3Fparceiro%3D1538%26srsltid%3DAfAwrE7u4JCgWf4xUorcBjCophtTEY3nstGNxFND1wq0157nWtIzPuvOzo0&rct=j&q=&esrc=s&sa=U&ved=0ahUKEwji4aDWo8P-AhWCLrkGHS8zCgYQgOUECOgQ&usg=AOvVaw0-J-i5352SdVj0eRl4Ifif'), ('iphone 12 64gb branco apple tela super retina xdr 6.1” cam. dupla 12mp chip a14 ...', 3847.4, 'https://www.google.com/url?url=https://www.smartsshop.com.br/iphone-12-64gb-branco-apple-tela-super-retina-xdr-6.1-cam.-dupla-12mp-chip-a14-bionic-5g%3Fsrsltid%3DAfAwrE4PPFS-6Q5Frts66rjNH0V6Po7l5kxn10ux2suQ5eHmp-f-QE-oUO4&rct=j&q=&esrc=s&sa=U&ved=0ahUKEwji4aDWo8P-AhWCLrkGHS8zCgYQgOUECIgR&usg=AOvVaw2fafVSAuV8SMwuXRFmnYab'), ('iphone 12 64gb preto + brinde', 4429.0, 'https://www.google.com/url?url=https://www.malibushop.com.br/apple/iphone-12-64gb-preto-brinde%3Fparceiro%3D1538%26srsltid%3DAfAwrE46LBXZYKxN7LyM7ex53mD9JK1BIFofGQ_ERzvVjYiwDnieb8ewi00&rct=j&q=&esrc=s&sa=U&ved=0ahUKEwji4aDWo8P-AhWCLrkGHS8zCgYQgOUECMYR&usg=AOvVaw3_6wkoKFvJMeemDGDPrSjm'), ('iphone 12 64gb branco - vitrine', 4399.99, 'https://www.google.com/url?url=https://www.workfastbrasil.com.br/iphone-12-64gb-branco-vitrine-/prod-9509379/%3Fsrsltid%3DAfAwrE7nlWI3hM6uoPY14lqOhN9FS9vUysXVV5gbGkGV5PXvDexvDmM4i_4&rct=j&q=&esrc=s&sa=U&ved=0ahUKEwji4aDWo8P-AhWCLrkGHS8zCgYQgOUECPYR&usg=AOvVaw1fE2qc5yJj_rOa3baMi_Uk'), ('iphone 11, 64 gb com tela de 6,1”, 4g e câmera de 12 mp - apple', 2795.0, 'https://www.google.com/url?url=https://www.housebob.com.br/iphone-11-com-tela-de-61-4g-e-camera-de-12-mp-apple-2021-09-18-18-16-25&rct=j&q=&esrc=s&sa=U&ved=0ahUKEwji4aDWo8P-AhWCLrkGHS8zCgYQgOUECLgS&usg=AOvVaw2xYHKCRwSIjJH8EFAvwK5C'), (\"iphone 12 apple (64gb) azul, tela de 6,1'', 5g e câmera dupla de 12 mp\", 4524.0, 'https://www.google.com/url?url=https://loja.stentor.com.br/shop/produto.php%3Fid%3D62513&rct=j&q=&esrc=s&sa=U&ved=0ahUKEwji4aDWo8P-AhWCLrkGHS8zCgYQgOUECMcS&usg=AOvVaw3aCsiohvbwHnl6XliiyVeS'), ('novo apple iphone 12 (64 gb, preto)', 4302.54, 'https://www.google.com/url?url=https://www.shopmultimax.com.br/produto/iphone-12-apple-64gb-tela-de-61-ios/5280946%3FIdSku%3D4571858%26srsltid%3DAfAwrE5uNv-M96M5GhDzsJnAO-KR62RjPcdhP2_TBqG85pu7ChpH7aDcRdE&rct=j&q=&esrc=s&sa=U&ved=0ahUKEwji4aDWo8P-AhWCLrkGHS8zCgYQguUECOYS&usg=AOvVaw0_qb4UV8SFfeYG0jL3zeIu'), ('iphone 12 64gb branco + brinde', 4429.0, 'https://www.google.com/url?url=https://www.malibushop.com.br/apple/iphone-12-64gb-branco-brinde%3Fparceiro%3D1538%26srsltid%3DAfAwrE5gH0XS2i9oB1EHnH8yHVu-CMYmY5epVkDTnKL5kMb_yxvTgZ30vuU&rct=j&q=&esrc=s&sa=U&ved=0ahUKEwji4aDWo8P-AhWCLrkGHS8zCgYQgOUECKIT&usg=AOvVaw25iZRDif5suTXS4VwzlrOj'), ('(seminovo) iphone 12 apple azul, 64gb', 3144.15, 'https://www.google.com/url?url=https://www.taqi.com.br/seminovo-iphone12-apple-azul64gb-nacional/220673%3Fsrsltid%3DAfAwrE49BmgKUIpeud8JduIL1jJVdrJm5BwRX1Z7ZY12u-IYJKGqJTxVlNM&rct=j&q=&esrc=s&sa=U&ved=0ahUKEwji4aDWo8P-AhWCLrkGHS8zCgYQgOUECPAT&usg=AOvVaw1ku7rPYMJ13PCuBzxk7nAJ')]\n"
     ]
    },
    {
     "name": "stdout",
     "output_type": "stream",
     "text": [
      "[('smartphone apple iphone 12 64gb câmera dupla', 3252.0, 'https://www.buscape.com.br/celular/smartphone-apple-iphone-12-64gb-ios?_lc=88&searchterm=iphone%2012%2064%20gb'), ('smartphone apple iphone 12 vermelho 64gb câmera dupla', 3779.1, 'https://www.buscape.com.br/celular/smartphone-apple-iphone-12-vermelho-64gb-ios?_lc=88&searchterm=iphone%2012%2064%20gb'), ('smartphone apple iphone 12 usado 64gb câmera dupla', 2464.15, 'https://www.buscape.com.br/celular/smartphone-apple-iphone-12-usado-64gb-camera-dupla?_lc=88&searchterm=iphone%2012%2064%20gb')]\n"
     ]
    }
   ],
   "source": [
    "#Definições de variaveis\n",
    "produto = 'iphone 12 64 gb'\n",
    "termos_banidos = \"mini watch\"\n",
    "preco_minimo = 2000\n",
    "preco_maximo = 6000\n",
    "\n",
    "\n",
    "lista_ofertas_google_shopping = busca_google_shopping(nav, produto, termos_banidos, preco_minimo, preco_maximo)\n",
    "print(lista_ofertas_google_shopping)\n",
    "\n",
    "lista_ofertas_buscape = busca_buscape(nav, produto, termos_banidos, preco_minimo, preco_maximo)\n",
    "print(lista_ofertas_buscape)"
   ]
  }
 ],
 "metadata": {
  "kernelspec": {
   "display_name": "Python 3 (ipykernel)",
   "language": "python",
   "name": "python3"
  },
  "language_info": {
   "codemirror_mode": {
    "name": "ipython",
    "version": 3
   },
   "file_extension": ".py",
   "mimetype": "text/x-python",
   "name": "python",
   "nbconvert_exporter": "python",
   "pygments_lexer": "ipython3",
   "version": "3.9.13"
  }
 },
 "nbformat": 4,
 "nbformat_minor": 4
}
