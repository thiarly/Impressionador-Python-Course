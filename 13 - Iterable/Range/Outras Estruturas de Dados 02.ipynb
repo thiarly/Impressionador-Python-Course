{
 "cells": [
  {
   "cell_type": "markdown",
   "metadata": {},
   "source": [
    "# Range\n",
    "\n",
    "### Estrutura:\n",
    "\n",
    "- range(tamanho)\n",
    "\n",
    "ou \n",
    "\n",
    "- range(inicio, fim)\n",
    "\n",
    "ou\n",
    "\n",
    "- range(inicio, fim, passo)"
   ]
  },
  {
   "cell_type": "code",
   "execution_count": 24,
   "metadata": {},
   "outputs": [
    {
     "name": "stdout",
     "output_type": "stream",
     "text": [
      "arroz: 50 unidades em estoque.\n",
      "feijao: 100 unidades em estoque.\n",
      "macarrao: 20 unidades em estoque.\n",
      "atum: 5 unidades em estoque.\n",
      "azeite: 80 unidades em estoque.\n"
     ]
    }
   ],
   "source": [
    "#uso mais comum no for:\n",
    "produtos = ['arroz', 'feijao', 'macarrao', 'atum', 'azeite']\n",
    "estoque = [50, 100, 20, 5, 80]\n",
    "\n",
    "for i in range(5):\n",
    "    print('{}: {} unidades em estoque.'.format(produtos[i], estoque[i]))"
   ]
  },
  {
   "cell_type": "code",
   "execution_count": 32,
   "metadata": {},
   "outputs": [
    {
     "name": "stdout",
     "output_type": "stream",
     "text": [
      "range(1, 10)\n",
      "feijao: 100 unidades em estoque.\n",
      "macarrao: 20 unidades em estoque.\n",
      "atum: 5 unidades em estoque.\n"
     ]
    }
   ],
   "source": [
    "#range com inicio e fim\n",
    "print(range(1, 10))\n",
    "\n",
    "#vamos olhar no for para entender\n",
    "for i in range(1, 4):\n",
    "    print('{}: {} unidades em estoque.'.format(produtos[i], estoque[i]))"
   ]
  },
  {
   "cell_type": "markdown",
   "metadata": {},
   "source": [
    "- Exemplo: Modelo Jack Welch da G&E\n",
    "\n",
    "    1. Classe A: 10% melhor\n",
    "    2. Classe B: 80% mantém/busca melhorar\n",
    "    3. Classe C: 10% pior\n",
    "    \n",
    "Quem são os funcionários classe B?"
   ]
  },
  {
   "cell_type": "code",
   "execution_count": 49,
   "metadata": {},
   "outputs": [
    {
     "name": "stdout",
     "output_type": "stream",
     "text": [
      "10% melhor Maria - R$ 2750\n",
      "10% melhor José - R$ 1900\n",
      "80% mantém/busca melhorar Antônio - R$ 1500\n",
      "80% mantém/busca melhorar João - R$ 1200\n",
      "80% mantém/busca melhorar Francisco - R$ 1111\n",
      "80% mantém/busca melhorar Ana - R$ 1100\n",
      "80% mantém/busca melhorar Luiz - R$ 999\n",
      "80% mantém/busca melhorar Paulo - R$ 900\n",
      "80% mantém/busca melhorar Carlos - R$ 880\n",
      "80% mantém/busca melhorar Manoel - R$ 870\n",
      "80% mantém/busca melhorar Pedro - R$ 800\n",
      "80% mantém/busca melhorar Francisca - R$ 800\n",
      "80% mantém/busca melhorar Marcos - R$ 450\n",
      "80% mantém/busca melhorar Raimundo - R$ 400\n",
      "80% mantém/busca melhorar Sebastião - R$ 300\n",
      "80% mantém/busca melhorar Antônia - R$ 300\n",
      "80% mantém/busca melhorar Marcelo - R$ 120\n",
      "80% mantém/busca melhorar Jorge - R$ 90\n",
      "10% pior Márcia - R$ 80\n",
      "10% pior Geraldo - R$ 70\n"
     ]
    }
   ],
   "source": [
    "funcionarios = ['Maria', 'José', 'Antônio', 'João', 'Francisco', 'Ana', 'Luiz', 'Paulo', 'Carlos', 'Manoel', 'Pedro', 'Francisca', 'Marcos', 'Raimundo', 'Sebastião', 'Antônia', 'Marcelo', 'Jorge', 'Márcia', 'Geraldo']\n",
    "vendas = [2750, 1900, 1500, 1200, 1111, 1100, 999, 900, 880, 870, 800, 800, 450, 400, 300, 300, 120, 90, 80, 70]\n",
    "\n",
    "qtde = len(funcionarios)\n",
    "for i in range(0,2):\n",
    "    print('10% melhor {} - R$ {}'.format(funcionarios[i], vendas[i]))\n",
    "for i in range(2,18):\n",
    "    print('80% mantém/busca melhorar {} - R$ {}'.format(funcionarios[i], vendas[i]))\n",
    "for i in range(18,20):\n",
    "    print('10% pior {} - R$ {}'.format(funcionarios[i], vendas[i]))\n"
   ]
  },
  {
   "cell_type": "code",
   "execution_count": 52,
   "metadata": {},
   "outputs": [
    {
     "name": "stdout",
     "output_type": "stream",
     "text": [
      "range(0, 1000, 100)\n",
      "0\n",
      "100\n",
      "200\n",
      "300\n",
      "400\n",
      "500\n",
      "600\n",
      "700\n",
      "800\n",
      "900\n"
     ]
    }
   ],
   "source": [
    "#range com passo\n",
    "print(range(0, 1000, 100))\n",
    "\n",
    "for i in range(0, 1000, 100):\n",
    "    print(i)"
   ]
  }
 ],
 "metadata": {
  "kernelspec": {
   "display_name": "Python 3 (ipykernel)",
   "language": "python",
   "name": "python3"
  },
  "language_info": {
   "codemirror_mode": {
    "name": "ipython",
    "version": 3
   },
   "file_extension": ".py",
   "mimetype": "text/x-python",
   "name": "python",
   "nbconvert_exporter": "python",
   "pygments_lexer": "ipython3",
   "version": "3.9.13"
  }
 },
 "nbformat": 4,
 "nbformat_minor": 4
}
