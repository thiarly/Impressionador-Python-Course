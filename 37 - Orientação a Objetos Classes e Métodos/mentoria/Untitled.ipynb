{
 "cells": [
  {
   "cell_type": "code",
   "execution_count": 2,
   "id": "8e3c1081",
   "metadata": {},
   "outputs": [],
   "source": [
    "import pyautogui\n",
    "import pyperclip\n",
    "import time"
   ]
  },
  {
   "cell_type": "code",
   "execution_count": 3,
   "id": "1163bdb3",
   "metadata": {},
   "outputs": [
    {
     "name": "stdout",
     "output_type": "stream",
     "text": [
      "pegando posicao em 5 segundos\n",
      "pegando posicao em 4 segundos\n",
      "pegando posicao em 3 segundos\n",
      "pegando posicao em 2 segundos\n",
      "pegando posicao em 1 segundos\n",
      "Point(x=115, y=182)\n"
     ]
    }
   ],
   "source": [
    "# pegando a posicao de um elemento\n",
    "for i in range(5):\n",
    "    print(f\"pegando posicao em {5 - i} segundos\")\n",
    "    time.sleep(1)\n",
    "    \n",
    "print(pyautogui.position())"
   ]
  },
  {
   "cell_type": "code",
   "execution_count": null,
   "id": "46b8e423",
   "metadata": {},
   "outputs": [],
   "source": [
    "class MeuRobo():\n",
    "    def __init__(self, tempo_espera):\n",
    "        self.tempo_espera = tempo_espera\n",
    "        pyautogui.PAUSE =1\n",
    "    def abrir_programa(self, nome_programa):\n",
    "        pyautogui.hotkey('f4')\n",
    "        pyautogui.write(nome_programa)\n",
    "        pyautogui.press(\"enter\")"
   ]
  },
  {
   "cell_type": "code",
   "execution_count": null,
   "id": "253c494f",
   "metadata": {},
   "outputs": [
    {
     "ename": "<class 'NameError'>",
     "evalue": "name 'pyautogui' is not defined",
     "output_type": "error",
     "traceback": [
      "\u001b[0;31m---------------------------------------------------------------------------\u001b[0m",
      "\u001b[0;31mNameError\u001b[0m                                 Traceback (most recent call last)",
      "Cell \u001b[0;32mIn[6], line 1\u001b[0m\n\u001b[0;32m----> 1\u001b[0m robo \u001b[38;5;241m=\u001b[39m \u001b[43mMeuRobo\u001b[49m\u001b[43m(\u001b[49m\u001b[38;5;241;43m3\u001b[39;49m\u001b[43m)\u001b[49m\n\u001b[1;32m      2\u001b[0m robo\u001b[38;5;241m.\u001b[39mabrir_programa(\u001b[38;5;124m\"\u001b[39m\u001b[38;5;124mgoogle\u001b[39m\u001b[38;5;124m\"\u001b[39m)\n",
      "Cell \u001b[0;32mIn[4], line 4\u001b[0m, in \u001b[0;36mMeuRobo.__init__\u001b[0;34m(self, tempo_espera)\u001b[0m\n\u001b[1;32m      2\u001b[0m \u001b[38;5;28;01mdef\u001b[39;00m \u001b[38;5;21m__init__\u001b[39m(\u001b[38;5;28mself\u001b[39m, tempo_espera):\n\u001b[1;32m      3\u001b[0m     \u001b[38;5;28mself\u001b[39m\u001b[38;5;241m.\u001b[39mtempo_espera \u001b[38;5;241m=\u001b[39m tempo_espera\n\u001b[0;32m----> 4\u001b[0m     \u001b[43mpyautogui\u001b[49m\u001b[38;5;241m.\u001b[39mPAUSE \u001b[38;5;241m=\u001b[39m\u001b[38;5;241m1\u001b[39m\n",
      "\u001b[0;31mNameError\u001b[0m: name 'pyautogui' is not defined"
     ]
    }
   ],
   "source": [
    "robo = MeuRobo(3)\n",
    "robo.abrir_programa(\"google\")"
   ]
  }
 ],
 "metadata": {
  "kernelspec": {
   "display_name": "Python 3 (ipykernel)",
   "language": "python",
   "name": "python3"
  },
  "language_info": {
   "codemirror_mode": {
    "name": "ipython",
    "version": 3
   },
   "file_extension": ".py",
   "mimetype": "text/x-python",
   "name": "python",
   "nbconvert_exporter": "python",
   "pygments_lexer": "ipython3",
   "version": "3.9.13"
  }
 },
 "nbformat": 4,
 "nbformat_minor": 5
}
