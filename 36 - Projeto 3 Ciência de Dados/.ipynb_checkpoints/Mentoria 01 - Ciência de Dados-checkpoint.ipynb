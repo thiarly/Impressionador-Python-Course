{
 "cells": [
  {
   "cell_type": "markdown",
   "metadata": {
    "id": "qAY-krHX6alh"
   },
   "source": [
    "# Ciência de Dados\n",
    "\n",
    "### O que é?\n",
    "\n",
    "- É você usar os dados/informações do negócio para extrair informações valiosas e ajudar na tomada de decisão.\n",
    "- De forma simples e o que é usado em muitas empresas -> É você resolver um desafio da empresa/do negócio usando os dados disponíveis\n",
    "- O certo seria: Ciência de Dados tá preocupado em resolver os desafios do negócio e saber o que fazer no futuro, fazer alguma previsão que vai ajudar a tomar o rumo da empresa e o Business Intelligence tá em descrever como as coisas funcionaram/funcionaram até aqui\n",
    "\n",
    "### Diferença de Ciência de Dados e Machine Learning\n",
    "\n",
    "- Machine Learning faz parte da Ciência de Dados, é um modelo disponível para ajudar a prever alguma coisa.\n",
    "\n",
    "### Onde podemos aplicar Ciência de Dados\n",
    "\n",
    "- Em qualquer empresa basicamente, afinal, todas as empresas tem dados disponíveis.\n",
    "- Mas na prática, podemos aplicar em todo lugar porque o objetivo é resolver um desafio do negócio usando dados. Então em qualquer empresa que você consiga usar os dados disponíveis para resolver um desafio da empresa, você pode aplicar Ciência de Dados\n",
    "\n",
    "### Como funciona um Projeto de Ciência de Dados na prática\n",
    "\n",
    "São várias etapas importantes, de forma bem completa:\n",
    "\n",
    "1. Entendimento do Desafio que você quer resolver\n",
    "2. Entendimento da Empresa/Área\n",
    "3. Extração/Obtenção de Dados\n",
    "4. Ajustes de Dados (Limpeza de Dados)\n",
    "5. Análise Exploratória\n",
    "6. Modelagem + Algoritmos\n",
    "7. Interpretação dos Resultados\n",
    "8. Deploy/Produção\n",
    "\n",
    "### Onde o Python entra no meio disso tudo?\n",
    "\n",
    "O Python é a ferramenta que vai te permitir fazer isso tudo, desde o 3 até o 8\n",
    "\n",
    "### Mostrando um Projeto de Ciência de Dados Completo na Prática\n",
    "\n",
    "- Recomendação -> Kaggle\n",
    "- Vamos ver como funciona na prática (não tente entender o código, tente entender os passos)\n",
    "\n",
    "### O que vamos ter no Programa Python Impressionador de Ciência de Dados\n",
    "\n",
    "- 1 Projeto Completo, do 1 ao 8 em Ciência de Dados\n",
    "- Outros módulos que vão te ajudar em várias outras etapas específicas (Ex: integração Python com SQL para o Ponto 3)"
   ]
  },
  {
   "cell_type": "code",
   "execution_count": null,
   "metadata": {
    "id": "skXPObgr6alz"
   },
   "outputs": [],
   "source": []
  }
 ],
 "metadata": {
  "colab": {
   "provenance": []
  },
  "kernelspec": {
   "display_name": "Python 3 (ipykernel)",
   "language": "python",
   "name": "python3"
  },
  "language_info": {
   "codemirror_mode": {
    "name": "ipython",
    "version": 3
   },
   "file_extension": ".py",
   "mimetype": "text/x-python",
   "name": "python",
   "nbconvert_exporter": "python",
   "pygments_lexer": "ipython3",
   "version": "3.9.13"
  }
 },
 "nbformat": 4,
 "nbformat_minor": 1
}
