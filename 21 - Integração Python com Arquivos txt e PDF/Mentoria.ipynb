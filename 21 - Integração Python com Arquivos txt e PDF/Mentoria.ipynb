{
 "cells": [
  {
   "cell_type": "code",
   "execution_count": 3,
   "id": "ccaf6ca7",
   "metadata": {},
   "outputs": [
    {
     "name": "stdout",
     "output_type": "stream",
     "text": [
      "Requirement already satisfied: python-docx in c:\\users\\joaol\\anaconda3\\lib\\site-packages (0.8.11)\n",
      "Requirement already satisfied: lxml>=2.3.2 in c:\\users\\joaol\\anaconda3\\lib\\site-packages (from python-docx) (4.6.3)\n"
     ]
    }
   ],
   "source": [
    "# !pip install python-docx"
   ]
  },
  {
   "cell_type": "code",
   "execution_count": 20,
   "id": "bf67c636",
   "metadata": {},
   "outputs": [],
   "source": [
    "from docx import Document\n",
    "\n",
    "# criando o documento no Python\n",
    "documento = Document()\n",
    "\n",
    "faturamento = 1000\n",
    "\n",
    "# aqui você edita tudo o que você quer\n",
    "texto = f\"\"\"Fala Lira,\n",
    "\n",
    "O faturamento da empresa ontem foi de R${faturamento}\n",
    "\n",
    "Tamo junto, abs.\n",
    "\"\"\"\n",
    "\n",
    "paragrafo = documento.add_paragraph(texto) "
   ]
  },
  {
   "cell_type": "markdown",
   "id": "1a5b69f8",
   "metadata": {},
   "source": [
    "### formatação"
   ]
  },
  {
   "cell_type": "code",
   "execution_count": 21,
   "id": "8e3207de",
   "metadata": {},
   "outputs": [],
   "source": [
    "from docx.shared import Pt, RGBColor, Cm # valores de formatação\n",
    "from docx.enum.style import WD_STYLE_TYPE\n",
    "\n",
    "paragrafo.style = documento.styles.add_style(\"EstiloLira\", WD_STYLE_TYPE.PARAGRAPH)\n",
    "paragrafo.style.font.name = \"Algerian\"\n",
    "paragrafo.style.font.size = Pt(15)\n",
    "paragrafo.style.font.bold = True\n",
    "paragrafo.style.font.italic = True\n",
    "paragrafo.style.font.underline = True\n",
    "paragrafo.style.font.color.rgb = RGBColor(255, 0, 0)"
   ]
  },
  {
   "cell_type": "code",
   "execution_count": 22,
   "id": "5a150cf0",
   "metadata": {},
   "outputs": [],
   "source": [
    "paragrafo = documento.add_paragraph(\"PS: A quantidade de produtos vendidos foi de 10\", \"Heading 5\")"
   ]
  },
  {
   "cell_type": "code",
   "execution_count": 23,
   "id": "687d2e5d",
   "metadata": {},
   "outputs": [],
   "source": [
    "# implementando tudo que fizemos no Python no Texto.docx\n",
    "documento.save(\"Texto.docx\")"
   ]
  },
  {
   "cell_type": "markdown",
   "id": "f0594908",
   "metadata": {},
   "source": [
    "### Aproveitando um template do word"
   ]
  },
  {
   "cell_type": "code",
   "execution_count": 26,
   "id": "d8eb8f3c",
   "metadata": {},
   "outputs": [],
   "source": [
    "template = Document(\"template.docx\")"
   ]
  },
  {
   "cell_type": "code",
   "execution_count": 27,
   "id": "3585dc30",
   "metadata": {},
   "outputs": [],
   "source": [
    "paragrafo = template.add_paragraph(\"Contrato de Prestação de Serviço\", \"NovoEstiloABNT\")\n",
    "template.save(\"NovoArquivo.docx\")"
   ]
  },
  {
   "cell_type": "markdown",
   "id": "c8882757",
   "metadata": {},
   "source": [
    "### Adicionar texto com edição dentro do texto"
   ]
  },
  {
   "cell_type": "code",
   "execution_count": 29,
   "id": "6d4df1c6",
   "metadata": {},
   "outputs": [],
   "source": [
    "from docx import Document\n",
    "\n",
    "# criando o documento no Python\n",
    "documento = Document()\n",
    "\n",
    "faturamento = 1000\n",
    "\n",
    "# aqui você edita tudo o que você quer\n",
    "texto = f\"\"\"Fala Lira,\n",
    "\n",
    "O faturamento da empresa ontem foi de \"\"\"\n",
    "\n",
    "texto_final = \"Tamo junto, abs.\"\n",
    "\n",
    "\n",
    "paragrafo = documento.add_paragraph(texto) \n",
    "paragrafo.add_run(f\"R${faturamento}\").bold = True\n",
    "\n",
    "paragrafo = documento.add_paragraph(texto_final)\n",
    "\n",
    "documento.save(\"Texto.docx\")"
   ]
  },
  {
   "cell_type": "markdown",
   "id": "cf765499",
   "metadata": {},
   "source": [
    "### Controle de Margem e Seções"
   ]
  },
  {
   "cell_type": "code",
   "execution_count": 31,
   "id": "9021d67a",
   "metadata": {},
   "outputs": [],
   "source": [
    "from docx.enum.text import WD_PARAGRAPH_ALIGNMENT\n",
    "\n",
    "# criando o documento no Python\n",
    "documento = Document()\n",
    "\n",
    "for secao in documento.sections:\n",
    "    secao.top_margin = Cm(0.5)\n",
    "    secao.bottom_margin = Cm(1)\n",
    "    secao.left_margin = Cm(1)\n",
    "    secao.right_margin = Cm(1)\n",
    "\n",
    "\n",
    "faturamento = 1000\n",
    "\n",
    "# aqui você edita tudo o que você quer\n",
    "texto = f\"\"\"Fala Lira,\n",
    "\n",
    "O faturamento da empresa ontem foi de R${faturamento}\n",
    "\n",
    "Tamo junto, abs.\n",
    "\"\"\"\n",
    "\n",
    "paragrafo = documento.add_paragraph(texto) \n",
    "paragrafo.alignment = WD_PARAGRAPH_ALIGNMENT.CENTER\n",
    "\n",
    "documento.save(\"Texto.docx\")"
   ]
  },
  {
   "cell_type": "markdown",
   "id": "aeea7253",
   "metadata": {},
   "source": [
    "### Inserir Imagem"
   ]
  },
  {
   "cell_type": "code",
   "execution_count": 33,
   "id": "5598ac32",
   "metadata": {},
   "outputs": [],
   "source": [
    "# criando o documento no Python\n",
    "documento = Document()\n",
    "\n",
    "for secao in documento.sections:\n",
    "    secao.top_margin = Cm(0.5)\n",
    "    secao.bottom_margin = Cm(1)\n",
    "    secao.left_margin = Cm(1)\n",
    "    secao.right_margin = Cm(1)\n",
    "\n",
    "\n",
    "faturamento = 1000\n",
    "\n",
    "# aqui você edita tudo o que você quer\n",
    "texto = f\"\"\"Fala Lira,\n",
    "\n",
    "O faturamento da empresa ontem foi de R${faturamento}\n",
    "\n",
    "Tamo junto, abs.\n",
    "\"\"\"\n",
    "\n",
    "paragrafo = documento.add_paragraph(texto)\n",
    "\n",
    "imagem = documento.add_picture(\"imagem.png\", width=Cm(4), height=Cm(4))\n",
    "\n",
    "documento.save(\"Texto.docx\")"
   ]
  },
  {
   "cell_type": "markdown",
   "id": "661c1e80",
   "metadata": {},
   "source": [
    "### Inserir Tabela"
   ]
  },
  {
   "cell_type": "code",
   "execution_count": 37,
   "id": "a4b402fc",
   "metadata": {},
   "outputs": [],
   "source": [
    "documento = Document()\n",
    "\n",
    "records = (\n",
    "    (3, '101', 'Spam'),\n",
    "    (7, '422', 'Eggs'),\n",
    "    (4, '631', 'Spam, spam, eggs, and spam')\n",
    ")\n",
    "\n",
    "table = documento.add_table(rows=1, cols=3, style=\"Light Grid Accent 1\")\n",
    "hdr_cells = table.rows[0].cells\n",
    "hdr_cells[0].text = 'Qty'\n",
    "hdr_cells[1].text = 'Id'\n",
    "hdr_cells[2].text = 'Desc'\n",
    "for qty, id, desc in records:\n",
    "    row_cells = table.add_row().cells\n",
    "    row_cells[0].text = str(qty)\n",
    "    row_cells[1].text = id\n",
    "    row_cells[2].text = desc\n",
    "    \n",
    "    \n",
    "documento.save(\"Texto.docx\")"
   ]
  },
  {
   "cell_type": "markdown",
   "id": "b4a01b8b",
   "metadata": {},
   "source": [
    "### Para verificar todos os estilos de um arquivo:"
   ]
  },
  {
   "cell_type": "code",
   "execution_count": null,
   "id": "1a4bb04f",
   "metadata": {},
   "outputs": [],
   "source": [
    "for estilo in documento.styles:\n",
    "    print(estilo)"
   ]
  },
  {
   "cell_type": "markdown",
   "id": "515bc559",
   "metadata": {},
   "source": [
    "### Adaptar um documento"
   ]
  },
  {
   "cell_type": "code",
   "execution_count": 42,
   "id": "a17586bb",
   "metadata": {},
   "outputs": [],
   "source": [
    "from datetime import datetime\n",
    "\n",
    "contrato = Document(\"Contrato.docx\")\n",
    "\n",
    "nome = \"Lira da Hashtag\"\n",
    "item1 = \"Serviço de Treinamento em Excel\"\n",
    "item2 = \"Apostila Completa de Excel\"\n",
    "item3 = \"Serviço de Treinamentos de Python\"\n",
    "\n",
    "dicionario_valores = {\n",
    "    \"XXXX\": nome,\n",
    "    \"YYYY\": item1,\n",
    "    \"ZZZZ\": item2,\n",
    "    \"WWWW\": item3,\n",
    "    \"DD\": str(datetime.now().day),\n",
    "    \"MM\": str(datetime.now().month),\n",
    "    \"AAAA\": str(datetime.now().year),\n",
    "}\n",
    "\n",
    "# tem alguma função replace? -> é executada por parágrafo\n",
    "# percorrer as linhas\n",
    "    # se a linha tiver o texto xxxx substitui pelo nome\n",
    "for paragrafo in contrato.paragraphs:\n",
    "    # para cada placeholder do dicionario\n",
    "    for codigo in dicionario_valores:\n",
    "        if codigo in paragrafo.text:\n",
    "            paragrafo.text = paragrafo.text.replace(codigo, dicionario_valores[codigo])\n",
    "\n",
    "contrato.save(f\"Contrato Atualizado - {nome}.docx\")"
   ]
  },
  {
   "cell_type": "code",
   "execution_count": null,
   "id": "a97d49ce",
   "metadata": {},
   "outputs": [],
   "source": []
  }
 ],
 "metadata": {
  "kernelspec": {
   "display_name": "Python 3 (ipykernel)",
   "language": "python",
   "name": "python3"
  },
  "language_info": {
   "codemirror_mode": {
    "name": "ipython",
    "version": 3
   },
   "file_extension": ".py",
   "mimetype": "text/x-python",
   "name": "python",
   "nbconvert_exporter": "python",
   "pygments_lexer": "ipython3",
   "version": "3.9.7"
  }
 },
 "nbformat": 4,
 "nbformat_minor": 5
}
